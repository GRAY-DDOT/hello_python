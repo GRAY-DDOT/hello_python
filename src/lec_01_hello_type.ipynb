{
 "cells": [
  {
   "metadata": {},
   "cell_type": "markdown",
   "source": [
    "# 1. 기본 사용법\n",
    "\n",
    "## 1-1 기출 입출력"
   ],
   "id": "924a611f8c04b07a"
  },
  {
   "cell_type": "code",
   "id": "initial_id",
   "metadata": {
    "collapsed": true,
    "ExecuteTime": {
     "end_time": "2024-11-24T07:52:13.087351Z",
     "start_time": "2024-11-24T07:52:13.083552Z"
    }
   },
   "source": [
    "# 기본 출력\n",
    "print(\"hello\")"
   ],
   "outputs": [
    {
     "name": "stdout",
     "output_type": "stream",
     "text": [
      "hello\n"
     ]
    }
   ],
   "execution_count": 1
  },
  {
   "metadata": {
    "ExecuteTime": {
     "end_time": "2024-11-24T07:52:15.768603Z",
     "start_time": "2024-11-24T07:52:13.202864Z"
    }
   },
   "cell_type": "code",
   "source": [
    "# 기본 입력\n",
    "intput = input(\"입력 {0}\".format(1))"
   ],
   "id": "39e8d7b700ff43f8",
   "outputs": [
    {
     "ename": "KeyboardInterrupt",
     "evalue": "Interrupted by user",
     "output_type": "error",
     "traceback": [
      "\u001B[0;31m---------------------------------------------------------------------------\u001B[0m",
      "\u001B[0;31mKeyboardInterrupt\u001B[0m                         Traceback (most recent call last)",
      "Cell \u001B[0;32mIn[2], line 2\u001B[0m\n\u001B[1;32m      1\u001B[0m \u001B[38;5;66;03m# 기본 입력\u001B[39;00m\n\u001B[0;32m----> 2\u001B[0m intput \u001B[38;5;241m=\u001B[39m \u001B[38;5;28;43minput\u001B[39;49m\u001B[43m(\u001B[49m\u001B[38;5;124;43m\"\u001B[39;49m\u001B[38;5;124;43m입력 \u001B[39;49m\u001B[38;5;132;43;01m{0}\u001B[39;49;00m\u001B[38;5;124;43m\"\u001B[39;49m\u001B[38;5;241;43m.\u001B[39;49m\u001B[43mformat\u001B[49m\u001B[43m(\u001B[49m\u001B[38;5;241;43m1\u001B[39;49m\u001B[43m)\u001B[49m\u001B[43m)\u001B[49m\n",
      "File \u001B[0;32m~/dev_training/PythonStudy/hello_python/.venv/lib/python3.12/site-packages/ipykernel/kernelbase.py:1282\u001B[0m, in \u001B[0;36mKernel.raw_input\u001B[0;34m(self, prompt)\u001B[0m\n\u001B[1;32m   1280\u001B[0m     msg \u001B[38;5;241m=\u001B[39m \u001B[38;5;124m\"\u001B[39m\u001B[38;5;124mraw_input was called, but this frontend does not support input requests.\u001B[39m\u001B[38;5;124m\"\u001B[39m\n\u001B[1;32m   1281\u001B[0m     \u001B[38;5;28;01mraise\u001B[39;00m StdinNotImplementedError(msg)\n\u001B[0;32m-> 1282\u001B[0m \u001B[38;5;28;01mreturn\u001B[39;00m \u001B[38;5;28;43mself\u001B[39;49m\u001B[38;5;241;43m.\u001B[39;49m\u001B[43m_input_request\u001B[49m\u001B[43m(\u001B[49m\n\u001B[1;32m   1283\u001B[0m \u001B[43m    \u001B[49m\u001B[38;5;28;43mstr\u001B[39;49m\u001B[43m(\u001B[49m\u001B[43mprompt\u001B[49m\u001B[43m)\u001B[49m\u001B[43m,\u001B[49m\n\u001B[1;32m   1284\u001B[0m \u001B[43m    \u001B[49m\u001B[38;5;28;43mself\u001B[39;49m\u001B[38;5;241;43m.\u001B[39;49m\u001B[43m_parent_ident\u001B[49m\u001B[43m[\u001B[49m\u001B[38;5;124;43m\"\u001B[39;49m\u001B[38;5;124;43mshell\u001B[39;49m\u001B[38;5;124;43m\"\u001B[39;49m\u001B[43m]\u001B[49m\u001B[43m,\u001B[49m\n\u001B[1;32m   1285\u001B[0m \u001B[43m    \u001B[49m\u001B[38;5;28;43mself\u001B[39;49m\u001B[38;5;241;43m.\u001B[39;49m\u001B[43mget_parent\u001B[49m\u001B[43m(\u001B[49m\u001B[38;5;124;43m\"\u001B[39;49m\u001B[38;5;124;43mshell\u001B[39;49m\u001B[38;5;124;43m\"\u001B[39;49m\u001B[43m)\u001B[49m\u001B[43m,\u001B[49m\n\u001B[1;32m   1286\u001B[0m \u001B[43m    \u001B[49m\u001B[43mpassword\u001B[49m\u001B[38;5;241;43m=\u001B[39;49m\u001B[38;5;28;43;01mFalse\u001B[39;49;00m\u001B[43m,\u001B[49m\n\u001B[1;32m   1287\u001B[0m \u001B[43m\u001B[49m\u001B[43m)\u001B[49m\n",
      "File \u001B[0;32m~/dev_training/PythonStudy/hello_python/.venv/lib/python3.12/site-packages/ipykernel/kernelbase.py:1325\u001B[0m, in \u001B[0;36mKernel._input_request\u001B[0;34m(self, prompt, ident, parent, password)\u001B[0m\n\u001B[1;32m   1322\u001B[0m \u001B[38;5;28;01mexcept\u001B[39;00m \u001B[38;5;167;01mKeyboardInterrupt\u001B[39;00m:\n\u001B[1;32m   1323\u001B[0m     \u001B[38;5;66;03m# re-raise KeyboardInterrupt, to truncate traceback\u001B[39;00m\n\u001B[1;32m   1324\u001B[0m     msg \u001B[38;5;241m=\u001B[39m \u001B[38;5;124m\"\u001B[39m\u001B[38;5;124mInterrupted by user\u001B[39m\u001B[38;5;124m\"\u001B[39m\n\u001B[0;32m-> 1325\u001B[0m     \u001B[38;5;28;01mraise\u001B[39;00m \u001B[38;5;167;01mKeyboardInterrupt\u001B[39;00m(msg) \u001B[38;5;28;01mfrom\u001B[39;00m \u001B[38;5;28;01mNone\u001B[39;00m\n\u001B[1;32m   1326\u001B[0m \u001B[38;5;28;01mexcept\u001B[39;00m \u001B[38;5;167;01mException\u001B[39;00m:\n\u001B[1;32m   1327\u001B[0m     \u001B[38;5;28mself\u001B[39m\u001B[38;5;241m.\u001B[39mlog\u001B[38;5;241m.\u001B[39mwarning(\u001B[38;5;124m\"\u001B[39m\u001B[38;5;124mInvalid Message:\u001B[39m\u001B[38;5;124m\"\u001B[39m, exc_info\u001B[38;5;241m=\u001B[39m\u001B[38;5;28;01mTrue\u001B[39;00m)\n",
      "\u001B[0;31mKeyboardInterrupt\u001B[0m: Interrupted by user"
     ]
    }
   ],
   "execution_count": 2
  },
  {
   "metadata": {},
   "cell_type": "code",
   "outputs": [],
   "execution_count": null,
   "source": [
    "# 한 줄 주석입니다.\n",
    "\"\"\"\n",
    "여러 줄\n",
    "주석\n",
    "\"\"\""
   ],
   "id": "f3d0dfe5008a16a0"
  },
  {
   "metadata": {},
   "cell_type": "markdown",
   "source": [
    "## 1-2 주피터 단축키\n",
    "\n",
    "### 1) 셀 선택 모드 (Command Mode)\n",
    "- esc or ctrl + m : 셀 선택 모드 전환\n",
    "- a : 위로 셀 추가\n",
    "- b : 아래로 셀 추가\n",
    "- dd : 선택 셀 삭제\n",
    "- x : 선택 셀 잘라내기 \n",
    "- c : 선택 셀 복사하기\n",
    "- p : 선택 셀 아래에 붙여넣기\n",
    "- shift + m: 선택 셀과 아래 셀과 합치기\n",
    "- o : 실행결과 열기/닫기\n",
    "- m : Markdown으로 변경\n",
    "- y : Code로 변경\n",
    "- ctrl + s or s : 파일 저장\n",
    "- enter : 선택 셀의 코드 입력 모드로 돌아가기\n",
    "\n",
    "### 2) 코드 입력 모드 (Edit Mode)\n",
    "- ctrl + a : 선택 셀의 코드 전체 선택\n",
    "- ctrl + z : 선택 셀 내 실행 취소\n",
    "- ctrl + y : 선택 셀 내 다시 실행\n",
    "- ctrl + / : 커서 위치 라인 주석처리\n",
    "- ctrl + enter : 선택 셀 코드 실행\n",
    "- shift + enter : 선택 셀 코드 실행 후 다음 Cell로 이동 (없으면 새로 추가)\n",
    "- shift + ctrl + - : 커서 위치에서 셀 둘로 나누기\n",
    "- ctrl + s : 파일 저장\n",
    "- esc or ctrl + m : 셀 선택 모드로 돌아가기\n",
    "- enter : 줄 바꿈\n",
    "- alt 위아래 방향키 : 셀 이동"
   ],
   "id": "9216480d83796bcb"
  },
  {
   "metadata": {},
   "cell_type": "markdown",
   "source": [
    "## 1-3 변수, 타입\n",
    "[공식 문서](https://docs.python.org/ko/3.13/library/stdtypes.html)\n",
    "1. 숫자(Numerical Type)\n",
    "    1. 정수(int)\n",
    "    2. 실수(folat)\n",
    "    3. 복소수(complex)\n",
    "2. 논리형(Boolean)\n",
    "3. 시퀀스(Sequence Type)\n",
    "    1. 리스트(list)\n",
    "    2. 튜플(tuple)\n",
    "    3. 레인지(range)\n",
    "4. 문자열(String) - 텍스트 시퀀스\n",
    "5. 세트(Set Type)\n",
    "    1. 셋(세트, set)\n",
    "    ~~2. 프로즌 셋~~\n",
    "6. 매핑(Mapping Type)\n",
    "    1. 딕셔너리(dict)\n",
    "7. 바이너리 시퀀스(Binary Sequence Type)\n",
    "8. 기타(Other Built-in Types)\n",
    "    1. 모듈\n",
    "    2. 클래스\n",
    "    3. 함수\n",
    "    4. 메서드\n",
    "    5. 코드\n",
    "    6. 오브젝트(객체)\n",
    "그외 생략\n",
    "\n",
    "\n"
   ],
   "id": "eb231d03c0f0498b"
  },
  {
   "metadata": {},
   "cell_type": "markdown",
   "source": "",
   "id": "bd894df76cd9e693"
  },
  {
   "metadata": {
    "ExecuteTime": {
     "end_time": "2024-11-24T07:52:15.788462Z",
     "start_time": "2024-11-24T05:42:50.605128Z"
    }
   },
   "cell_type": "code",
   "source": [
    "# 타입 출력과 연산 출력을 위한 함수\n",
    "def describe_type(value):\n",
    "    print(f\"Type: {type(value)}\")\n",
    "    print(f\"Value: {value}\\n\")"
   ],
   "id": "6830869a5824d4c1",
   "outputs": [],
   "execution_count": 18
  },
  {
   "metadata": {
    "ExecuteTime": {
     "end_time": "2024-11-24T07:52:15.790922Z",
     "start_time": "2024-11-24T05:43:03.613730Z"
    }
   },
   "cell_type": "code",
   "source": [
    "# 1. 숫자형 (Numerical Types)\n",
    "# 1.1 정수(int)\n",
    "int_value = 42\n",
    "describe_type(int_value)\n",
    "print(\n",
    "    f\"Possible operations with int: {int_value + 10}, {int_value - 5}, {int_value * 2}, {int_value // 2}, {int_value ** 2}\\n\")"
   ],
   "id": "aaa381e94df75ab2",
   "outputs": [
    {
     "name": "stdout",
     "output_type": "stream",
     "text": [
      "Type: <class 'int'>\n",
      "Value: 42\n",
      "\n",
      "Possible operations with int: 52, 37, 84, 21, 1764\n",
      "\n"
     ]
    }
   ],
   "execution_count": 19
  },
  {
   "metadata": {
    "ExecuteTime": {
     "end_time": "2024-11-24T07:52:15.797406Z",
     "start_time": "2024-11-24T05:43:15.179393Z"
    }
   },
   "cell_type": "code",
   "source": [
    "# 1.2 실수(float)\n",
    "float_value = 3.14\n",
    "describe_type(float_value)\n",
    "print(\n",
    "    f\"Possible operations with float: {float_value + 1.0}, {float_value * 2}, {float_value / 2}, {float_value ** 2}\\n\")"
   ],
   "id": "75ec0c8cee566100",
   "outputs": [
    {
     "name": "stdout",
     "output_type": "stream",
     "text": [
      "Type: <class 'float'>\n",
      "Value: 3.14\n",
      "\n",
      "Possible operations with float: 4.140000000000001, 6.28, 1.57, 9.8596\n",
      "\n"
     ]
    }
   ],
   "execution_count": 20
  },
  {
   "metadata": {
    "ExecuteTime": {
     "end_time": "2024-11-24T07:52:15.798330Z",
     "start_time": "2024-11-24T05:43:27.265312Z"
    }
   },
   "cell_type": "code",
   "source": [
    "# 1.3 복소수(complex)\n",
    "complex_value = 2 + 3j\n",
    "describe_type(complex_value)\n",
    "print(\n",
    "    f\"Possible operations with complex: {complex_value + (1 + 2j)}, {complex_value * 2}, {complex_value.real}, {complex_value.imag}\\n\")"
   ],
   "id": "54f80192bec5357",
   "outputs": [
    {
     "name": "stdout",
     "output_type": "stream",
     "text": [
      "Type: <class 'complex'>\n",
      "Value: (2+3j)\n",
      "\n",
      "Possible operations with complex: (3+5j), (4+6j), 2.0, 3.0\n",
      "\n"
     ]
    }
   ],
   "execution_count": 21
  },
  {
   "metadata": {
    "ExecuteTime": {
     "end_time": "2024-11-24T07:52:15.798933Z",
     "start_time": "2024-11-24T05:43:38.983185Z"
    }
   },
   "cell_type": "code",
   "source": [
    "# 2. 논리형 (Boolean)\n",
    "bool_value = True\n",
    "describe_type(bool_value)\n",
    "print(\n",
    "    f\"Possible operations with bool: {bool_value and False}, {bool_value or False}, {not bool_value}, {bool_value * 3}\\n\")"
   ],
   "id": "9b8dedcbd181c4bb",
   "outputs": [
    {
     "name": "stdout",
     "output_type": "stream",
     "text": [
      "Type: <class 'bool'>\n",
      "Value: True\n",
      "\n",
      "Possible operations with bool: False, True, False, 3\n",
      "\n"
     ]
    }
   ],
   "execution_count": 22
  },
  {
   "metadata": {
    "ExecuteTime": {
     "end_time": "2024-11-24T07:52:15.811975Z",
     "start_time": "2024-11-24T05:43:55.418128Z"
    }
   },
   "cell_type": "code",
   "source": [
    "# 3. 시퀀스형 (Sequence Types)\n",
    "# 3.1 리스트(list)\n",
    "list_value = [1, 2, 3, 4]\n",
    "describe_type(list_value)\n",
    "list_value.append(5)\n",
    "print(\n",
    "    f\"Possible operations with list: {list_value}, {list_value[1]}, {list_value[-1]}, {list_value[:3]}, {len(list_value)}\\n\")"
   ],
   "id": "e4a32070393fc55d",
   "outputs": [
    {
     "name": "stdout",
     "output_type": "stream",
     "text": [
      "Type: <class 'list'>\n",
      "Value: [1, 2, 3, 4]\n",
      "\n",
      "Possible operations with list: [1, 2, 3, 4, 5], 2, 5, [1, 2, 3], 5\n",
      "\n"
     ]
    }
   ],
   "execution_count": 23
  },
  {
   "metadata": {
    "ExecuteTime": {
     "end_time": "2024-11-24T07:52:15.812527Z",
     "start_time": "2024-11-24T05:44:05.900942Z"
    }
   },
   "cell_type": "code",
   "source": [
    "# 3.2 튜플(tuple)\n",
    "tuple_value = (1, 2, 3, 4)\n",
    "describe_type(tuple_value)\n",
    "print(f\"Possible operations with tuple: {tuple_value}, {tuple_value[1]}, {tuple_value[-1]}, {len(tuple_value)}\\n\")"
   ],
   "id": "260328cdeba9ef99",
   "outputs": [
    {
     "name": "stdout",
     "output_type": "stream",
     "text": [
      "Type: <class 'tuple'>\n",
      "Value: (1, 2, 3, 4)\n",
      "\n",
      "Possible operations with tuple: (1, 2, 3, 4), 2, 4, 4\n",
      "\n"
     ]
    }
   ],
   "execution_count": 24
  },
  {
   "metadata": {
    "ExecuteTime": {
     "end_time": "2024-11-24T07:52:15.813272Z",
     "start_time": "2024-11-24T05:44:16.724819Z"
    }
   },
   "cell_type": "code",
   "source": [
    "# 3.3 레인지(range)\n",
    "range_value = range(5)\n",
    "describe_type(range_value)\n",
    "print(f\"Possible operations with range: {list(range_value)}, {list(range_value)[2]}, {len(range_value)}\\n\")"
   ],
   "id": "d6b6130fef21b7b3",
   "outputs": [
    {
     "name": "stdout",
     "output_type": "stream",
     "text": [
      "Type: <class 'range'>\n",
      "Value: range(0, 5)\n",
      "\n",
      "Possible operations with range: [0, 1, 2, 3, 4], 2, 5\n",
      "\n"
     ]
    }
   ],
   "execution_count": 25
  },
  {
   "metadata": {
    "ExecuteTime": {
     "end_time": "2024-11-24T07:52:15.814214Z",
     "start_time": "2024-11-24T05:44:25.155450Z"
    }
   },
   "cell_type": "code",
   "source": [
    "# 4. 문자열(String)\n",
    "string_value = \"Hello, Python!\"\n",
    "describe_type(string_value)\n",
    "print(\n",
    "    f\"Possible operations with string: {string_value.upper()}, {string_value.lower()}, {string_value[:5]}, {len(string_value)}, {string_value.replace('Python', 'World')}\\n\")"
   ],
   "id": "5d5dd211065f0990",
   "outputs": [
    {
     "name": "stdout",
     "output_type": "stream",
     "text": [
      "Type: <class 'str'>\n",
      "Value: Hello, Python!\n",
      "\n",
      "Possible operations with string: HELLO, PYTHON!, hello, python!, Hello, 14, Hello, World!\n",
      "\n"
     ]
    }
   ],
   "execution_count": 26
  },
  {
   "metadata": {
    "ExecuteTime": {
     "end_time": "2024-11-24T07:52:15.814872Z",
     "start_time": "2024-11-24T05:44:33.014396Z"
    }
   },
   "cell_type": "code",
   "source": [
    "# 5. 세트형 (Set Type)\n",
    "# 5.1 셋(set)\n",
    "set_value = {1, 2, 3, 3, 4}\n",
    "describe_type(set_value)\n",
    "set_value.add(5)\n",
    "print(f\"Possible operations with set: {set_value}, {set_value.union({6, 7})}, {set_value.intersection({2, 3})}\\n\")"
   ],
   "id": "20a6af0759c86d1f",
   "outputs": [
    {
     "name": "stdout",
     "output_type": "stream",
     "text": [
      "Type: <class 'set'>\n",
      "Value: {1, 2, 3, 4}\n",
      "\n",
      "Possible operations with set: {1, 2, 3, 4, 5}, {1, 2, 3, 4, 5, 6, 7}, {2, 3}\n",
      "\n"
     ]
    }
   ],
   "execution_count": 27
  },
  {
   "metadata": {
    "ExecuteTime": {
     "end_time": "2024-11-24T07:52:15.816373Z",
     "start_time": "2024-11-24T05:44:41.659720Z"
    }
   },
   "cell_type": "code",
   "source": [
    "# 6. 매핑형 (Mapping Type)\n",
    "# 6.1 딕셔너리(dict)\n",
    "dict_value = {\"name\": \"Alice\", \"age\": 25}\n",
    "describe_type(dict_value)\n",
    "dict_value[\"job\"] = \"Engineer\"\n",
    "print(\n",
    "    f\"Possible operations with dict: {dict_value}, {dict_value.keys()}, {dict_value.values()}, {dict_value['name']}\\n\")"
   ],
   "id": "e64efb4376dbd15c",
   "outputs": [
    {
     "name": "stdout",
     "output_type": "stream",
     "text": [
      "Type: <class 'dict'>\n",
      "Value: {'name': 'Alice', 'age': 25}\n",
      "\n",
      "Possible operations with dict: {'name': 'Alice', 'age': 25, 'job': 'Engineer'}, dict_keys(['name', 'age', 'job']), dict_values(['Alice', 25, 'Engineer']), Alice\n",
      "\n"
     ]
    }
   ],
   "execution_count": 28
  },
  {
   "metadata": {
    "ExecuteTime": {
     "end_time": "2024-11-24T07:52:15.817143Z",
     "start_time": "2024-11-24T05:44:51.864895Z"
    }
   },
   "cell_type": "code",
   "source": [
    "# 7. 바이너리 시퀀스(Binary Sequence Types)\n",
    "bytes_value = b\"hello\"\n",
    "bytearray_value = bytearray(b\"hello\")\n",
    "memoryview_value = memoryview(b\"hello\")\n",
    "\n",
    "describe_type(bytes_value)\n",
    "describe_type(bytearray_value)\n",
    "describe_type(memoryview_value)\n",
    "\n",
    "print(f\"Possible operations with bytes: {bytes_value[1]}, {bytes_value.decode('utf-8')}\\n\")\n",
    "print(f\"Possible operations with bytearray: {bytearray_value[1]}, {bytearray_value.decode('utf-8')}\\n\")"
   ],
   "id": "31a0c9becea717e1",
   "outputs": [
    {
     "name": "stdout",
     "output_type": "stream",
     "text": [
      "Type: <class 'bytes'>\n",
      "Value: b'hello'\n",
      "\n",
      "Type: <class 'bytearray'>\n",
      "Value: bytearray(b'hello')\n",
      "\n",
      "Type: <class 'memoryview'>\n",
      "Value: <memory at 0x1085337c0>\n",
      "\n",
      "Possible operations with bytes: 101, hello\n",
      "\n",
      "Possible operations with bytearray: 101, hello\n",
      "\n"
     ]
    }
   ],
   "execution_count": 29
  },
  {
   "metadata": {
    "ExecuteTime": {
     "end_time": "2024-11-24T07:52:15.818656Z",
     "start_time": "2024-11-24T05:45:03.421077Z"
    }
   },
   "cell_type": "code",
   "source": [
    "# 8. 기타 (Other Built-in Types)\n",
    "# 8.1 모듈\n",
    "import math\n",
    "\n",
    "describe_type(math)\n",
    "\n",
    "\n",
    "# 8.2 클래스\n",
    "class ExampleClass:\n",
    "    pass\n",
    "\n",
    "\n",
    "example_class = ExampleClass\n",
    "describe_type(example_class)\n",
    "\n",
    "\n",
    "# 8.3 함수\n",
    "def example_function():\n",
    "    return \"This is a function.\"\n",
    "\n",
    "\n",
    "describe_type(example_function)\n",
    "\n",
    "# 8.4 메서드\n",
    "describe_type(list_value.append)\n",
    "\n",
    "# 8.5 코드\n",
    "example_code = compile('print(\"Hello, World!\")', '<string>', 'exec')\n",
    "describe_type(example_code)\n",
    "\n",
    "# 8.6 오브젝트 (객체)\n",
    "example_object = object()\n",
    "describe_type(example_object)"
   ],
   "id": "71349176fd9650d2",
   "outputs": [
    {
     "name": "stdout",
     "output_type": "stream",
     "text": [
      "Type: <class 'module'>\n",
      "Value: <module 'math' from '/Library/Frameworks/Python.framework/Versions/3.12/lib/python3.12/lib-dynload/math.cpython-312-darwin.so'>\n",
      "\n",
      "Type: <class 'type'>\n",
      "Value: <class '__main__.ExampleClass'>\n",
      "\n",
      "Type: <class 'function'>\n",
      "Value: <function example_function at 0x10827cc20>\n",
      "\n",
      "Type: <class 'builtin_function_or_method'>\n",
      "Value: <built-in method append of list object at 0x108579840>\n",
      "\n",
      "Type: <class 'code'>\n",
      "Value: <code object <module> at 0x108256b10, file \"<string>\", line 1>\n",
      "\n",
      "Type: <class 'object'>\n",
      "Value: <object object at 0x1083f9e10>\n",
      "\n"
     ]
    }
   ],
   "execution_count": 30
  }
 ],
 "metadata": {
  "kernelspec": {
   "display_name": "Python 3",
   "language": "python",
   "name": "python3"
  },
  "language_info": {
   "codemirror_mode": {
    "name": "ipython",
    "version": 2
   },
   "file_extension": ".py",
   "mimetype": "text/x-python",
   "name": "python",
   "nbconvert_exporter": "python",
   "pygments_lexer": "ipython2",
   "version": "2.7.6"
  }
 },
 "nbformat": 4,
 "nbformat_minor": 5
}
