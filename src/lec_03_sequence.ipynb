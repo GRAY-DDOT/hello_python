{
 "cells": [
  {
   "metadata": {},
   "cell_type": "markdown",
   "source": [
    "# 3. 시퀀스 타입 : 순서형\n",
    "## 3-1. 리스트 (List)\n",
    "- 설명: 변경 가능한 순서가 있는 시퀀스\n",
    "- 특성:\n",
    "  - 다양한 데이터 타입 저장 가능\n",
    "  - 요소 추가, 제거, 변경 가능\n",
    "- 연산:\n",
    "  - 인덱싱, 슬라이싱, 반복, 리스트 확장 등"
   ],
   "id": "bfdd2cd72a07b6a7"
  },
  {
   "metadata": {},
   "cell_type": "code",
   "outputs": [],
   "execution_count": null,
   "source": [
    "# 리스트 생성 및 출력\n",
    "lst = [1, 2, 3, \"a\", \"b\"]\n",
    "print(\"List:\", lst)\n",
    "print(\"Type:\", type(lst))\n",
    "\n",
    "# 리스트 연산\n",
    "lst.append(4)  # 추가\n",
    "lst.remove(2)  # 제거\n",
    "print(\"Modified List:\", lst)\n",
    "print(\"Slicing:\", lst[:3])  # 슬라이싱\n",
    "print(\"Reversed List:\", lst[::-1])  # 역순"
   ],
   "id": "cb6121915a28f300"
  },
  {
   "metadata": {},
   "cell_type": "markdown",
   "source": [
    "## 3-2. 튜플 (Tuple)\n",
    "- 설명: 변경 불가능한 순서가 있는 시퀀스\n",
    "- 특성:\n",
    "  - 리스트와 유사하지만, 요소 변경이 불가능\n",
    "  - 읽기 전용 데이터에 적합\n",
    "- 연산:\n",
    "  - 인덱싱, 슬라이싱, 반복"
   ],
   "id": "3873e579e48f114e"
  },
  {
   "metadata": {},
   "cell_type": "code",
   "outputs": [],
   "execution_count": null,
   "source": [
    "# 튜플 생성 및 출력\n",
    "tpl = (1, 2, 3, \"a\", \"b\")\n",
    "print(\"Tuple:\", tpl)\n",
    "print(\"Type:\", type(tpl))\n",
    "\n",
    "# 튜플 연산\n",
    "print(\"Slicing:\", tpl[:3])\n",
    "print(\"Reversed Tuple:\", tpl[::-1])"
   ],
   "id": "ad2636765c281b49"
  },
  {
   "metadata": {},
   "cell_type": "markdown",
   "source": [
    "## 3-3. 레인지 (Range)\n",
    "- 설명: 숫자의 시퀀스를 나타내는 객체\n",
    "- 특성:\n",
    "  - 반복 작업에 최적화된 메모리 효율적인 타입\n",
    "  - 불변 (Immutable)\n",
    "- 연산:\n",
    "  - 숫자 시퀀스 생성, 반복"
   ],
   "id": "8741f7f877bc8f53"
  },
  {
   "metadata": {},
   "cell_type": "code",
   "outputs": [],
   "execution_count": null,
   "source": [
    "# 레인지 생성 및 출력\n",
    "rng = range(1, 10, 2)  # 1부터 10까지 2씩 증가\n",
    "print(\"Range:\", rng)\n",
    "print(\"Type:\", type(rng))\n",
    "print(\"List from Range:\", list(rng))  # 리스트로 변환"
   ],
   "id": "7bdf15aae9d07922"
  },
  {
   "metadata": {},
   "cell_type": "markdown",
   "source": [
    "## 3-4. 문자열 (String)\n",
    "- 설명: 텍스트를 나타내는 시퀀스\n",
    "- 특성:\n",
    "  - 불변 (Immutable)\n",
    "  - 개별 문자 접근 가능\n",
    "- 연산:\n",
    "  - 인덱싱, 슬라이싱, 연결, 반복, 탐색 등"
   ],
   "id": "c5c269ab522922d5"
  },
  {
   "metadata": {},
   "cell_type": "code",
   "outputs": [],
   "execution_count": null,
   "source": [
    "# 문자열 생성 및 출력\n",
    "s = \"Python\"\n",
    "print(\"String:\", s)\n",
    "print(\"Type:\", type(s))\n",
    "\n",
    "# 문자열 연산\n",
    "print(\"Slicing:\", s[:3])\n",
    "print(\"Reversed String:\", s[::-1])\n",
    "print(\"Repeated String:\", s * 2)"
   ],
   "id": "ba0230c8f9edf606"
  },
  {
   "metadata": {},
   "cell_type": "markdown",
   "source": [
    "## 3-5 시퀀스 타입 간 변환\n",
    "\n",
    "1. 리스트 ↔ 튜플:\n",
    "   - `list()`와 `tuple()`을 사용\n",
    "2. 리스트/튜플 ↔ 문자열:\n",
    "   - `join()`과 `split()` 사용\n",
    "3. 리스트/튜플 ↔ 레인지:\n",
    "   - `list()`와 `tuple()`로 변환\n",
    "4. 문자열 ↔ 리스트/튜플:\n",
    "   - `list()`나 `tuple()`로 변환"
   ],
   "id": "45f97e16a0fd80c6"
  },
  {
   "metadata": {},
   "cell_type": "code",
   "outputs": [],
   "execution_count": null,
   "source": [
    "# 리스트 ↔ 튜플\n",
    "lst = [1, 2, 3]\n",
    "tpl = tuple(lst)\n",
    "print(\"List to Tuple:\", tpl)\n",
    "print(\"Tuple to List:\", list(tpl))\n",
    "\n",
    "# 리스트 ↔ 문자열\n",
    "lst = [\"a\", \"b\", \"c\"]\n",
    "s = \"\".join(lst)\n",
    "print(\"List to String:\", s)\n",
    "print(\"String to List:\", list(s))\n",
    "\n",
    "# 튜플 ↔ 문자열\n",
    "tpl = (\"x\", \"y\", \"z\")\n",
    "s = \"\".join(tpl)\n",
    "print(\"Tuple to String:\", s)\n",
    "print(\"String to Tuple:\", tuple(s))\n",
    "\n",
    "# 리스트 ↔ 레인지\n",
    "rng = range(5)\n",
    "print(\"Range to List:\", list(rng))\n",
    "tpl_from_rng = tuple(rng)\n",
    "print(\"Range to Tuple:\", tpl_from_rng)"
   ],
   "id": "abb6e557c1eabe8a"
  },
  {
   "metadata": {},
   "cell_type": "markdown",
   "source": [
    "## 3-5 시퀀스 메서드 및 공통 연산\n",
    "\n",
    "### 공통 연산\n",
    "- 인덱싱: `seq[index]`\n",
    "- 슬라이싱: `seq[start:end]`\n",
    "- 반복: `for element in seq`\n",
    "- 길이: `len(seq)`\n",
    "- 연결: `seq1 + seq2`\n",
    "- 반복: `seq * n`"
   ],
   "id": "5e627051f940708"
  },
  {
   "metadata": {},
   "cell_type": "code",
   "outputs": [],
   "execution_count": null,
   "source": [
    "# 공통 연산 예제\n",
    "seq = [1, 2, 3]\n",
    "print(\"Indexing:\", seq[0])  # 첫 번째 요소\n",
    "print(\"Slicing:\", seq[1:])  # 두 번째 요소부터 끝까지\n",
    "print(\"Length:\", len(seq))  # 길이\n",
    "print(\"Concatenation:\", seq + [4, 5])  # 연결\n",
    "print(\"Repetition:\", seq * 2)  # 반복"
   ],
   "id": "a7afe4167b65a442"
  }
 ],
 "metadata": {
  "kernelspec": {
   "display_name": "Python 3",
   "language": "python",
   "name": "python3"
  },
  "language_info": {
   "codemirror_mode": {
    "name": "ipython",
    "version": 2
   },
   "file_extension": ".py",
   "mimetype": "text/x-python",
   "name": "python",
   "nbconvert_exporter": "python",
   "pygments_lexer": "ipython2",
   "version": "2.7.6"
  }
 },
 "nbformat": 4,
 "nbformat_minor": 5
}
