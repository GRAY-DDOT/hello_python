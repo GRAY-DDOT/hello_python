{
 "cells": [
  {
   "metadata": {},
   "cell_type": "markdown",
   "source": [
    "# 4. 비 순서형 타입\n",
    "\n",
    "## 4-1 Mapping Type : 딕셔너리(dict)\n",
    "- 키-값(key-value) 쌍으로 데이터를 저장\n",
    "- 키는 유일하고, 값은 중복 가능\n",
    "- 변경 가능(Mutable)\n",
    "\n",
    "### 주요 연산\n",
    "- 요소 추가/제거: `dict[key] = value`, `del dict[key]`\n",
    "- 키, 값 가져오기: `keys()`, `values()`, `items()`\n",
    "- 키 존재 여부: `key in dict`\n",
    "- 딕셔너리 병합: `update()`"
   ],
   "id": "35d277366d47e53c"
  },
  {
   "metadata": {},
   "cell_type": "code",
   "outputs": [],
   "execution_count": null,
   "source": [
    "# 딕셔너리 생성 및 출력\n",
    "d = {\"name\": \"Alice\", \"age\": 25, \"job\": \"Engineer\"}\n",
    "print(\"Dictionary:\", d)\n",
    "print(\"Type:\", type(d))\n",
    "\n",
    "# 요소 접근\n",
    "print(\"Name:\", d[\"name\"])  # 키를 사용해 값에 접근\n",
    "\n",
    "# 요소 추가/수정\n",
    "d[\"city\"] = \"New York\"  # 새 키-값 추가\n",
    "d[\"age\"] = 26  # 기존 키의 값 수정\n",
    "print(\"Modified Dictionary:\", d)\n",
    "\n",
    "# 요소 제거\n",
    "del d[\"job\"]\n",
    "print(\"After Deletion:\", d)\n",
    "\n",
    "# 딕셔너리 메서드\n",
    "print(\"Keys:\", d.keys())  # 키만 가져오기\n",
    "print(\"Values:\", d.values())  # 값만 가져오기\n",
    "print(\"Items:\", d.items())  # 키-값 쌍 가져오기\n",
    "\n",
    "# 키 존재 여부\n",
    "print(\"Is 'name' a key?\", \"name\" in d)\n"
   ],
   "id": "be7dba15ad5c533"
  },
  {
   "metadata": {},
   "cell_type": "markdown",
   "source": [
    "## 3-2. 세트 (Set)\n",
    "\n",
    "### 설명\n",
    "- 고유한 값들의 집합. 중복된 값을 저장하지 않음\n",
    "- 변경 가능(Mutable)\n",
    "- 순서가 없으며, 인덱싱 불가\n",
    "\n",
    "### 주요 연산\n",
    "- 요소 추가/제거: `add()`, `remove()`, `discard()`\n",
    "- 집합 연산: `union()`, `intersection()`, `difference()`, `symmetric_difference()`\n",
    "- 포함 여부: `in`"
   ],
   "id": "375b2c1c15c9381f"
  },
  {
   "metadata": {},
   "cell_type": "code",
   "outputs": [],
   "execution_count": null,
   "source": [
    "# 세트 생성 및 출력\n",
    "s = {1, 2, 3, 3, 4}\n",
    "print(\"Set:\", s)  # 중복 값 제거\n",
    "print(\"Type:\", type(s))\n",
    "\n",
    "# 요소 추가\n",
    "s.add(5)\n",
    "print(\"After Adding:\", s)\n",
    "\n",
    "# 요소 제거\n",
    "s.remove(2)  # 요소 2 제거\n",
    "print(\"After Removing:\", s)\n",
    "\n",
    "# 집합 연산\n",
    "s2 = {3, 4, 5, 6}\n",
    "print(\"Union:\", s.union(s2))  # 합집합\n",
    "print(\"Intersection:\", s.intersection(s2))  # 교집합\n",
    "print(\"Difference:\", s.difference(s2))  # 차집합\n",
    "print(\"Symmetric Difference:\", s.symmetric_difference(s2))  # 대칭 차집합\n",
    "\n",
    "# 포함 여부\n",
    "print(\"Is 1 in set?\", 1 in s)"
   ],
   "id": "b6c3df135cb3cfb4"
  },
  {
   "metadata": {},
   "cell_type": "markdown",
   "source": [
    "## 3-3 딕셔너리와 세트 간 변환\n",
    "\n",
    "### 딕셔너리 ↔ 세트 변환\n",
    "1. 딕셔너리 키만 세트로 변환: `set(dict.keys())`\n",
    "2. 딕셔너리 값만 세트로 변환: `set(dict.values())`\n",
    "3. 딕셔너리로 변환: 리스트나 튜플의 쌍을 딕셔너리로 변환\n"
   ],
   "id": "69878c422a480efc"
  },
  {
   "metadata": {},
   "cell_type": "code",
   "outputs": [],
   "execution_count": null,
   "source": [
    "# 딕셔너리 키와 값으로 세트 변환\n",
    "d = {\"a\": 1, \"b\": 2, \"c\": 3}\n",
    "keys_set = set(d.keys())\n",
    "values_set = set(d.values())\n",
    "print(\"Keys as Set:\", keys_set)\n",
    "print(\"Values as Set:\", values_set)\n",
    "\n",
    "# 세트 → 딕셔너리 변환\n",
    "s = {(\"x\", 10), (\"y\", 20), (\"z\", 30)}\n",
    "d_from_set = dict(s)  # 세트의 튜플로 딕셔너리 생성\n",
    "print(\"Set to Dictionary:\", d_from_set)"
   ],
   "id": "13420fc9f0182503"
  },
  {
   "metadata": {},
   "cell_type": "markdown",
   "source": [
    "### 딕셔너리와 세트 공통 연산\n",
    "\n",
    "1. 길이 확인: `len(dict_or_set)`\n",
    "2. 순회: `for key in dict_or_set`\n",
    "3. 포함 여부 확인: `in`"
   ],
   "id": "1b0ce61a663eb0d0"
  },
  {
   "metadata": {},
   "cell_type": "code",
   "outputs": [],
   "execution_count": null,
   "source": [
    "# 공통 연산\n",
    "d = {\"a\": 1, \"b\": 2, \"c\": 3}\n",
    "s = {1, 2, 3, 4}\n",
    "\n",
    "# 길이\n",
    "print(\"Length of Dictionary:\", len(d))\n",
    "print(\"Length of Set:\", len(s))\n",
    "\n",
    "# 순회\n",
    "print(\"Dictionary Keys:\")\n",
    "for key in d:\n",
    "    print(key)\n",
    "\n",
    "print(\"Set Elements:\")\n",
    "for element in s:\n",
    "    print(element)\n",
    "\n",
    "# 포함 여부\n",
    "print(\"Is 'a' in dictionary?\", \"a\" in d)\n",
    "print(\"Is 2 in set?\", 2 in s)"
   ],
   "id": "1cc75d563a5116d9"
  }
 ],
 "metadata": {
  "kernelspec": {
   "display_name": "Python 3",
   "language": "python",
   "name": "python3"
  },
  "language_info": {
   "codemirror_mode": {
    "name": "ipython",
    "version": 2
   },
   "file_extension": ".py",
   "mimetype": "text/x-python",
   "name": "python",
   "nbconvert_exporter": "python",
   "pygments_lexer": "ipython2",
   "version": "2.7.6"
  }
 },
 "nbformat": 4,
 "nbformat_minor": 5
}
