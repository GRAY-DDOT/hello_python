{
 "cells": [
  {
   "metadata": {},
   "cell_type": "markdown",
   "source": "## 1. 전체 모듈 가져오기",
   "id": "a4f11014ea8164d9"
  },
  {
   "metadata": {},
   "cell_type": "code",
   "outputs": [],
   "execution_count": null,
   "source": "import math_operations",
   "id": "b6807ce730b12eb8"
  },
  {
   "metadata": {
    "ExecuteTime": {
     "end_time": "2024-12-16T01:45:37.277452Z",
     "start_time": "2024-12-16T01:45:37.273173Z"
    }
   },
   "cell_type": "code",
   "source": "print(math_operations.add(5, 3))",
   "id": "58021c7c03202c6",
   "outputs": [
    {
     "name": "stdout",
     "output_type": "stream",
     "text": [
      "8\n"
     ]
    }
   ],
   "execution_count": 2
  },
  {
   "metadata": {
    "ExecuteTime": {
     "end_time": "2024-12-16T01:45:38.856910Z",
     "start_time": "2024-12-16T01:45:38.853913Z"
    }
   },
   "cell_type": "code",
   "source": "print(math_operations.subtract(5, 3))",
   "id": "c8784cf67a1c5f0c",
   "outputs": [
    {
     "name": "stdout",
     "output_type": "stream",
     "text": [
      "2\n"
     ]
    }
   ],
   "execution_count": 3
  },
  {
   "metadata": {},
   "cell_type": "markdown",
   "source": "## 2. 모듈에서 특정 함수만 가져오기",
   "id": "2bd6eea37b38f742"
  },
  {
   "metadata": {
    "ExecuteTime": {
     "end_time": "2024-12-18T06:47:54.312757Z",
     "start_time": "2024-12-18T06:47:54.308496Z"
    }
   },
   "cell_type": "code",
   "source": "from math_operations import add",
   "id": "685dda2de0c8c2f9",
   "outputs": [],
   "execution_count": 2
  },
  {
   "metadata": {
    "ExecuteTime": {
     "end_time": "2024-12-18T06:47:55.868814Z",
     "start_time": "2024-12-18T06:47:55.865038Z"
    }
   },
   "cell_type": "code",
   "source": [
    "print(add(5, 3))\n",
    "\n",
    "try:\n",
    "    print(subtract(5, 3))\n",
    "except:\n",
    "    print(\"는 import하지 않음\")"
   ],
   "id": "ff9f13ac43713330",
   "outputs": [
    {
     "name": "stdout",
     "output_type": "stream",
     "text": [
      "8\n",
      "는 import하지 않음\n"
     ]
    }
   ],
   "execution_count": 3
  },
  {
   "metadata": {},
   "cell_type": "markdown",
   "source": "## 3. 별칭 사용\n",
   "id": "697fb70172426481"
  },
  {
   "metadata": {},
   "cell_type": "code",
   "outputs": [],
   "execution_count": null,
   "source": "",
   "id": "50a2f66fc862c87c"
  },
  {
   "metadata": {},
   "cell_type": "markdown",
   "source": [
    "## 4. 모듈의 모든 항목 가져오기\n",
    "\n",
    "> 주의: 이름 충돌 위험이 있어 권장하지 않음"
   ],
   "id": "304e9e4bf9bd5097"
  },
  {
   "metadata": {},
   "cell_type": "code",
   "outputs": [],
   "execution_count": null,
   "source": [
    "from math_operations import *\n",
    "\n",
    "print(add(5, 3))"
   ],
   "id": "d8949eb5872263b9"
  }
 ],
 "metadata": {
  "kernelspec": {
   "display_name": "Python 3",
   "language": "python",
   "name": "python3"
  },
  "language_info": {
   "codemirror_mode": {
    "name": "ipython",
    "version": 2
   },
   "file_extension": ".py",
   "mimetype": "text/x-python",
   "name": "python",
   "nbconvert_exporter": "python",
   "pygments_lexer": "ipython2",
   "version": "2.7.6"
  }
 },
 "nbformat": 4,
 "nbformat_minor": 5
}
