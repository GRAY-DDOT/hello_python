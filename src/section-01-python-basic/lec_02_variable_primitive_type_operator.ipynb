{
 "cells": [
  {
   "metadata": {},
   "cell_type": "markdown",
   "source": [
    "# 2. 변수, 기본 타입 및 관련 연산\n",
    "\n",
    "## 2-1 변수\n",
    "\n",
    "### 2-1-1 변수란?\n",
    "\n",
    "- 변수 : 데이터를 저장하기 위해 사용되는 이름표\n",
    "    - 엄밀한 정의는 조금 더 어렵습니다.\n",
    "- 변수의 역할\n",
    "    1. 데이터의 저장\n",
    "    2. 데이터의 재사용 => 중복을 줄일 수 있다\n",
    "    3. 가독성 향상\n",
    "- 파이썬의 변수 특징\n",
    "    - 실제 값을 저장하는 것이 아닌 값이 저장된 메모리 위치를 가리키는 이름\n",
    "        - 하지만 실제 동작에선 저장된 값을 사용한다.\n",
    "    - 타입을 지정하지 않아도 됨 (동적 타이핑), 명시적 선언은 가능\n",
    "    - 값 변경 가능\n",
    "\n",
    "\n",
    "\n",
    "### 2-1-2 변수 선언과 할당, 작명\n",
    "\n",
    "1. 선언 : 이름을 정함\n",
    "2. 할당 : 저장할 값을 지정함\n",
    "\n",
    "```python\n",
    "a = 1\n",
    "# a 는 선언, 보통 해당 변수가 처음 등장하면 선언이라고 합니다.\n",
    "# \"= 1\"은 할당, \"=\"이 할당 연산자입니다.\n",
    "```\n",
    "\n",
    "#### 작명 규칙\n",
    "변수 정의 시에는 몇가지 강제적인 규칙과 스타일 가이드가 있음\n",
    "\n",
    "1. 강제적 규칙\n",
    "   1. 문자나 밑줄(_)로 시작, 숫자로 시작 불가\n",
    "   2. 알파벳, 숫자, 밑줄로 만 포함.\n",
    "   3. 대소문자 구분 있음\n",
    "   4. 파이썬 예약어/키워드 사용 금지\n",
    "   ```\n",
    "    import keyword\n",
    "\n",
    "    # 키워드 목록 출력\n",
    "    print(keyword.kwlist)\n",
    "\n",
    "   ```\n",
    "2. 스타일 가이드\n",
    "    1. 함수, 변수, 속성(클래스의 객체 내에서의 변수) : lower_case_with_underscore(스네이크 케이스)\n",
    "    2. 상수 : UPPER_CASE_WITH_UNDERSCORE\n",
    "    3. 클래스, 예외 : CapWords(케멀 케이스)\n",
    "    4. 패키지, 모듈 : lowercase 혹은 가독성을 개선할 수 있을 경우 lower_case_with_underscore\n",
    "\n",
    "### 2-1-3 변수의 동작 방식\n",
    "- 변수는 실제 값이 아니라 값이 저장된 객체를 참조함\n",
    "- 파이썬에서는 객체(값)가 메모리에 저장되고, 변수는 그 객체를 가리키는 참조(reference) 역할\n",
    "\n",
    "```python\n",
    "a = 10  # 숫자 10이 객체로 생성되고, a가 이를 참조\n",
    "b = a   # b도 같은 객체를 참조\n",
    "\n",
    "print(a == b)\n",
    "print(id(a))  # a가 참조하는 객체의 메모리 주소\n",
    "print(id(b))  # b가 참조하는 객체의 메모리 주소\n",
    "print(a is b)\n",
    "\n",
    "a = 10  # 숫자 10이 객체로 생성되고, a가 이를 참조\n",
    "b = 10  # 숫자 10이 객체로 생성되고, b가 이를 참조\n",
    "\n",
    "print(a == b)\n",
    "print(id(a))  # a가 참조하는 객체의 메모리 주소\n",
    "print(id(b))  # b가 참조하는 객체의 메모리 주소\n",
    "print(a is b)\n",
    "\n",
    "```"
   ],
   "id": "6ab5d9203edd1ad4"
  },
  {
   "metadata": {},
   "cell_type": "markdown",
   "source": [
    "\n",
    "### 2-1-4 범위(Scope)와 수명(Lifetime)\n",
    "\n",
    "- 전역 변수: 함수 외부에서 선언된 변수, 프로그램 전체에서 접근 가능\n",
    "\n",
    "```python\n",
    "x = 10  # 전역 변수\n",
    "\n",
    "def my_function():\n",
    "    print(x)  # 전역 변수 사용\n",
    "\n",
    "my_function()  # 출력: 10\n",
    "```\n",
    "\n",
    "- 지역 변수: 함수 내부에서 선언된 변수, 함수 외부에서는 접근할 수 없음\n",
    "\n",
    "```python\n",
    "def my_function():\n",
    "    y = 20  # 지역 변수\n",
    "    print(y)\n",
    "\n",
    "my_function()  # 출력: 20\n",
    "# print(y)  # 오류: y는 함수 외부에서 접근 불가\n",
    "```"
   ],
   "id": "61d1f75eafc91b68"
  },
  {
   "metadata": {},
   "cell_type": "markdown",
   "source": [
    "#### 아래 예제를 다음 순서에 따라 실행하라.\n",
    "1. 2-2 분리언 이전까지의 모든 코드를 실행하라.(실행 전 동작 예측)\n",
    "2. 1000 이상의 큰 정수들로 변경하라."
   ],
   "id": "8a69a460e1f23627"
  },
  {
   "metadata": {},
   "cell_type": "code",
   "source": [
    "a = 10  # 숫자 10이 객체로 생성되고, a가 이를 참조\n",
    "b = a  # b도 같은 객체를 참조\n",
    "\n",
    "print(a == b)\n",
    "print(id(a))  # a가 참조하는 객체의 메모리 주소\n",
    "print(id(b))  # b가 참조하는 객체의 메모리 주소\n",
    "print(a is b, \"\\n\")"
   ],
   "id": "66afcb3292bdfa02",
   "outputs": [],
   "execution_count": null
  },
  {
   "metadata": {},
   "cell_type": "code",
   "source": [
    "c = 10  # 숫자 객체 생성되고, a가 이를 참조\n",
    "d = 10  # 숫자 객체 생성되고, b가 이를 참조\n",
    "\n",
    "print(c == d)\n",
    "print(id(c))\n",
    "print(id(d))\n",
    "print(c is d, \"\\n\")"
   ],
   "id": "989557cc2631a54f",
   "outputs": [],
   "execution_count": null
  },
  {
   "metadata": {},
   "cell_type": "code",
   "source": [
    "a = 1\n",
    "print(a == b)\n",
    "print(id(a))\n",
    "print(id(b))\n",
    "print(a is b)\n",
    "print(\"a = \", a, \"b = \", b, \"\\n\")"
   ],
   "id": "26f45c866d85f735",
   "outputs": [],
   "execution_count": null
  },
  {
   "metadata": {},
   "cell_type": "code",
   "source": [
    "b = a\n",
    "b = 10\n",
    "\n",
    "print(a == b)\n",
    "print(id(a))\n",
    "print(id(b))\n",
    "print(a is b)\n",
    "print(\"a = \", a, \"b = \", b)\n"
   ],
   "id": "d033fabe49a1801e",
   "outputs": [],
   "execution_count": null
  },
  {
   "metadata": {},
   "cell_type": "markdown",
   "source": [
    "> 파이썬은 정수 256까지에 대해서는 이미 해당 값이 존재하면 기존의 객체를 바인딩되게 함\n",
    "\n",
    "256 => 2^8 => 1byte"
   ],
   "id": "284ccc0f7eddd52c"
  },
  {
   "metadata": {},
   "cell_type": "markdown",
   "source": [
    "\n",
    "## 2-2. 불리언 (Boolean)\n",
    "- 참(True) 또는 거짓(False) 값을 나타내는 타입\n",
    "- 논리 연산과 조건문에서 사용\n",
    "- 숫자와 호환: `True`는 `1`, `False`는 `0`으로 처리\n",
    "\n",
    "### 주요 연산\n",
    "- 논리 연산: `and`, `or`, `not`\n",
    "- 비교 연산: `==`, `!=`, `<`, `>`, `<=`, `>=`"
   ],
   "id": "97046700d983ed3c"
  },
  {
   "metadata": {
    "ExecuteTime": {
     "end_time": "2025-01-17T04:59:15.981299Z",
     "start_time": "2025-01-17T04:59:15.976297Z"
    }
   },
   "cell_type": "code",
   "source": [
    "\n",
    "\n",
    "# 불리언 생성\n",
    "b1 = True\n",
    "b2 = False\n",
    "print(\"Boolean Values:\", b1, b2)\n",
    "print(\"Type of b1:\", type(b1), \"\\n\")\n",
    "print(\"Type of b2:\", type(b2), \"\\n\")\n",
    "\n",
    "if b1:\n",
    "    print(\"Boolean Values  :\", b1)\n",
    "if b2:\n",
    "    print(\"Type of b2:\", type(b2), \"\\n\")\n",
    "\n",
    "# 소문자도 가능한가?\n",
    "try:\n",
    "    b3 = true\n",
    "    print(b3)\n",
    "except Exception as e:\n",
    "    print(e, \"\\n\")\n",
    "\n",
    "try:\n",
    "    b4 = false\n",
    "    print(b4)\n",
    "except Exception as e:\n",
    "    print(e, \"\\n\")\n",
    "\n",
    "# 논리 연산\n",
    "print(\"AND Operation:\", b1 and b2)  # False\n",
    "print(\"OR Operation:\", b1 or b2)  # True\n",
    "print(\"NOT Operation:\", not b1, \"\\n\")  # False\n",
    "\n",
    "# 숫자와 호환\n",
    "print(\"True as int:\", int(b1))  # 1\n",
    "print(\"False as int:\", int(b2))  # 0\n",
    "print(\"1 + True:\", 1 + b1)  # 2\n"
   ],
   "id": "c65802ccae0d5fdb",
   "outputs": [
    {
     "name": "stdout",
     "output_type": "stream",
     "text": [
      "Boolean Values: True False\n",
      "Type of b1: <class 'bool'> \n",
      "\n",
      "Type of b2: <class 'bool'> \n",
      "\n",
      "Boolean Values  : True\n",
      "name 'true' is not defined \n",
      "\n",
      "name 'false' is not defined \n",
      "\n",
      "AND Operation: False\n",
      "OR Operation: True\n",
      "NOT Operation: False \n",
      "\n",
      "True as int: 1\n",
      "False as int: 0\n",
      "1 + True: 2\n"
     ]
    }
   ],
   "execution_count": 7
  },
  {
   "metadata": {},
   "cell_type": "markdown",
   "source": [
    "### 2-2-1 Truthy, Falsey\n",
    "\n",
    "불리언이 아닌 값, 타입, 객체를 불리언으로 평가하면 어떤 결과가 나온는가?\n",
    "아래의 경우의 리터럴(값) 또는 객체, 그리고 이들을 저장하는 변수는 다음과 같이 평가된다.\n",
    "\n",
    "#### Falsey => False로 간주(평가)\n",
    "\n",
    "- None: Python의 null 값\n",
    "- False: 불리언 False 값\n",
    "- 숫자형에서 0\n",
    "    - 0 (정수)\n",
    "    - 0.0 (부동 소수점)\n",
    "    - 0j (복소수의 실수부와 허수부가 모두 0)\n",
    "- 빈 시퀀스\n",
    "    \"\" (빈 문자열)\n",
    "    () (빈 튜플)\n",
    "    [] (빈 리스트)\n",
    "    range(0) (빈 range)\n",
    "- 빈 컬렉션\n",
    "    - {} (빈 딕셔너리)\n",
    "    - set() (빈 집합)\n",
    "    - frozenset() (빈 불변 집합)\n",
    "- 사용자 정의 객체\n",
    "    - __bool__() 메서드가 False를 반환하도록 구현/작성된 경우\n",
    "    - __len__() 메서드가 0을 반환하는 객체\n",
    "\n",
    "#### Truthy => True로 간주/평가\n",
    "\n",
    "- 비어있지 않은 컬렉션\n",
    "- 비어 있지 않은 리스트, 튜플, 문자열, 딕셔너리, 집합 등\n",
    "- 숫자\n",
    "    - 0이 아닌 모든 숫자 (정수, 부동 소수점, 복소수)\n",
    "- 사용자 정의 객체\n",
    "    - __bool__() 메서드가 True를 반환하거나\n",
    "    - __len__() 메서드가 0이 아닌 값을 반환하는 경우\n",
    "\n"
   ],
   "id": "e499bd8ae73bd4d0"
  },
  {
   "metadata": {},
   "cell_type": "markdown",
   "source": [
    "## 2-3. 정수 (Integer)\n",
    "- 정수형(`int`)은 양수, 음수, 0을 포함하는 숫자\n",
    "- 크기 제한 없음 (파이썬 인터프리터가 자동으로 큰 정수를 처리)\n",
    "\n",
    "### 주요 연산\n",
    "- 산술 연산: `+`, `-`, `*`, `//`, `%`, `**`\n",
    "- 비교 연산: `==`, `!=`, `<`, `>`, `<=`, `>=`\n",
    "- 비트 연산: `&`, `|`, `^`, `~`, `<<`, `>>`"
   ],
   "id": "e754d64428b9dcda"
  },
  {
   "metadata": {},
   "cell_type": "code",
   "source": [
    "# 정수 생성\n",
    "i = 42\n",
    "print(\"Integer Value:\", i)\n",
    "print(\"Type:\", type(i))\n",
    "\n",
    "# 산술 연산\n",
    "print(\"Addition:\", i + 8)  # 50\n",
    "print(\"Division:\", i // 5)  # 8\n",
    "print(\"Exponentiation:\", i ** 2)  # 1764\n",
    "\n",
    "# 비트 연산\n",
    "print(\"Bitwise AND:\", i & 15)  # 10\n",
    "print(\"Left Shift:\", i << 2)  # 168"
   ],
   "id": "6d9ff3274a0c999b",
   "outputs": [],
   "execution_count": null
  },
  {
   "metadata": {},
   "cell_type": "markdown",
   "source": [
    "## 2-4. 실수 (Float)\n",
    "- 부동소수점 숫자를 나타냄\n",
    "- 정수와 실수 간 연산 가능\n",
    "- 정밀도가 제한적이므로, 부동소수점 연산 오차가 발생할 수 있음\n",
    "\n",
    "### -주요 연산\n",
    "- 산술 연산: `+`, `-`, `*`, `/`, `**`\n",
    "- 비교 연산: `==`, `!=`, `<`, `>`, `<=`, `>=`"
   ],
   "id": "36442da8f69f517a"
  },
  {
   "metadata": {},
   "cell_type": "code",
   "source": [
    "# 실수 생성\n",
    "f = 3.14\n",
    "print(\"Float Value:\", f)\n",
    "print(\"Type:\", type(f))\n",
    "\n",
    "# 산술 연산\n",
    "print(\"Multiplication:\", f * 2)  # 6.28\n",
    "print(\"Division:\", f / 2)  # 1.57\n",
    "\n",
    "# 연산 오차 확인\n",
    "print(\"Floating-Point Error Example:\", 0.1 + 0.2)  # 0.30000000000000004\n"
   ],
   "id": "533e85485177afec",
   "outputs": [],
   "execution_count": null
  },
  {
   "metadata": {},
   "cell_type": "markdown",
   "source": [
    "## 2-5. 복소수 (Complex)\n",
    "- 실수부와 허수부로 구성된 숫자\n",
    "- 허수부는 `j`로 표현\n",
    "- 산술 연산 및 복소수 전용 메서드 제공\n",
    "\n",
    "### 주요 연산\n",
    "- 산술 연산: `+`, `-`, `*`, `/`\n",
    "- 속성:\n",
    "    - `.real` : 정수부\n",
    "    - `.imag` : 허수부(imaginary)\n",
    "    - `.conjugate()` : 켤래 복소수"
   ],
   "id": "bfbcbea74283b6aa"
  },
  {
   "metadata": {},
   "cell_type": "code",
   "source": [
    "# 복소수 생성\n",
    "c = 2 + 3j\n",
    "print(\"Complex Value:\", c)\n",
    "print(\"Type:\", type(c))\n",
    "\n",
    "# 산술 연산\n",
    "c2 = 1 - 1j\n",
    "print(\"Addition:\", c + c2)  # 3 + 2j\n",
    "print(\"Multiplication:\", c * c2)  # 5 + 1j\n",
    "\n",
    "# 복소수 속성\n",
    "print(\"Real Part:\", c.real)  # 2.0\n",
    "print(\"Imaginary Part:\", c.imag)  # 3.0\n",
    "print(\"Conjugate:\", c.conjugate())  # 2 - 3j\n"
   ],
   "id": "6b111cc3eefafcff",
   "outputs": [],
   "execution_count": null
  },
  {
   "metadata": {},
   "cell_type": "markdown",
   "source": [
    "## 2-6. 숫자 간 변환\n",
    "\n",
    "- 정수 ↔ 실수:\n",
    "  - `float(int)` 또는 `int(float)`\n",
    "- 정수/실수 ↔ 복소수:\n",
    "  - `complex(int)` 또는 `complex(float)`\n",
    "- 실수 → 정수로 변환 시 소수점 이하 절삭"
   ],
   "id": "99a22aae0d4900e0"
  },
  {
   "metadata": {
    "ExecuteTime": {
     "end_time": "2025-01-17T02:06:38.633135Z",
     "start_time": "2025-01-17T02:06:38.628916Z"
    }
   },
   "cell_type": "code",
   "source": [
    "# 정수 ↔ 실수 변환\n",
    "i = 42\n",
    "f = float(i)\n",
    "print(\"Integer to Float:\", f)\n",
    "\n",
    "f2 = 3.99\n",
    "i2 = int(f2)\n",
    "print(\"Float to Integer (truncated):\", i2)\n",
    "\n",
    "# 정수/실수 ↔ 복소수 변환\n",
    "c1 = complex(i)\n",
    "c2 = complex(f)\n",
    "print(\"Integer to Complex:\", c1)\n",
    "print(\"Float to Complex:\", c2)\n"
   ],
   "id": "d5af9047e54fec49",
   "outputs": [
    {
     "name": "stdout",
     "output_type": "stream",
     "text": [
      "Integer to Float: 42.0\n",
      "Float to Integer (truncated): 3\n",
      "Integer to Complex: (42+0j)\n",
      "Float to Complex: (42+0j)\n"
     ]
    }
   ],
   "execution_count": 1
  },
  {
   "metadata": {},
   "cell_type": "markdown",
   "source": [
    "## 2-7. 공통 연산\n",
    "\n",
    "- 연산자: `+`, `-`, `*`, `/`, `**`\n",
    "- 비교 연산: `==`, `!=`, `<`, `>`, `<=`, `>=`\n",
    "- 함수:\n",
    "  - 절댓값: `abs()`\n",
    "  - 반올림: `round()`\n",
    "  - 최소/최대: `min()`, `max()`"
   ],
   "id": "f8e3befe7dfe8fa2"
  },
  {
   "metadata": {},
   "cell_type": "code",
   "source": [
    "# 공통 연산\n",
    "a = -5\n",
    "b = 3.5\n",
    "\n",
    "print(\"Absolute Value:\", abs(a))  # 5\n",
    "print(\"Rounded Value:\", round(b))  # 4\n",
    "print(\"Max Value:\", max(a, b))  # 3.5\n",
    "print(\"Min Value:\", min(a, b))  # -5"
   ],
   "id": "c7355f4294046efc",
   "outputs": [],
   "execution_count": null
  }
 ],
 "metadata": {
  "kernelspec": {
   "display_name": "Python 3",
   "language": "python",
   "name": "python3"
  },
  "language_info": {
   "codemirror_mode": {
    "name": "ipython",
    "version": 2
   },
   "file_extension": ".py",
   "mimetype": "text/x-python",
   "name": "python",
   "nbconvert_exporter": "python",
   "pygments_lexer": "ipython2",
   "version": "2.7.6"
  }
 },
 "nbformat": 4,
 "nbformat_minor": 5
}
