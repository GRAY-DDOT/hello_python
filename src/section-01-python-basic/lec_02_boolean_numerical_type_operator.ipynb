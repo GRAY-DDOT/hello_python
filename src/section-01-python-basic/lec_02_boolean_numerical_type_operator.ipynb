{
 "cells": [
  {
   "metadata": {},
   "cell_type": "markdown",
   "source": [
    "# 2. 기본 타입 및 관련 연산\n",
    "## 2-1. 불리언 (Boolean)\n",
    "- 참(True) 또는 거짓(False) 값을 나타내는 타입\n",
    "- 논리 연산과 조건문에서 사용\n",
    "- 숫자와 호환: `True`는 `1`, `False`는 `0`으로 처리\n",
    "\n",
    "### 주요 연산\n",
    "- 논리 연산: `and`, `or`, `not`\n",
    "- 비교 연산: `==`, `!=`, `<`, `>`, `<=`, `>=`"
   ],
   "id": "97046700d983ed3c"
  },
  {
   "metadata": {},
   "cell_type": "code",
   "outputs": [],
   "execution_count": null,
   "source": [
    "# 불리언 생성\n",
    "b1 = True\n",
    "b2 = False\n",
    "print(\"Boolean Values:\", b1, b2)\n",
    "print(\"Type of b1:\", type(b1))\n",
    "\n",
    "# 논리 연산\n",
    "print(\"AND Operation:\", b1 and b2)  # False\n",
    "print(\"OR Operation:\", b1 or b2)  # True\n",
    "print(\"NOT Operation:\", not b1)  # False\n",
    "\n",
    "# 숫자와 호환\n",
    "print(\"True as int:\", int(b1))  # 1\n",
    "print(\"False as int:\", int(b2))  # 0\n",
    "print(\"1 + True:\", 1 + b1)  # 2\n"
   ],
   "id": "c65802ccae0d5fdb"
  },
  {
   "metadata": {},
   "cell_type": "markdown",
   "source": [
    "## 2-2. 정수 (Integer)\n",
    "- 정수형(`int`)은 양수, 음수, 0을 포함하는 숫자\n",
    "- 크기 제한 없음 (파이썬 인터프리터가 자동으로 큰 정수를 처리)\n",
    "\n",
    "### 주요 연산\n",
    "- 산술 연산: `+`, `-`, `*`, `//`, `%`, `**`\n",
    "- 비교 연산: `==`, `!=`, `<`, `>`, `<=`, `>=`\n",
    "- 비트 연산: `&`, `|`, `^`, `~`, `<<`, `>>`"
   ],
   "id": "e754d64428b9dcda"
  },
  {
   "metadata": {},
   "cell_type": "code",
   "outputs": [],
   "execution_count": null,
   "source": [
    "# 정수 생성\n",
    "i = 42\n",
    "print(\"Integer Value:\", i)\n",
    "print(\"Type:\", type(i))\n",
    "\n",
    "# 산술 연산\n",
    "print(\"Addition:\", i + 8)  # 50\n",
    "print(\"Division:\", i // 5)  # 8\n",
    "print(\"Exponentiation:\", i ** 2)  # 1764\n",
    "\n",
    "# 비트 연산\n",
    "print(\"Bitwise AND:\", i & 15)  # 10\n",
    "print(\"Left Shift:\", i << 2)  # 168"
   ],
   "id": "6d9ff3274a0c999b"
  },
  {
   "metadata": {},
   "cell_type": "markdown",
   "source": [
    "## 2-3. 실수 (Float)\n",
    "- 부동소수점 숫자를 나타냄\n",
    "- 정수와 실수 간 연산 가능\n",
    "- 정밀도가 제한적이므로, 부동소수점 연산 오차가 발생할 수 있음\n",
    "\n",
    "### -주요 연산\n",
    "- 산술 연산: `+`, `-`, `*`, `/`, `**`\n",
    "- 비교 연산: `==`, `!=`, `<`, `>`, `<=`, `>=`"
   ],
   "id": "36442da8f69f517a"
  },
  {
   "metadata": {},
   "cell_type": "code",
   "outputs": [],
   "execution_count": null,
   "source": [
    "# 실수 생성\n",
    "f = 3.14\n",
    "print(\"Float Value:\", f)\n",
    "print(\"Type:\", type(f))\n",
    "\n",
    "# 산술 연산\n",
    "print(\"Multiplication:\", f * 2)  # 6.28\n",
    "print(\"Division:\", f / 2)  # 1.57\n",
    "\n",
    "# 연산 오차 확인\n",
    "print(\"Floating-Point Error Example:\", 0.1 + 0.2)  # 0.30000000000000004\n"
   ],
   "id": "533e85485177afec"
  },
  {
   "metadata": {},
   "cell_type": "markdown",
   "source": [
    "## 2-4. 복소수 (Complex)\n",
    "- 실수부와 허수부로 구성된 숫자\n",
    "- 허수부는 `j`로 표현\n",
    "- 산술 연산 및 복소수 전용 메서드 제공\n",
    "\n",
    "### 주요 연산\n",
    "- 산술 연산: `+`, `-`, `*`, `/`\n",
    "- 속성: `.real`, `.imag`, `.conjugate()`"
   ],
   "id": "bfbcbea74283b6aa"
  },
  {
   "metadata": {},
   "cell_type": "code",
   "outputs": [],
   "execution_count": null,
   "source": [
    "# 복소수 생성\n",
    "c = 2 + 3j\n",
    "print(\"Complex Value:\", c)\n",
    "print(\"Type:\", type(c))\n",
    "\n",
    "# 산술 연산\n",
    "c2 = 1 - 1j\n",
    "print(\"Addition:\", c + c2)  # 3 + 2j\n",
    "print(\"Multiplication:\", c * c2)  # 5 + 1j\n",
    "\n",
    "# 복소수 속성\n",
    "print(\"Real Part:\", c.real)  # 2.0\n",
    "print(\"Imaginary Part:\", c.imag)  # 3.0\n",
    "print(\"Conjugate:\", c.conjugate())  # 2 - 3j\n"
   ],
   "id": "6b111cc3eefafcff"
  },
  {
   "metadata": {},
   "cell_type": "markdown",
   "source": [
    "## 2-5. 숫자 간 변환\n",
    "\n",
    "- 정수 ↔ 실수:\n",
    "  - `float(int)` 또는 `int(float)`\n",
    "- 정수/실수 ↔ 복소수:\n",
    "  - `complex(int)` 또는 `complex(float)`\n",
    "- 실수 → 정수로 변환 시 소수점 이하 절삭"
   ],
   "id": "99a22aae0d4900e0"
  },
  {
   "metadata": {},
   "cell_type": "code",
   "outputs": [],
   "execution_count": null,
   "source": [
    "# 정수 ↔ 실수 변환\n",
    "i = 42\n",
    "f = float(i)\n",
    "print(\"Integer to Float:\", f)\n",
    "\n",
    "f2 = 3.99\n",
    "i2 = int(f2)\n",
    "print(\"Float to Integer (truncated):\", i2)\n",
    "\n",
    "# 정수/실수 ↔ 복소수 변환\n",
    "c1 = complex(i)\n",
    "c2 = complex(f)\n",
    "print(\"Integer to Complex:\", c1)\n",
    "print(\"Float to Complex:\", c2)\n"
   ],
   "id": "d5af9047e54fec49"
  },
  {
   "metadata": {},
   "cell_type": "markdown",
   "source": [
    "## 2-6. 공통 연산\n",
    "\n",
    "- 연산자: `+`, `-`, `*`, `/`, `**`\n",
    "- 비교 연산: `==`, `!=`, `<`, `>`, `<=`, `>=`\n",
    "- 함수:\n",
    "  - 절댓값: `abs()`\n",
    "  - 반올림: `round()`\n",
    "  - 최소/최대: `min()`, `max()`"
   ],
   "id": "f8e3befe7dfe8fa2"
  },
  {
   "metadata": {},
   "cell_type": "code",
   "outputs": [],
   "execution_count": null,
   "source": [
    "# 공통 연산\n",
    "a = -5\n",
    "b = 3.5\n",
    "\n",
    "print(\"Absolute Value:\", abs(a))  # 5\n",
    "print(\"Rounded Value:\", round(b))  # 4\n",
    "print(\"Max Value:\", max(a, b))  # 3.5\n",
    "print(\"Min Value:\", min(a, b))  # -5"
   ],
   "id": "c7355f4294046efc"
  }
 ],
 "metadata": {
  "kernelspec": {
   "display_name": "Python 3",
   "language": "python",
   "name": "python3"
  },
  "language_info": {
   "codemirror_mode": {
    "name": "ipython",
    "version": 2
   },
   "file_extension": ".py",
   "mimetype": "text/x-python",
   "name": "python",
   "nbconvert_exporter": "python",
   "pygments_lexer": "ipython2",
   "version": "2.7.6"
  }
 },
 "nbformat": 4,
 "nbformat_minor": 5
}
