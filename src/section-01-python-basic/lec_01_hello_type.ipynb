{
 "cells": [
  {
   "metadata": {},
   "cell_type": "markdown",
   "source": [
    "# 1. 기본 사용법\n",
    "\n",
    "## 1-1 기출 입출력"
   ],
   "id": "924a611f8c04b07a"
  },
  {
   "cell_type": "code",
   "id": "initial_id",
   "metadata": {
    "collapsed": true,
    "ExecuteTime": {
     "end_time": "2024-12-07T05:38:25.854011Z",
     "start_time": "2024-12-07T05:38:25.851420Z"
    }
   },
   "source": [
    "# 기본 출력\n",
    "print(\"hello\")"
   ],
   "outputs": [
    {
     "name": "stdout",
     "output_type": "stream",
     "text": [
      "hello\n"
     ]
    }
   ],
   "execution_count": 4
  },
  {
   "metadata": {
    "ExecuteTime": {
     "end_time": "2024-12-07T05:38:57.082074Z",
     "start_time": "2024-12-07T05:38:54.572434Z"
    }
   },
   "cell_type": "code",
   "source": [
    "# 기본 입력\n",
    "intput = input(\"입력 {0}\".format(1))\n",
    "print(intput)"
   ],
   "id": "39e8d7b700ff43f8",
   "outputs": [
    {
     "name": "stdout",
     "output_type": "stream",
     "text": [
      "111\n"
     ]
    }
   ],
   "execution_count": 7
  },
  {
   "metadata": {
    "ExecuteTime": {
     "end_time": "2024-12-07T05:38:36.035552Z",
     "start_time": "2024-12-07T05:38:36.030772Z"
    }
   },
   "cell_type": "code",
   "source": [
    "# 한 줄 주석입니다.\n",
    "\"\"\"\n",
    "여러 줄\n",
    "주석\n",
    "\"\"\""
   ],
   "id": "f3d0dfe5008a16a0",
   "outputs": [
    {
     "data": {
      "text/plain": [
       "'\\n여러 줄\\n주석\\n'"
      ]
     },
     "execution_count": 6,
     "metadata": {},
     "output_type": "execute_result"
    }
   ],
   "execution_count": 6
  },
  {
   "metadata": {},
   "cell_type": "markdown",
   "source": [
    "## 1-2 주피터 단축키\n",
    "\n",
    "### 1) 셀 선택 모드 (Command Mode)\n",
    "- esc or ctrl + m : 셀 선택 모드 전환\n",
    "- a : 위로 셀 추가\n",
    "- b : 아래로 셀 추가\n",
    "- dd : 선택 셀 삭제\n",
    "- x : 선택 셀 잘라내기 \n",
    "- c : 선택 셀 복사하기\n",
    "- p : 선택 셀 아래에 붙여넣기\n",
    "- shift + m: 선택 셀과 아래 셀과 합치기\n",
    "- o : 실행결과 열기/닫기\n",
    "- m : Markdown으로 변경\n",
    "- y : Code로 변경\n",
    "- ctrl + s or s : 파일 저장\n",
    "- enter : 선택 셀의 코드 입력 모드로 돌아가기\n",
    "\n",
    "### 2) 코드 입력 모드 (Edit Mode)\n",
    "- ctrl + a : 선택 셀의 코드 전체 선택\n",
    "- ctrl + z : 선택 셀 내 실행 취소\n",
    "- ctrl + y : 선택 셀 내 다시 실행\n",
    "- ctrl + / : 커서 위치 라인 주석처리\n",
    "- ctrl + enter : 선택 셀 코드 실행\n",
    "- shift + enter : 선택 셀 코드 실행 후 다음 Cell로 이동 (없으면 새로 추가)\n",
    "- shift + ctrl + - : 커서 위치에서 셀 둘로 나누기\n",
    "- ctrl + s : 파일 저장\n",
    "- esc or ctrl + m : 셀 선택 모드로 돌아가기\n",
    "- enter : 줄 바꿈\n",
    "- alt 위아래 방향키 : 셀 이동"
   ],
   "id": "9216480d83796bcb"
  },
  {
   "metadata": {},
   "cell_type": "markdown",
   "source": [
    "## 1-3 변수, 타입\n",
    "[공식 문서](https://docs.python.org/ko/3.13/library/stdtypes.html)\n",
    "1. 숫자(Numerical Type)\n",
    "    1. 정수(int)\n",
    "    2. 실수(folat)\n",
    "    3. 복소수(complex)\n",
    "2. 논리형(Boolean)\n",
    "3. 시퀀스(Sequence Type)\n",
    "    1. 리스트(list)\n",
    "    2. 튜플(tuple)\n",
    "    3. 레인지(range)\n",
    "4. 문자열(String) - 텍스트 시퀀스\n",
    "5. 세트(Set Type)\n",
    "    1. 셋(세트, set)\n",
    "    ~~2. 프로즌 셋~~\n",
    "6. 매핑(Mapping Type)\n",
    "    1. 딕셔너리(dict)\n",
    "7. 바이너리 시퀀스(Binary Sequence Type)\n",
    "8. 기타(Other Built-in Types)\n",
    "    1. 모듈\n",
    "    2. 클래스\n",
    "    3. 함수\n",
    "    4. 메서드\n",
    "    5. 코드\n",
    "    6. 오브젝트(객체)\n",
    "그외 생략\n",
    "\n",
    "\n"
   ],
   "id": "eb231d03c0f0498b"
  },
  {
   "metadata": {},
   "cell_type": "markdown",
   "source": "",
   "id": "bd894df76cd9e693"
  },
  {
   "metadata": {
    "ExecuteTime": {
     "end_time": "2024-12-07T05:38:12.003820Z",
     "start_time": "2024-12-07T05:38:12.001353Z"
    }
   },
   "cell_type": "code",
   "source": [
    "# 타입 출력과 연산 출력을 위한 함수\n",
    "def describe_type(value):\n",
    "    print(f\"Type: {type(value)}\")\n",
    "    print(f\"Value: {value}\\n\")"
   ],
   "id": "6830869a5824d4c1",
   "outputs": [],
   "execution_count": 2
  },
  {
   "metadata": {
    "ExecuteTime": {
     "end_time": "2024-12-07T05:38:15.271497Z",
     "start_time": "2024-12-07T05:38:15.268428Z"
    }
   },
   "cell_type": "code",
   "source": [
    "# 1. 숫자형 (Numerical Types)\n",
    "# 1.1 정수(int)\n",
    "int_value = 42\n",
    "describe_type(int_value)\n",
    "print(\n",
    "    f\"int 기본 연산: {int_value + 10}, {int_value - 5}, {int_value * 2}, {int_value // 2}, {int_value ** 2}\\n\")"
   ],
   "id": "aaa381e94df75ab2",
   "outputs": [
    {
     "name": "stdout",
     "output_type": "stream",
     "text": [
      "Type: <class 'int'>\n",
      "Value: 42\n",
      "\n",
      "int 연산: 52, 37, 84, 21, 1764\n",
      "\n"
     ]
    }
   ],
   "execution_count": 3
  },
  {
   "metadata": {
    "ExecuteTime": {
     "end_time": "2024-12-07T05:39:31.909693Z",
     "start_time": "2024-12-07T05:39:31.906594Z"
    }
   },
   "cell_type": "code",
   "source": [
    "# 1.2 실수(float)\n",
    "float_value = 3.14\n",
    "describe_type(float_value)\n",
    "print(\n",
    "    f\"float 기본 연산: {float_value + 1.0}, {float_value * 2}, {float_value / 2}, {float_value ** 2}\\n\")"
   ],
   "id": "75ec0c8cee566100",
   "outputs": [
    {
     "name": "stdout",
     "output_type": "stream",
     "text": [
      "Type: <class 'float'>\n",
      "Value: 3.14\n",
      "\n",
      "float 기본 연산: 4.140000000000001, 6.28, 1.57, 9.8596\n",
      "\n"
     ]
    }
   ],
   "execution_count": 8
  },
  {
   "metadata": {
    "ExecuteTime": {
     "end_time": "2024-12-07T05:39:57.944665Z",
     "start_time": "2024-12-07T05:39:57.941741Z"
    }
   },
   "cell_type": "code",
   "source": [
    "# 1.3 복소수(complex)\n",
    "complex_value = 2 + 3j\n",
    "describe_type(complex_value)\n",
    "print(\n",
    "    f\"complex 기본 연산: {complex_value + (1 + 2j)}, {complex_value * 2}, {complex_value.real}, {complex_value.imag}\\n\")"
   ],
   "id": "54f80192bec5357",
   "outputs": [
    {
     "name": "stdout",
     "output_type": "stream",
     "text": [
      "Type: <class 'complex'>\n",
      "Value: (2+3j)\n",
      "\n",
      "complex 기본 연산: (3+5j), (4+6j), 2.0, 3.0\n",
      "\n"
     ]
    }
   ],
   "execution_count": 9
  },
  {
   "metadata": {
    "ExecuteTime": {
     "end_time": "2024-12-07T05:40:13.260660Z",
     "start_time": "2024-12-07T05:40:13.257819Z"
    }
   },
   "cell_type": "code",
   "source": [
    "# 2. 논리형 (Boolean)\n",
    "bool_value = True\n",
    "describe_type(bool_value)\n",
    "print(\n",
    "    f\"bool 기본 연산: {bool_value and False}, {bool_value or False}, {not bool_value}, {bool_value * 3}\\n\")"
   ],
   "id": "9b8dedcbd181c4bb",
   "outputs": [
    {
     "name": "stdout",
     "output_type": "stream",
     "text": [
      "Type: <class 'bool'>\n",
      "Value: True\n",
      "\n",
      "bool 기본 연산: False, True, False, 3\n",
      "\n"
     ]
    }
   ],
   "execution_count": 10
  },
  {
   "metadata": {
    "ExecuteTime": {
     "end_time": "2024-12-07T05:40:22.857587Z",
     "start_time": "2024-12-07T05:40:22.854597Z"
    }
   },
   "cell_type": "code",
   "source": [
    "# 3. 시퀀스형 (Sequence Types)\n",
    "# 3.1 리스트(list)\n",
    "list_value = [1, 2, 3, 4]\n",
    "describe_type(list_value)\n",
    "list_value.append(5)\n",
    "print(\n",
    "    f\"list 기본 연산: {list_value}, {list_value[1]}, {list_value[-1]}, {list_value[:3]}, {len(list_value)}\\n\")"
   ],
   "id": "e4a32070393fc55d",
   "outputs": [
    {
     "name": "stdout",
     "output_type": "stream",
     "text": [
      "Type: <class 'list'>\n",
      "Value: [1, 2, 3, 4]\n",
      "\n",
      "list 기본 연산: [1, 2, 3, 4, 5], 2, 5, [1, 2, 3], 5\n",
      "\n"
     ]
    }
   ],
   "execution_count": 11
  },
  {
   "metadata": {
    "ExecuteTime": {
     "end_time": "2024-12-07T05:40:53.409985Z",
     "start_time": "2024-12-07T05:40:53.407363Z"
    }
   },
   "cell_type": "code",
   "source": [
    "# 3.2 튜플(tuple)\n",
    "tuple_value = (1, 2, 3, 4)\n",
    "describe_type(tuple_value)\n",
    "print(f\"tuple 기본 연산: {tuple_value}, {tuple_value[1]}, {tuple_value[-1]}, {len(tuple_value)}\\n\")"
   ],
   "id": "260328cdeba9ef99",
   "outputs": [
    {
     "name": "stdout",
     "output_type": "stream",
     "text": [
      "Type: <class 'tuple'>\n",
      "Value: (1, 2, 3, 4)\n",
      "\n",
      "tuple 기본 연산: (1, 2, 3, 4), 2, 4, 4\n",
      "\n"
     ]
    }
   ],
   "execution_count": 12
  },
  {
   "metadata": {
    "ExecuteTime": {
     "end_time": "2024-12-07T05:41:13.975866Z",
     "start_time": "2024-12-07T05:41:13.973375Z"
    }
   },
   "cell_type": "code",
   "source": [
    "# 3.3 레인지(range)\n",
    "range_value = range(5)\n",
    "describe_type(range_value)\n",
    "print(f\"range 기본 동작: {list(range_value)}, {list(range_value)[2]}, {len(range_value)}\\n\")"
   ],
   "id": "d6b6130fef21b7b3",
   "outputs": [
    {
     "name": "stdout",
     "output_type": "stream",
     "text": [
      "Type: <class 'range'>\n",
      "Value: range(0, 5)\n",
      "\n",
      "range 기본 동작: [0, 1, 2, 3, 4], 2, 5\n",
      "\n"
     ]
    }
   ],
   "execution_count": 14
  },
  {
   "metadata": {
    "ExecuteTime": {
     "end_time": "2024-12-07T05:41:29.501990Z",
     "start_time": "2024-12-07T05:41:29.499025Z"
    }
   },
   "cell_type": "code",
   "source": [
    "# 4. 문자열(String)\n",
    "string_value = \"Hello, Python!\"\n",
    "describe_type(string_value)\n",
    "print(\n",
    "    f\"string 기본 연산 및 동작: {string_value.upper()}, {string_value.lower()}, {string_value[:5]}, {len(string_value)}, {string_value.replace('Python', 'World')}\\n\")"
   ],
   "id": "5d5dd211065f0990",
   "outputs": [
    {
     "name": "stdout",
     "output_type": "stream",
     "text": [
      "Type: <class 'str'>\n",
      "Value: Hello, Python!\n",
      "\n",
      "string 기본 연산 및 동작: HELLO, PYTHON!, hello, python!, Hello, 14, Hello, World!\n",
      "\n"
     ]
    }
   ],
   "execution_count": 15
  },
  {
   "metadata": {
    "ExecuteTime": {
     "end_time": "2024-12-07T05:42:19.976253Z",
     "start_time": "2024-12-07T05:42:19.973502Z"
    }
   },
   "cell_type": "code",
   "source": [
    "# 5. 세트형 (Set Type)\n",
    "# 5.1 셋(set)\n",
    "set_value = {1, 2, 3, 3, 4}\n",
    "describe_type(set_value)\n",
    "set_value.add(5)\n",
    "print(f\"set 기본 연산 및 동작: {set_value}, {set_value.union({6, 7})}, {set_value.intersection({2, 3})}\\n\")"
   ],
   "id": "20a6af0759c86d1f",
   "outputs": [
    {
     "name": "stdout",
     "output_type": "stream",
     "text": [
      "Type: <class 'set'>\n",
      "Value: {1, 2, 3, 4}\n",
      "\n",
      "set 기본 연산 및 동작: {1, 2, 3, 4, 5}, {1, 2, 3, 4, 5, 6, 7}, {2, 3}\n",
      "\n"
     ]
    }
   ],
   "execution_count": 16
  },
  {
   "metadata": {
    "ExecuteTime": {
     "end_time": "2024-11-24T07:52:15.816373Z",
     "start_time": "2024-11-24T05:44:41.659720Z"
    }
   },
   "cell_type": "code",
   "source": [
    "# 6. 매핑형 (Mapping Type)\n",
    "# 6.1 딕셔너리(dict)\n",
    "dict_value = {\"name\": \"Alice\", \"age\": 25}\n",
    "describe_type(dict_value)\n",
    "dict_value[\"job\"] = \"Engineer\"\n",
    "print(\n",
    "    f\"dict 기본 연산 및 동작: {dict_value}, {dict_value.keys()}, {dict_value.values()}, {dict_value['name']}\\n\")"
   ],
   "id": "e64efb4376dbd15c",
   "outputs": [
    {
     "name": "stdout",
     "output_type": "stream",
     "text": [
      "Type: <class 'dict'>\n",
      "Value: {'name': 'Alice', 'age': 25}\n",
      "\n",
      "Possible operations with dict: {'name': 'Alice', 'age': 25, 'job': 'Engineer'}, dict_keys(['name', 'age', 'job']), dict_values(['Alice', 25, 'Engineer']), Alice\n",
      "\n"
     ]
    }
   ],
   "execution_count": 28
  },
  {
   "metadata": {
    "ExecuteTime": {
     "end_time": "2024-12-07T05:47:47.497728Z",
     "start_time": "2024-12-07T05:47:47.493947Z"
    }
   },
   "cell_type": "code",
   "source": [
    "# 7. 바이너리 시퀀스(Binary Sequence Types)\n",
    "bytes_value = b\"hello\"\n",
    "bytearray_value = bytearray(b\"hello\")\n",
    "memoryview_value = memoryview(b\"hello\")\n",
    "\n",
    "describe_type(bytes_value)\n",
    "describe_type(bytearray_value)\n",
    "describe_type(memoryview_value)\n",
    "\n",
    "print(f\"bytes 기본 연산 및 동작: {bytes_value[1]}, {bytes_value[1].to_bytes()}, {bytes_value.decode('utf-8')}\\n\")\n",
    "print(\n",
    "    f\"bytearray 기본 연산 및 동작: {bytearray_value[1]}, {bytearray_value[1].to_bytes()}, {bytearray_value.decode('utf-8')}\\n\")"
   ],
   "id": "31a0c9becea717e1",
   "outputs": [
    {
     "name": "stdout",
     "output_type": "stream",
     "text": [
      "Type: <class 'bytes'>\n",
      "Value: b'hello'\n",
      "\n",
      "Type: <class 'bytearray'>\n",
      "Value: bytearray(b'hello')\n",
      "\n",
      "Type: <class 'memoryview'>\n",
      "Value: <memory at 0x1066474c0>\n",
      "\n",
      "bytes 기본 연산 및 동작: 101, b'e', hello\n",
      "\n",
      "bytearray 기본 연산 및 동작: 101, b'e', hello\n",
      "\n"
     ]
    }
   ],
   "execution_count": 21
  },
  {
   "metadata": {},
   "cell_type": "markdown",
   "source": [
    "## 8. 기타 내장 타입\n",
    "\n",
    "파이썬은 `모든 것을 객체로 간주`한다. type() 함수는 해당 객체의 객체 타입을 출력하는 것이다.\n",
    "예외는 없다. 모든 것이 객체다.\n",
    "\n",
    "### 8.1 모듈\n",
    "아래의 코드에서 등장하는 `import` 키워드를 통해 불러오는 것이 모듈 객체이다.\n",
    "\n",
    "### 8.2 클래스\n",
    "클래스는 객체를 만들기 위한 구조이다. 클래스는 클래스 이름, 속성, 동작을 갖는다.\n",
    "- 속성 : 클래스 내부에서 값(또는 객체) 저장(또는 참조)을 위해 사용되는 변수\n",
    "- 동작 : 절차적 언어에서는 함수, 객체지향적 언어에서는 메서드로 칭한다. UML과 설계 관점에서는 동작(Operation)으로 칭한다.\n",
    "- 동작과 함수의 차이 : 해당 동작은 클래스의 내장 함수라고 생각할 수 있다.\n",
    "\n",
    "객체지향 프로그래밍은 특정 기능과 시스템을 수행하기 위해 **세부적인 기능들을 역할과 책임에 따라 분할**한다.\n",
    "해당 역할 및 책임을 다수의 객체에 나누어 할당한다. 해당 과정은 역할, 책임에 따른 객체 간 `협력` 관계를 정의하는 것에서 시작한다.\n",
    "동시에 추상화를 통해 당면 과제를 단순화하고 객체와 역할을 특정하며 여러 구현 방법을 적용한다.\n",
    "\n",
    "해당 활동을 객체지향 프로그래밍으로 통칭하며 구조에 대한 고려와 분석이 사전에 진행된 경우 이를 객체지향 설계라 한다.\n",
    "객체지향 설계는 대표적으로 RDD, DDD, TDD 등이 있으며 공통적인 특징은 역할, 책임, 협력에 대해 고민한다는 것이다.\n",
    "\n",
    "### 8.3-4 함수, 메서드\n",
    "일반적인 절차 지향 언어의 함수와 동일한 함수이다.\n",
    "메서드는 8.2에서 언급한 바와 같이 클래스에 내장된 함수이다.\n",
    "\n",
    "### 8.5 코드\n",
    "코드 객체는 파이썬 인터프리터가 실행할 수 있는 저수준 표현이다.\n",
    "compile 함수는 문자열로 작성된 코드를 코드 객체로 변환한다.\n",
    "\n",
    "\n",
    "\n",
    "\n"
   ],
   "id": "9a5d035681914fba"
  },
  {
   "metadata": {
    "ExecuteTime": {
     "end_time": "2024-12-07T05:47:54.676587Z",
     "start_time": "2024-12-07T05:47:54.672518Z"
    }
   },
   "cell_type": "code",
   "source": [
    "# 8. 기타 (Other Built-in Types)\n",
    "# 8.1 모듈\n",
    "import math\n",
    "\n",
    "describe_type(math)\n",
    "\n",
    "\n",
    "# 8.2 클래스\n",
    "class ExampleClass:\n",
    "    pass\n",
    "\n",
    "\n",
    "example_class = ExampleClass\n",
    "describe_type(example_class)\n",
    "\n",
    "\n",
    "# 8.3 함수\n",
    "def example_function():\n",
    "    return \"This is a function.\"\n",
    "\n",
    "\n",
    "describe_type(example_function)\n",
    "\n",
    "# 8.4 메서드\n",
    "## 예시를 위해 list에서 사용한 객체를 사용한다.(3. 시퀀스형 참고)\n",
    "describe_type(list_value.append)\n",
    "\n",
    "# 8.5 코드\n",
    "example_code = compile('print(\"Hello, World!\")', '<string>', 'exec')\n",
    "describe_type(example_code)\n",
    "\n",
    "# 8.6 오브젝트 (객체)\n",
    "example_object = object()\n",
    "describe_type(example_object)"
   ],
   "id": "71349176fd9650d2",
   "outputs": [
    {
     "name": "stdout",
     "output_type": "stream",
     "text": [
      "Type: <class 'module'>\n",
      "Value: <module 'math' from '/Library/Frameworks/Python.framework/Versions/3.12/lib/python3.12/lib-dynload/math.cpython-312-darwin.so'>\n",
      "\n",
      "Type: <class 'type'>\n",
      "Value: <class '__main__.ExampleClass'>\n",
      "\n",
      "Type: <class 'function'>\n",
      "Value: <function example_function at 0x1067a20c0>\n",
      "\n",
      "Type: <class 'builtin_function_or_method'>\n",
      "Value: <built-in method append of list object at 0x1067af980>\n",
      "\n",
      "Type: <class 'code'>\n",
      "Value: <code object <module> at 0x1067b2330, file \"<string>\", line 1>\n",
      "\n",
      "Type: <class 'object'>\n",
      "Value: <object object at 0x106476420>\n",
      "\n"
     ]
    }
   ],
   "execution_count": 23
  }
 ],
 "metadata": {
  "kernelspec": {
   "display_name": "Python 3",
   "language": "python",
   "name": "python3"
  },
  "language_info": {
   "codemirror_mode": {
    "name": "ipython",
    "version": 2
   },
   "file_extension": ".py",
   "mimetype": "text/x-python",
   "name": "python",
   "nbconvert_exporter": "python",
   "pygments_lexer": "ipython2",
   "version": "2.7.6"
  }
 },
 "nbformat": 4,
 "nbformat_minor": 5
}
