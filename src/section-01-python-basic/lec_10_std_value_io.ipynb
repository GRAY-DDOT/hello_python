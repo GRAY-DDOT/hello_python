{
 "cells": [
  {
   "metadata": {},
   "cell_type": "markdown",
   "source": "# 10. 표준 IO(Standard Input and Output)",
   "id": "c714d1de737a8f88"
  },
  {
   "metadata": {},
   "cell_type": "markdown",
   "source": [
    "## 1. Python I/O 개요\n",
    "\n",
    "파이썬은 기본 라이브러리를 통해 프로그램 외부 값 입력, 처리 결과를 화면에 출력을 지원함\n",
    "- **표준 입력(Standard Input)**: 입력을 통해 프로그램에 데이터를 전달(보통 키보드, 또는 다른 입력)\n",
    "- **표준 출력(Standard Output)**: 계산 결과, 메시지 등을 출력(보통 모니터 화면, 또 다른 출력)\n",
    "\n",
    "표준 I/O는 별도의 추가 설정 없이 `input()`, `print()`와 같은 내장 함수를 통해 간단히 사용 가능"
   ],
   "id": "1ee0553c6f4edb1c"
  },
  {
   "metadata": {},
   "cell_type": "markdown",
   "source": [
    "## 2. 표준 콘솔 입력(Standard Input - Console)\n",
    "\n",
    "사용자가 엔터를 칠 때까지 대기하며, 입력받은 문자열을 반환\n",
    "\n",
    "### 2.1 `input()` 함수의 기본 사용법\n",
    "\n",
    "- 호출 : input() 함수, 매개 변수의 문자열을 출력하는 기능이 있음\n",
    "- 값의 반환 : 사용자가 엔터 입력(줄바꿈)할 때 까지 대기, 입력을 문자열로 반환"
   ],
   "id": "c9c3c3541c3ccb6d"
  },
  {
   "metadata": {
    "ExecuteTime": {
     "end_time": "2024-12-15T08:09:28.879469Z",
     "start_time": "2024-12-15T08:09:23.448175Z"
    }
   },
   "cell_type": "code",
   "source": [
    "user_input = input(\"값을 입력하세요: \")\n",
    "print(\"입력받은 값:\", user_input)"
   ],
   "id": "6417a19e46ed8183",
   "outputs": [
    {
     "name": "stdout",
     "output_type": "stream",
     "text": [
      "입력받은 값: 1\n"
     ]
    }
   ],
   "execution_count": 23
  },
  {
   "metadata": {},
   "cell_type": "markdown",
   "source": [
    "### 2.2 입력받은 문자열 처리하기\n",
    "\n",
    "- `input()`으로 받은 데이터는 기본적으로 문자열(string) 타입임\n",
    "- 그 외의 타입으로 연산 및 처리 하기 위해서는 적절한 타입 변환이 필요"
   ],
   "id": "97b13c4e3cef1c2c"
  },
  {
   "metadata": {
    "ExecuteTime": {
     "end_time": "2024-12-13T08:07:07.028568Z",
     "start_time": "2024-12-13T08:07:06.069715Z"
    }
   },
   "cell_type": "code",
   "source": [
    "# 문자열을 입력받은 후, 문자열 길이를 구해보자.\n",
    "text = input(\"아무 문자열을 입력하세요: \")\n",
    "length = len(text)\n",
    "print(f\"입력한 문자열: '{text}'의 길이는 {length}입니다.\")"
   ],
   "id": "e93c79a750ad03c9",
   "outputs": [
    {
     "ename": "KeyboardInterrupt",
     "evalue": "Interrupted by user",
     "output_type": "error",
     "traceback": [
      "\u001B[0;31m---------------------------------------------------------------------------\u001B[0m",
      "\u001B[0;31mKeyboardInterrupt\u001B[0m                         Traceback (most recent call last)",
      "Cell \u001B[0;32mIn[1], line 2\u001B[0m\n\u001B[1;32m      1\u001B[0m \u001B[38;5;66;03m# 문자열을 입력받은 후, 문자열 길이를 구해보자.\u001B[39;00m\n\u001B[0;32m----> 2\u001B[0m text \u001B[38;5;241m=\u001B[39m \u001B[38;5;28;43minput\u001B[39;49m\u001B[43m(\u001B[49m\u001B[38;5;124;43m\"\u001B[39;49m\u001B[38;5;124;43m아무 문자열을 입력하세요: \u001B[39;49m\u001B[38;5;124;43m\"\u001B[39;49m\u001B[43m)\u001B[49m\n\u001B[1;32m      3\u001B[0m length \u001B[38;5;241m=\u001B[39m \u001B[38;5;28mlen\u001B[39m(text)\n\u001B[1;32m      4\u001B[0m \u001B[38;5;28mprint\u001B[39m(\u001B[38;5;124mf\u001B[39m\u001B[38;5;124m\"\u001B[39m\u001B[38;5;124m입력한 문자열: \u001B[39m\u001B[38;5;124m'\u001B[39m\u001B[38;5;132;01m{\u001B[39;00mtext\u001B[38;5;132;01m}\u001B[39;00m\u001B[38;5;124m'\u001B[39m\u001B[38;5;124m의 길이는 \u001B[39m\u001B[38;5;132;01m{\u001B[39;00mlength\u001B[38;5;132;01m}\u001B[39;00m\u001B[38;5;124m입니다.\u001B[39m\u001B[38;5;124m\"\u001B[39m)\n",
      "File \u001B[0;32m~/dev_training/PythonStudy/hello_python/.venv/lib/python3.12/site-packages/ipykernel/kernelbase.py:1282\u001B[0m, in \u001B[0;36mKernel.raw_input\u001B[0;34m(self, prompt)\u001B[0m\n\u001B[1;32m   1280\u001B[0m     msg \u001B[38;5;241m=\u001B[39m \u001B[38;5;124m\"\u001B[39m\u001B[38;5;124mraw_input was called, but this frontend does not support input requests.\u001B[39m\u001B[38;5;124m\"\u001B[39m\n\u001B[1;32m   1281\u001B[0m     \u001B[38;5;28;01mraise\u001B[39;00m StdinNotImplementedError(msg)\n\u001B[0;32m-> 1282\u001B[0m \u001B[38;5;28;01mreturn\u001B[39;00m \u001B[38;5;28;43mself\u001B[39;49m\u001B[38;5;241;43m.\u001B[39;49m\u001B[43m_input_request\u001B[49m\u001B[43m(\u001B[49m\n\u001B[1;32m   1283\u001B[0m \u001B[43m    \u001B[49m\u001B[38;5;28;43mstr\u001B[39;49m\u001B[43m(\u001B[49m\u001B[43mprompt\u001B[49m\u001B[43m)\u001B[49m\u001B[43m,\u001B[49m\n\u001B[1;32m   1284\u001B[0m \u001B[43m    \u001B[49m\u001B[38;5;28;43mself\u001B[39;49m\u001B[38;5;241;43m.\u001B[39;49m\u001B[43m_parent_ident\u001B[49m\u001B[43m[\u001B[49m\u001B[38;5;124;43m\"\u001B[39;49m\u001B[38;5;124;43mshell\u001B[39;49m\u001B[38;5;124;43m\"\u001B[39;49m\u001B[43m]\u001B[49m\u001B[43m,\u001B[49m\n\u001B[1;32m   1285\u001B[0m \u001B[43m    \u001B[49m\u001B[38;5;28;43mself\u001B[39;49m\u001B[38;5;241;43m.\u001B[39;49m\u001B[43mget_parent\u001B[49m\u001B[43m(\u001B[49m\u001B[38;5;124;43m\"\u001B[39;49m\u001B[38;5;124;43mshell\u001B[39;49m\u001B[38;5;124;43m\"\u001B[39;49m\u001B[43m)\u001B[49m\u001B[43m,\u001B[49m\n\u001B[1;32m   1286\u001B[0m \u001B[43m    \u001B[49m\u001B[43mpassword\u001B[49m\u001B[38;5;241;43m=\u001B[39;49m\u001B[38;5;28;43;01mFalse\u001B[39;49;00m\u001B[43m,\u001B[49m\n\u001B[1;32m   1287\u001B[0m \u001B[43m\u001B[49m\u001B[43m)\u001B[49m\n",
      "File \u001B[0;32m~/dev_training/PythonStudy/hello_python/.venv/lib/python3.12/site-packages/ipykernel/kernelbase.py:1325\u001B[0m, in \u001B[0;36mKernel._input_request\u001B[0;34m(self, prompt, ident, parent, password)\u001B[0m\n\u001B[1;32m   1322\u001B[0m \u001B[38;5;28;01mexcept\u001B[39;00m \u001B[38;5;167;01mKeyboardInterrupt\u001B[39;00m:\n\u001B[1;32m   1323\u001B[0m     \u001B[38;5;66;03m# re-raise KeyboardInterrupt, to truncate traceback\u001B[39;00m\n\u001B[1;32m   1324\u001B[0m     msg \u001B[38;5;241m=\u001B[39m \u001B[38;5;124m\"\u001B[39m\u001B[38;5;124mInterrupted by user\u001B[39m\u001B[38;5;124m\"\u001B[39m\n\u001B[0;32m-> 1325\u001B[0m     \u001B[38;5;28;01mraise\u001B[39;00m \u001B[38;5;167;01mKeyboardInterrupt\u001B[39;00m(msg) \u001B[38;5;28;01mfrom\u001B[39;00m \u001B[38;5;28;01mNone\u001B[39;00m\n\u001B[1;32m   1326\u001B[0m \u001B[38;5;28;01mexcept\u001B[39;00m \u001B[38;5;167;01mException\u001B[39;00m:\n\u001B[1;32m   1327\u001B[0m     \u001B[38;5;28mself\u001B[39m\u001B[38;5;241m.\u001B[39mlog\u001B[38;5;241m.\u001B[39mwarning(\u001B[38;5;124m\"\u001B[39m\u001B[38;5;124mInvalid Message:\u001B[39m\u001B[38;5;124m\"\u001B[39m, exc_info\u001B[38;5;241m=\u001B[39m\u001B[38;5;28;01mTrue\u001B[39;00m)\n",
      "\u001B[0;31mKeyboardInterrupt\u001B[0m: Interrupted by user"
     ]
    }
   ],
   "execution_count": 1
  },
  {
   "metadata": {},
   "cell_type": "markdown",
   "source": [
    "### 2.3 정수, 실수 변환\n",
    "\n",
    "- `input()` 함수로 받은 문자열을 `int()`나 `float()` 함수를 사용하여 정수나 실수로 변환할 수 있다.\n",
    "- 정수 : int(str)\n",
    "- 실수 : float(str)\n",
    "- 복소수 : complex(str)\n",
    "- 불리언 : bool(str)\n",
    "- 바이트열 : bytes(str, encoding_type)\n",
    "- 바이트 배열 : bytearray(str, encoding_type) (encoding_type는 utf-8등의 문자 인코딩 방식을 의미함)\n"
   ],
   "id": "5878eeee6de9120a"
  },
  {
   "metadata": {},
   "cell_type": "code",
   "outputs": [],
   "execution_count": null,
   "source": [
    "num_str = input(\"정수를 입력하세요: \")\n",
    "num = int(num_str)  # 입력값을 정수로 변환\n",
    "result = num + 10\n",
    "print(f\"{num}에 10을 더하면 {result}입니다.\")\n",
    "float_str = input(\"실수를 입력하세요: \")\n",
    "f_num = float(float_str)  # 입력값을 실수로 변환\n",
    "result = f_num * 2\n",
    "print(f\"{f_num}에 2를 곱하면 {result}입니다.\")"
   ],
   "id": "b8d3de7e9061ff49"
  },
  {
   "metadata": {},
   "cell_type": "markdown",
   "source": [
    "### 2.4 문자열 분리(split) 활용\n",
    "\n",
    "- 한 번에 여러 값을 입력 및 처리해야 하는 경우 : `input()` 함수로 받은 문자열을 `split()` 메서드로 나눌 수 있음\n",
    "- split() : 문자열을 특정 구분자(Delimiter, Seperator)를 기준으로 분리하여 리스트 형태로 반환하는 함수\n",
    "- `str.split(sep=None, maxsplit=-1)`\n",
    "- sep (선택적 인자): 문자열을 분리할 때 사용할 구분자를 지정\n",
    "    - sep 미 지정(기본값) : 연속된 공백 문자(스페이스, 탭, 줄바꿈)를 하나의 구분자로 간주\n",
    "        - str.isspace()==true인 모든 공백 문자, \" \", \"\\s\", \"\\t\", \"\\n\", \"\\r\", \"\\f\", \"\\v\"\n",
    "        - 기본적으로 빈 문자열과 \"\" 연속된 공백을 무시함(연속 공백 => 하나의 공백으로 처리)\n",
    "    - sep가 빈 문자열(\"\")이면 ValueError 발생(구분자는 최소 1자 이상)\n",
    "    - 공백 이외의 문자(예: \",\", \":\", \";\", 특정 단어 등)를 구분자로 지정 가능\n",
    "- maxsplit (선택적 인자): 분리할 최대 횟수를 제한(요소 수는 최대 maxsplit+1)\n",
    "    - 기본값 -1 : 제한 없이 모든 구분자를 기준으로 분리한다.\n",
    "    - ex) maxsplit=2 => 최대 2번까지만 분리 작업을 수행, 리스트는 최대 3개 요소 갖게됨\n",
    "- 반환값: 분리된 문자열 조각들을 담은 list를 반환한다."
   ],
   "id": "2769075c85aa96f3"
  },
  {
   "metadata": {
    "ExecuteTime": {
     "end_time": "2024-12-13T08:31:23.307414Z",
     "start_time": "2024-12-13T08:31:23.302815Z"
    }
   },
   "cell_type": "code",
   "source": [
    "# 공백\n",
    "s = \"Hello   World  Python\"\n",
    "result = s.split()  # sep 미지정 -> 연속 공백을 하나의 구분자로 처리\n",
    "print(result)  # [\"Hello\", \"World\", \"Python\"]\n",
    "\n",
    "# 특정 구분자 지정\n",
    "s = \"apple,banana,cherry\"\n",
    "result = s.split(\",\")  # 콤마를 구분자로 분리\n",
    "print(result)  # [\"apple\", \"banana\", \"cherry\"]\n",
    "\n",
    "# maxsplit 적용\n",
    "s = \"one two three four\"\n",
    "result = s.split(\" \", 2)  # 구분자는 공백, 최대 2번만 split\n",
    "print(result)  # [\"one\", \"two\", \"three four\"]\n",
    "\n",
    "# 여러 개의 구분자 적용(replace()로 구분자 통일 => split() 적용)\n",
    "s = \"apple;banana:cherry\"\n",
    "# 첫 번째 split\n",
    "temp = s.replace(\":\", \";\")  # 모든 \":\"를 \";\"로 대체 => \";\" 하나만 구분자로 사용 가능\n",
    "result = temp.split(\";\")\n",
    "# result = [\"apple\", \"banana\", \"cherry\"]\n"
   ],
   "id": "2f38b93bdaa748c5",
   "outputs": [
    {
     "name": "stdout",
     "output_type": "stream",
     "text": [
      "['Hello', 'World', 'Python']\n",
      "['apple', 'banana', 'cherry']\n",
      "['one', 'two', 'three four']\n"
     ]
    }
   ],
   "execution_count": 3
  },
  {
   "metadata": {
    "ExecuteTime": {
     "end_time": "2024-12-13T08:37:55.106200Z",
     "start_time": "2024-12-13T08:37:55.096063Z"
    }
   },
   "cell_type": "code",
   "source": [
    "# 공백 문자 종류 및 유니코드(아스키 코드 포함)\n",
    "import string\n",
    "\n",
    "for char in string.whitespace:\n",
    "    target = repr(char)\n",
    "    print(fr\"{target} -> U+{ord(char):04X}\")\n",
    "\n",
    "# ` `, `\\t`, `\\n`, `\\r`, `\\x0b` == `\\v`(수직 탭), `\\x0c` == `\\f`(폼 피드)\n"
   ],
   "id": "3318c91104e3b23c",
   "outputs": [
    {
     "name": "stdout",
     "output_type": "stream",
     "text": [
      "' ' -> U+0020\n",
      "'\\t' -> U+0009\n",
      "'\\n' -> U+000A\n",
      "'\\r' -> U+000D\n",
      "'\\x0b' -> U+000B\n",
      "'\\x0c' -> U+000C\n"
     ]
    }
   ],
   "execution_count": 13
  },
  {
   "metadata": {},
   "cell_type": "markdown",
   "source": [
    "## 3. 표준 콘솔 출력(Standard Output - console)\n",
    "\n",
    "Python에서 표준 출력을 수행하기 위해서는 주로 `print()` 함수를 사용한다. `print()` 함수는 문자열, 숫자, 변수 등의 다양한 종류의 데이터를 화면에 출력할 수 있으며, 구분자나 끝 문자를 지정하는 등의 세부 기능을 제공한다.\n",
    "\n",
    "### 3.1 `print()` 함수의 기본 구조\n"
   ],
   "id": "3c2cb86f8b983849"
  },
  {
   "metadata": {
    "ExecuteTime": {
     "end_time": "2024-12-13T08:45:04.921938Z",
     "start_time": "2024-12-13T08:45:04.919333Z"
    }
   },
   "cell_type": "code",
   "source": [
    "print(\"Hello, World!\")\n",
    "print(10)\n",
    "print(\"10+20 =\", 10 + 20)\n",
    "\n",
    "# 기본 구분자(sep) = 공백 문자(\" \")\n",
    "# 기본 종료 문자(end) = 개행(줄바꿈) 문자(\"\\n\")\n",
    "print(1, 2, 3, 4, 5)\n",
    "print(\"\\n\")\n",
    "print(\"_\")\n",
    "# 개행이 2줄로 적용 되었을 것"
   ],
   "id": "b9d95d7c5cf7737d",
   "outputs": [
    {
     "name": "stdout",
     "output_type": "stream",
     "text": [
      "Hello, World!\n",
      "10\n",
      "10+20 = 30\n",
      "1 2 3 4 5\n",
      "\n",
      "\n",
      "_\n"
     ]
    }
   ],
   "execution_count": 19
  },
  {
   "metadata": {},
   "cell_type": "markdown",
   "source": [
    "### 3.2 구분자(sep)와 끝문자(end) 옵션\n",
    "\n",
    "- `sep` 파라미터: `print()` 함수에 여러 값을 콤마로 구분하여 전달했을 때, 각 값 사이에 들어갈 문자를 지정할 수 있음\n",
    "    - 기본값 : 공백 한 칸(` `)\n",
    "- `end` 파라미터: `print()` 함수 호출 후 출력의 끝에 들어갈 문자를 지정할 수 있음\n",
    "    - 기본값 : 줄바꿈 문자(`\\n`)이다.\n"
   ],
   "id": "cb7b9c0cac7ec265"
  },
  {
   "metadata": {},
   "cell_type": "code",
   "outputs": [],
   "execution_count": null,
   "source": [
    "# sep 파라미터 사용\n",
    "print(\"사과\", \"바나나\", \"딸기\", sep=\", \")\n",
    "\n",
    "# end 파라미터 사용\n",
    "print(\"이 문장은 끝에 줄바꿈 대신 공백을 추가함.\", end=\" \")\n",
    "print(\"바로 뒤에 이어서 출력됨.\")"
   ],
   "id": "3b49ad03daf013fd"
  },
  {
   "metadata": {},
   "cell_type": "markdown",
   "source": "### 3.3 포매팅\n",
   "id": "4c2ba2c96ee5c08b"
  },
  {
   "metadata": {},
   "cell_type": "markdown",
   "source": [
    "#### 3.3.1. Formatted String Literals (f-strings)\n",
    "- 문자열 앞에 `f`, `F`를 붙이고 `{}`로 변수나 표현식 삽입\n",
    "- **포맷(형식) 지정자** 사용 가능:\n",
    "  - `:.3f`: 소수점 아래 3자리 표시\n",
    "  - `:10`: 최소 10칸 확보\n",
    "- 변환 옵션:\n",
    "  - `!a`: `ascii()` 적용\n",
    "  - `!s`: `str()` 적용\n",
    "  - `!r`: `repr()` 적용\n",
    "- `=` 표기법:\n",
    "  - 표현식과 결과를 함께 출력"
   ],
   "id": "d32aade5f2c5f79c"
  },
  {
   "metadata": {
    "ExecuteTime": {
     "end_time": "2024-12-15T08:18:35.440321Z",
     "start_time": "2024-12-15T08:18:35.434839Z"
    }
   },
   "cell_type": "code",
   "source": [
    "bugs = 'roaches'\n",
    "count = 13.5\n",
    "print(f'{bugs=} {count=}')\n",
    "print(f'{bugs} {count = }')\n",
    "print(f'{bugs = } {count:.2f}')\n",
    "print(f'{bugs = } {count = :.0f}')\n",
    "try:\n",
    "    print(f'{bugs = } {count = :d}')\n",
    "except ValueError as e:\n",
    "    print(f'{bugs = } {count = :.0f}')"
   ],
   "id": "8a62322aca1fe8b7",
   "outputs": [
    {
     "name": "stdout",
     "output_type": "stream",
     "text": [
      "bugs='roaches' count=13.5\n",
      "roaches count = 13.5\n",
      "bugs = 'roaches' 13.50\n",
      "bugs = 'roaches' count = 14\n",
      "bugs = 'roaches' count = 14\n"
     ]
    }
   ],
   "execution_count": 48
  },
  {
   "metadata": {},
   "cell_type": "markdown",
   "source": [
    "#### 3.3.2. `str.format()` 메서드\n",
    "- 중괄호 `{}`로 변수를 삽입.\n",
    "- 위치 인수와 키워드 인수 사용 가능\n",
    "\n",
    "##### 1. 위치 인수"
   ],
   "id": "f6cbd94cfa323c7d"
  },
  {
   "metadata": {},
   "cell_type": "code",
   "outputs": [],
   "execution_count": null,
   "source": "    print('{0} and {1}'.format('spam', 'eggs'))",
   "id": "c03a09be0e19ea4e"
  },
  {
   "metadata": {},
   "cell_type": "markdown",
   "source": "##### 2. 키워드 인수",
   "id": "891ecfbbe12a1e27"
  },
  {
   "metadata": {},
   "cell_type": "code",
   "outputs": [],
   "execution_count": null,
   "source": "    print('This {food} is {adjective}.'.format(food='spam', adjective='tasty'))",
   "id": "1ab950e8d1e44f62"
  },
  {
   "metadata": {},
   "cell_type": "markdown",
   "source": "##### 3. 딕셔너리를 사용하여 값 삽입",
   "id": "5007b412f002c0fc"
  },
  {
   "metadata": {},
   "cell_type": "code",
   "outputs": [],
   "execution_count": null,
   "source": [
    "  table = {'Jack': 4098, 'Sjoerd': 4127}\n",
    "print('Jack: {Jack:d}; Sjoerd: {Sjoerd:d}'.format(**table))"
   ],
   "id": "15eb43b2ed8d3718"
  },
  {
   "metadata": {
    "ExecuteTime": {
     "end_time": "2024-12-15T08:31:54.938425Z",
     "start_time": "2024-12-15T08:31:54.934942Z"
    }
   },
   "cell_type": "code",
   "source": [
    "table = {'Sjoerd': [4127, 1, 2], 'Jack': 4098, 'Dcab': 8637678}\n",
    "print('Jack: {0[Jack]:d}; Sjoerd: {0[Sjoerd]}; '\n",
    "      'Dcab: {0[Dcab]:d}'.format(table))"
   ],
   "id": "3460641354c17fe7",
   "outputs": [
    {
     "name": "stdout",
     "output_type": "stream",
     "text": [
      "Jack: 4098; Sjoerd: [4127, 1, 2]; Dcab: 8637678\n"
     ]
    }
   ],
   "execution_count": 10
  },
  {
   "metadata": {},
   "cell_type": "markdown",
   "source": [
    "---\n",
    "\n",
    "### 3.3.3. 수동 문자열 포맷팅\n",
    "- 문자열 메서드로 열 맞춤\n",
    "  - `str.rjust()`: 오른쪽 정렬\n",
    "  - `str.ljust()`: 왼쪽 정렬\n",
    "  - `str.center()`: 가운데 정렬\n",
    "- 숫자 채우기\n",
    "  - `str.zfill()`로 왼쪽을 0으로 채움\n",
    "  - 예시\n",
    "    ```python\n",
    "    print('12'.zfill(5))  # 출력: 00012\n",
    "    ```\n",
    "#### 3.3.4. 오래된 문자열 포맷팅 방식\n",
    "- `%` 연산자 및 형식 표기를 통한 포맷팅"
   ],
   "id": "e00007105f714457"
  },
  {
   "metadata": {
    "ExecuteTime": {
     "end_time": "2024-12-15T08:41:31.236875Z",
     "start_time": "2024-12-15T08:41:31.233500Z"
    }
   },
   "cell_type": "code",
   "source": [
    "import math\n",
    "\n",
    "print('Pi ~=  %.3f' % math.pi)"
   ],
   "id": "4b7c47dfd779c923",
   "outputs": [
    {
     "name": "stdout",
     "output_type": "stream",
     "text": [
      "Pi ~=  3.142\n"
     ]
    }
   ],
   "execution_count": 11
  }
 ],
 "metadata": {
  "kernelspec": {
   "display_name": "Python 3",
   "language": "python",
   "name": "python3"
  },
  "language_info": {
   "codemirror_mode": {
    "name": "ipython",
    "version": 2
   },
   "file_extension": ".py",
   "mimetype": "text/x-python",
   "name": "python",
   "nbconvert_exporter": "python",
   "pygments_lexer": "ipython2",
   "version": "2.7.6"
  }
 },
 "nbformat": 4,
 "nbformat_minor": 5
}
