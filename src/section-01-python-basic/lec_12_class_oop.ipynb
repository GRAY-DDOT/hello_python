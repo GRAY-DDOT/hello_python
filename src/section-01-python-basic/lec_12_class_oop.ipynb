{
 "cells": [
  {
   "metadata": {},
   "cell_type": "markdown",
   "source": "# Python Class, OOP Basic",
   "id": "12166c5c56d99121"
  },
  {
   "metadata": {},
   "cell_type": "markdown",
   "source": [
    "## 1. 객체지향 프로그래밍(OOP) 개념\n",
    "### 1.1 객체지향 프로그래밍이란?\n",
    "- 객체지향 프로그래밍(Object-Oriented Programming)\n",
    "- 데이터를 객체(object) 단위로 나누고, 해당 데이터를 처리하는 메서드(method)를 함께 정의하여 문제를 해결하는 프로그래밍 패러다임\n",
    "\n",
    "- 객체(Object): 속성과 동작을 가지는 독립적인 단위\n",
    "- 클래스(Class): 객체를 생성하기 위한 청사진(설계도)\n",
    "- 예제:\n",
    "  - 객체: `자동차` → 속성: `색상, 모델`, 동작: `달리기, 정지하기`\n",
    "  - 클래스: `Car` → `자동차`라는 객체를 만들기 위한 설계도\n",
    "\n"
   ],
   "id": "71b993892e90af9b"
  },
  {
   "metadata": {},
   "cell_type": "markdown",
   "source": [
    "### 1.2 객체지향 프로그래밍의 4대 원칙(캡상추다)\n",
    "1. 추상화 (Abstraction)\n",
    "   - 불필요한 세부정보를 숨기고, 객체의 중요한 속성과 동작만 노출\n",
    "   - 예: 자동차의 내부 엔진 작동 원리를 몰라도, 운전자가 핸들과 페달만으로 차를 조작할 수 있음\n",
    "\n",
    "2. 캡슐화 (Encapsulation)\n",
    "   - 데이터를 보호하고, 외부에서 접근을 제한. 필요 시 메서드로만 데이터 접근\n",
    "   - 예: 클래스의 속성에 직접 접근을 제한하고, getter와 setter 메서드 제공\n",
    "\n",
    "3. 상속 (Inheritance)\n",
    "   - 기존 클래스(부모 클래스)의 속성과 메서드를 새로운 클래스(자식 클래스)가 재사용\n",
    "   - 예: `Animal` 클래스 → `Dog`와 `Cat` 클래스가 상속받아 공통 동작을 공유\n",
    "\n",
    "4. 다형성 (Polymorphism)\n",
    "   - 동일한 이름의 메서드가 다른 동작을 할 수 있음\n",
    "   - 예: `speak()` 메서드 → `Dog` 클래스에서는 `bark`, `Cat` 클래스에서는 `meow`로 구현\n",
    "\n",
    "---\n"
   ],
   "id": "52ef13fb05e5cf0f"
  },
  {
   "metadata": {},
   "cell_type": "markdown",
   "source": "## 2. 파이썬 클래스와 객체\n",
   "id": "dcef801a5c77ab"
  },
  {
   "metadata": {},
   "cell_type": "markdown",
   "source": [
    "### 2.1 클래스 정의\n",
    "클래스는 `class` 키워드를 사용해 정의\n",
    "```python\n",
    "class ClassName:\n",
    "    # 클래스 속성과 메서드 정의\n",
    "    pass\n",
    "    # 내부를 비워두기 위해 pass 키워드 사용\n",
    "```\n",
    "\n",
    "예제:\n",
    "```python\n",
    "class Car:\n",
    "    color = \"Red\"  # 클래스 속성\n",
    "    def drive(self):  # 메서드\n",
    "        print(\"The car is driving\")\n",
    "```\n",
    "\n",
    "---\n"
   ],
   "id": "2d4de45559c53b66"
  },
  {
   "metadata": {},
   "cell_type": "markdown",
   "source": [
    "### 2.2 객체 생성\n",
    "클래스를 사용해 객체를 생성 => 클래스 이름 호출(생성자)\n",
    "```python\n",
    "my_car = Car()  # Car 클래스의 객체 생성\n",
    "print(my_car.color)  # 클래스 속성 접근\n",
    "my_car.drive()  # 메서드 호출\n",
    "```\n",
    "\n",
    "---\n"
   ],
   "id": "131dd75e5705f112"
  },
  {
   "metadata": {},
   "cell_type": "markdown",
   "source": [
    "### 2.3 생성자 메서드 (`__init__`)\n",
    "- 객체 생성 시 호출되어 초기화를 담당\n",
    "- 속성을 설정하거나, 기본값을 초기화하는 데 사용\n",
    "- 호출은 `클래스이름()`으로 이루어짐, `__init__`는 내부적으로 호출됨\n",
    "\n",
    "예제:\n",
    "```python\n",
    "class Car:\n",
    "    def __init__(self, color, model):  # 생성자 메서드\n",
    "        self.color = color  # 객체 속성\n",
    "        self.model = model\n",
    "\n",
    "my_car = Car(\"Blue\", \"SUV\")\n",
    "print(my_car.color)  # Blue\n",
    "print(my_car.model)  # SUV\n",
    "```\n",
    "\n",
    "---\n"
   ],
   "id": "c5a03562ef03cff0"
  },
  {
   "metadata": {},
   "cell_type": "markdown",
   "source": [
    "### 2.4 인스턴스 속성과 메서드\n",
    "- 속성(Attribute): 객체의 상태를 저장\n",
    "- 메서드(Method): 객체가 수행할 동작을 정의\n",
    "\n",
    "예제:\n",
    "```python\n",
    "class Dog:\n",
    "    def __init__(self, name):\n",
    "        self.name = name  # 인스턴스 속성\n",
    "\n",
    "    def bark(self):  # 인스턴스 메서드\n",
    "        print(f\"{self.name} is barking!\")\n",
    "\n",
    "my_dog = Dog(\"Buddy\")\n",
    "my_dog.bark()  # Buddy is barking!\n",
    "```\n",
    "\n",
    "---\n"
   ],
   "id": "36b34c040e06cf34"
  },
  {
   "metadata": {},
   "cell_type": "markdown",
   "source": [
    "### 2.5 클래스 속성과 메서드\n",
    "- 클래스 속성: 클래스 전체에서 공유되는 속성(단일 인스턴스가 아닌 같은 클래스(타입)이 전부 공유)\n",
    "- 클래스 메서드: 클래스 자체를 대상으로 동작. `@classmethod`로 정의\n",
    "\n",
    "예제:\n",
    "```python\n",
    "class Car:\n",
    "    wheels = 4  # 클래스 속성\n",
    "\n",
    "    @classmethod\n",
    "    def describe(cls):  # 클래스 메서드\n",
    "        print(f\"A car typically has {cls.wheels} wheels.\")\n",
    "\n",
    "Car.describe()  # A car typically has 4 wheels\n",
    "```\n",
    "\n",
    "---\n"
   ],
   "id": "a0c66263d57cce64"
  },
  {
   "metadata": {},
   "cell_type": "markdown",
   "source": [
    "### 2.6 정적 메서드\n",
    "- 클래스와 객체에 관계없이 독립적으로 동작(객체 생성 없이 사용 가능, 일부 유틸리티 메서드에 사용됨. 객체지향에서는 가급적 지양함)\n",
    "- `@staticmethod`로 정의\n",
    "\n",
    "예제:\n",
    "```python\n",
    "class Math:\n",
    "    @staticmethod\n",
    "    def add(a, b):\n",
    "        return a + b\n",
    "\n",
    "print(Math.add(3, 5))  # 8\n",
    "```\n",
    "\n",
    "---\n"
   ],
   "id": "755adedf04c8c21a"
  },
  {
   "metadata": {},
   "cell_type": "markdown",
   "source": "## 3. 객체지향 프로그래밍 주요 개념 구현\n",
   "id": "571e6b686885b5a8"
  },
  {
   "metadata": {},
   "cell_type": "markdown",
   "source": [
    "### 3.1 상속\n",
    "- 부모 클래스의 속성과 메서드를 자식 클래스가 상속\n",
    "- 자식 클래스에서 부모 메서드를 재정의(오버라이딩) 가능\n",
    "\n",
    "예제:\n",
    "```python\n",
    "class Animal:\n",
    "    def speak(self):\n",
    "        print(\"The animal speaks\")\n",
    "\n",
    "class Dog(Animal):  # 상속\n",
    "    def speak(self):  # 메서드 오버라이딩\n",
    "        print(\"The dog barks\")\n",
    "\n",
    "dog = Dog()\n",
    "dog.speak()  # The dog barks\n",
    "```\n",
    "\n",
    "---\n"
   ],
   "id": "d1bf714f76836b73"
  },
  {
   "metadata": {},
   "cell_type": "markdown",
   "source": [
    "### 3.2 캡슐화\n",
    "- 속성을 프라이빗(private)으로 설정하고, getter/setter 메서드로 접근 제어\n",
    "- 속성 앞에 `_` 또는 `__`를 붙여 캡슐화\n",
    "\n",
    "예제:\n",
    "```python\n",
    "class Person:\n",
    "    def __init__(self, name):\n",
    "        self.__name = name  # private 속성\n",
    "\n",
    "    def get_name(self):\n",
    "        return self.__name\n",
    "\n",
    "    def set_name(self, name):\n",
    "        self.__name = name\n",
    "\n",
    "p = Person(\"Alice\")\n",
    "print(p.get_name())  # Alice\n",
    "p.set_name(\"Bob\")\n",
    "print(p.get_name())  # Bob\n",
    "```\n",
    "\n",
    "---\n"
   ],
   "id": "67c618b172a87ed4"
  },
  {
   "metadata": {},
   "cell_type": "markdown",
   "source": [
    "### 3.3 다형성\n",
    "- 동일한 인터페이스를 통해 서로 다른 객체의 동작을 수행\n",
    "\n",
    "예제:\n",
    "```python\n",
    "class Animal:\n",
    "    def speak(self):\n",
    "        pass\n",
    "\n",
    "class Dog(Animal):\n",
    "    def speak(self):\n",
    "        print(\"Bark\")\n",
    "\n",
    "class Cat(Animal):\n",
    "    def speak(self):\n",
    "        print(\"Meow\")\n",
    "\n",
    "animals = [Dog(), Cat()]\n",
    "for animal in animals:\n",
    "    animal.speak()\n",
    "# 출력:\n",
    "# Bark\n",
    "# Meow\n",
    "```\n",
    "\n",
    "---\n"
   ],
   "id": "eee842260a6bf170"
  },
  {
   "metadata": {},
   "cell_type": "markdown",
   "source": [
    "## 4. 추가\n",
    "\n",
    "### 4.1 특수 메서드\n",
    "- `__str__()`: 객체를 사람이 읽기 쉬운 문자열로 반환 (자바의 toString()과 유사함)\n",
    "- `__repr__()`: 객체를 디버깅용 문자열로 반환\n",
    "- `__len__()`: 객체 길이 반환\n",
    "- `__getitem__()`: 객체에서 키/인덱스로 값 가져오기\n",
    "\n",
    "예제:\n",
    "```python\n",
    "class Book:\n",
    "    def __init__(self, title):\n",
    "        self.title = title\n",
    "\n",
    "    def __str__(self):\n",
    "        return f\"Book title: {self.title}\"\n",
    "\n",
    "b = Book(\"Python Essentials\")\n",
    "print(b)  # Book title: Python Essentials\n",
    "```\n",
    "\n",
    "---\n"
   ],
   "id": "e558c5449cb44b79"
  },
  {
   "metadata": {},
   "cell_type": "markdown",
   "source": [
    "### 4.2 다중 상속\n",
    "- 두 개 이상의 부모 **클래스**를 상속받음\n",
    "- 다이아몬드 문제 해결을 위해 메서드 해결 순서(MRO) 사용\n",
    "    - 자식클래스\n",
    "    - 부모클래스(먼저 상속받은 순서대로 우선순위가 높음)\n",
    "    - (부모클래스가 상속을 받았을 경우 그 부모 클래스 )\n",
    "    - ...\n",
    "    - 최상위 : object 클래스\n",
    "\n",
    "예제:"
   ],
   "id": "b932039daacbe62e"
  },
  {
   "metadata": {
    "ExecuteTime": {
     "end_time": "2024-12-15T10:27:39.708090Z",
     "start_time": "2024-12-15T10:27:39.705607Z"
    }
   },
   "cell_type": "code",
   "source": [
    "class A:\n",
    "    def do_something(self):\n",
    "        print(\"A does something\")\n",
    "\n",
    "\n",
    "class B:\n",
    "    def do_something(self):\n",
    "        print(\"B does something\")\n",
    "\n",
    "\n",
    "class C(A, B):  # 다중 상속\n",
    "    pass\n",
    "\n",
    "\n",
    "c = C()\n",
    "print(C.__mro__)\n",
    "c.do_something()  # A does something (MRO에 따라)"
   ],
   "id": "118cc2ebfce76525",
   "outputs": [
    {
     "name": "stdout",
     "output_type": "stream",
     "text": [
      "(<class '__main__.C'>, <class '__main__.A'>, <class '__main__.B'>, <class 'object'>)\n",
      "A does something\n"
     ]
    }
   ],
   "execution_count": 3
  },
  {
   "metadata": {
    "ExecuteTime": {
     "end_time": "2024-12-15T10:28:33.709747Z",
     "start_time": "2024-12-15T10:28:33.707124Z"
    }
   },
   "cell_type": "code",
   "source": [
    "class Human:\n",
    "    def say(self):\n",
    "        print(\"안녕\")\n",
    "\n",
    "\n",
    "class Mother(Human):\n",
    "    def say(self):\n",
    "        super().say()  # super 클래스 사용\n",
    "\n",
    "\n",
    "class Father(Human):\n",
    "    def say(self):\n",
    "        print(\"아빠\")\n",
    "\n",
    "\n",
    "class Son(Mother, Father):\n",
    "    pass\n",
    "\n",
    "\n",
    "baby = Son()\n",
    "baby.say()\n",
    "\n",
    "print(Son.__mro__)"
   ],
   "id": "d86301379be9bbe",
   "outputs": [
    {
     "name": "stdout",
     "output_type": "stream",
     "text": [
      "아빠\n",
      "(<class '__main__.Son'>, <class '__main__.Mother'>, <class '__main__.Father'>, <class '__main__.Human'>, <class 'object'>)\n"
     ]
    }
   ],
   "execution_count": 4
  },
  {
   "metadata": {},
   "cell_type": "markdown",
   "source": [
    "### 4.3 추상 클래스\n",
    "- 특정 메서드를 반드시 구현하도록 강제\n",
    "- `abc` 모듈의 `ABC`와 `@abstractmethod`를 사용\n",
    "\n",
    "예제:\n",
    "```python\n",
    "from abc import ABC, abstractmethod\n",
    "\n",
    "class Shape(ABC):\n",
    "    @abstractmethod\n",
    "    def area(self):\n",
    "        pass\n",
    "\n",
    "class Circle(Shape):\n",
    "    def __init__(self, radius):\n",
    "        self.radius = radius\n",
    "\n",
    "    def area(self):\n",
    "        return 3.14 * self.radius  2\n",
    "\n",
    "circle = Circle(5)\n",
    "print(circle.area())  # 78.5\n",
    "```\n",
    "\n",
    "---"
   ],
   "id": "8de74af45c3dca20"
  }
 ],
 "metadata": {
  "kernelspec": {
   "display_name": "Python 3",
   "language": "python",
   "name": "python3"
  },
  "language_info": {
   "codemirror_mode": {
    "name": "ipython",
    "version": 2
   },
   "file_extension": ".py",
   "mimetype": "text/x-python",
   "name": "python",
   "nbconvert_exporter": "python",
   "pygments_lexer": "ipython2",
   "version": "2.7.6"
  }
 },
 "nbformat": 4,
 "nbformat_minor": 5
}
