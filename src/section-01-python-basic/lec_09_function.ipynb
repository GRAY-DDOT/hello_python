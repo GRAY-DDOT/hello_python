{
 "cells": [
  {
   "metadata": {},
   "cell_type": "markdown",
   "source": [
    "# 9. 파이썬 함수 (Functions)\n",
    "\n",
    "- 재사용 가능한 코드 블록"
   ],
   "id": "318d59d34828541e"
  },
  {
   "metadata": {},
   "cell_type": "markdown",
   "source": [
    "## 9-1. 함수의 정의\n",
    "\n",
    "### 기본 구조\n",
    "```python\n",
    "def 함수이름(매개변수1, 매개변수2, ... 마지막):\n",
    "    실행문\n",
    "    return 반환값\n",
    "```\n",
    "\n",
    "### 설명\n",
    "- `def`: 함수 정의 키워드\n",
    "- 함수 이름: 함수를 식별하는 이름. 소문자와 밑줄(_)로 구성\n",
    "- 매개변수: 함수 호출 시 전달받는 입력값\n",
    "- `return`: 함수가 반환하는 값. 생략 가능"
   ],
   "id": "5bdcfe8b83bd9389"
  },
  {
   "metadata": {},
   "cell_type": "code",
   "outputs": [],
   "execution_count": null,
   "source": [
    "# 기본 함수 정의 및 호출 예제\n",
    "def greet(name):\n",
    "    return f\"Hello, {name}!\"\n",
    "\n",
    "\n",
    "print(greet(\"Alice\"))  # Hello, Alice!"
   ],
   "id": "512258b8df66f98c"
  },
  {
   "metadata": {},
   "cell_type": "markdown",
   "source": [
    "## 9-2. 매개변수와 인자\n",
    "\n",
    "파이썬 함수는 다양한 방법으로 매개변수를 정의하고 사용할 수 있음\n",
    "\n",
    "### 9-2.1 위치 인자\n",
    "- 매개변수는 순서대로 전달됨"
   ],
   "id": "dad6c21db5d26ca7"
  },
  {
   "metadata": {},
   "cell_type": "code",
   "outputs": [],
   "execution_count": null,
   "source": [
    "def add(a, b):\n",
    "    return a + b\n",
    "\n",
    "\n",
    "print(add(3, 5))  # 8"
   ],
   "id": "2766f2dbd9508d80"
  },
  {
   "metadata": {},
   "cell_type": "markdown",
   "source": [
    "### 2.2 기본값 매개변수\n",
    "- 기본값 있는 매개변수는 값 전달하지 않아도 기본값이 적용됨"
   ],
   "id": "81246e89c92c6e0e"
  },
  {
   "metadata": {},
   "cell_type": "code",
   "outputs": [],
   "execution_count": null,
   "source": [
    "def greet(name=\"Guest\"):\n",
    "    return f\"Hello, {name}!\"\n",
    "\n",
    "\n",
    "print(greet())  # Hello, Guest!\n",
    "print(greet(\"John\"))  # Hello, John!"
   ],
   "id": "cb6fd92052ecf6b0"
  },
  {
   "metadata": {},
   "cell_type": "markdown",
   "source": [
    "### 2.3 키워드 인자\n",
    "- 매개변수 이름을 명시하여 전달할 수 있음"
   ],
   "id": "c9e8a3438462e4aa"
  },
  {
   "metadata": {},
   "cell_type": "code",
   "outputs": [],
   "execution_count": null,
   "source": [
    "def introduce(name, age):\n",
    "    return f\"My name is {name}, and I am {age} years old.\"\n",
    "\n",
    "\n",
    "print(introduce(name=\"Alice\", age=25))\n",
    "print(introduce(age=30, name=\"Bob\"))"
   ],
   "id": "3d690cfe6c0b9782"
  },
  {
   "metadata": {},
   "cell_type": "markdown",
   "source": [
    "### 2.4 가변 인자\n",
    "- 가변 인자는 매개변수의 수를 동적으로 처리할 때 사용\n",
    "\n",
    "#### `*args` (위치 가변 인자)\n",
    "- 여러 개의 위치 인자를 **튜플**로 처리(*가 해당 동작을 담당함. args는 관용구임)\n",
    "- 순서 기반으로 순차적으로 매개변수로 적용됨"
   ],
   "id": "c27d9513f092ad20"
  },
  {
   "metadata": {},
   "cell_type": "code",
   "outputs": [],
   "execution_count": null,
   "source": [
    "def add_all(*args):\n",
    "    return sum(args)\n",
    "\n",
    "\n",
    "print(add_all(1, 2, 3, 4))  # 10"
   ],
   "id": "8155ca9835ca81af"
  },
  {
   "metadata": {},
   "cell_type": "markdown",
   "source": [
    "#### `**kwargs` (키워드 가변 인자)\n",
    "- 여러 개의 키워드 인자를 **딕셔너리**로 처리(**가 해당 동작을 담당함. kargs는 관용구임)\n",
    "- k-v 형 이라는 것만 제외하면 순서 기반으로 처리됨"
   ],
   "id": "c1d71ba4f49bcc87"
  },
  {
   "metadata": {
    "ExecuteTime": {
     "end_time": "2024-12-13T07:47:54.284153Z",
     "start_time": "2024-12-13T07:47:54.281255Z"
    }
   },
   "cell_type": "code",
   "source": [
    "def print_details(**kwargs):\n",
    "    for key, value in kwargs.items():\n",
    "        print(f\"{key}: {value}\")\n",
    "\n",
    "\n",
    "print_details(name=\"Alice\", age=25, job=\"Engineer\")"
   ],
   "id": "3b0486cb7a1382e4",
   "outputs": [
    {
     "name": "stdout",
     "output_type": "stream",
     "text": [
      "name: Alice\n",
      "age: 25\n",
      "job: Engineer\n"
     ]
    }
   ],
   "execution_count": 11
  },
  {
   "metadata": {},
   "cell_type": "markdown",
   "source": [
    "## 9-3. 반환값\n",
    "\n",
    "### 9-3.1 단일 값 반환\n",
    "- `return` 키워드로 반환"
   ],
   "id": "87c1f17acd6df472"
  },
  {
   "metadata": {
    "ExecuteTime": {
     "end_time": "2024-12-13T07:50:02.114597Z",
     "start_time": "2024-12-13T07:50:02.110297Z"
    }
   },
   "cell_type": "code",
   "source": [
    "def square(x):\n",
    "    return x ** 2\n",
    "\n",
    "\n",
    "print(square(5))  # 25"
   ],
   "id": "fd7ca5ec7dc88602",
   "outputs": [
    {
     "name": "stdout",
     "output_type": "stream",
     "text": [
      "25\n"
     ]
    }
   ],
   "execution_count": 16
  },
  {
   "metadata": {},
   "cell_type": "markdown",
   "source": [
    "### 3.2 다중 값 반환\n",
    "- 튜플로 여러 값을 반환"
   ],
   "id": "769b9b9f2a151849"
  },
  {
   "metadata": {},
   "cell_type": "code",
   "outputs": [],
   "execution_count": null,
   "source": [
    "def calculate(a, b):\n",
    "    return a + b, a - b, a * b\n",
    "\n",
    "\n",
    "result = calculate(10, 5)\n",
    "print(result)  # (15, 5, 50)\n",
    "print(\"Sum:\", result[0])  # Sum: 15"
   ],
   "id": "84134a270eeb6c0b"
  },
  {
   "metadata": {},
   "cell_type": "markdown",
   "source": [
    "## 9-4. 함수의 스코프\n",
    "\n",
    "### 설명\n",
    "- 로컬 변수: 함수 내부에서 선언된 변수. 함수 외부에서 접근 불가\n",
    "- 전역 변수: 함수 외부에서 선언된 변수. 함수 내부에서도 접근 가능\n",
    "- `global` 키워드: 함수 내부에서 **전역 변수를 수정**할 때 사용"
   ],
   "id": "d980fe0b73e685b0"
  },
  {
   "metadata": {},
   "cell_type": "code",
   "outputs": [],
   "execution_count": null,
   "source": [
    "x = 10  # 전역 변수\n",
    "\n",
    "\n",
    "def modify_variable():\n",
    "    global x\n",
    "    x += 5  # 전역 변수 수정\n",
    "\n",
    "\n",
    "modify_variable()\n",
    "print(x)  # 15"
   ],
   "id": "706968b6ec30fba3"
  },
  {
   "metadata": {},
   "cell_type": "markdown",
   "source": [
    "## 9-5. 재귀 함수\n",
    "\n",
    "### 설명\n",
    "- 함수가 자기 자신을 호출하여 문제를 해결\n",
    "- 종료 조건을 반드시 명시"
   ],
   "id": "a5203813e7292e8"
  },
  {
   "metadata": {},
   "cell_type": "code",
   "outputs": [],
   "execution_count": null,
   "source": [
    "def factorial(n):\n",
    "    if n == 1:\n",
    "        return 1\n",
    "    return n * factorial(n - 1)\n",
    "\n",
    "\n",
    "print(factorial(5))  # 120"
   ],
   "id": "550afbd8dcd98ff9"
  },
  {
   "metadata": {},
   "cell_type": "markdown",
   "source": [
    "## 9-6. 람다 함수, 익명 함수 (Lambda Function, Anonymous Function)\n",
    "\n",
    "### 설명\n",
    "- 이름 없이 정의된 간단한 함수\n",
    "- `lambda 매개변수: 반환값` 형태, 반환값 형태에 함수의 조합도 사용 가능함"
   ],
   "id": "c6ef352b3b2ba9e0"
  },
  {
   "metadata": {
    "ExecuteTime": {
     "end_time": "2024-12-13T07:21:11.622055Z",
     "start_time": "2024-12-13T07:21:11.618564Z"
    }
   },
   "cell_type": "code",
   "source": [
    "square = lambda x: x ** 2\n",
    "print(square(4))  # 16\n",
    "print(type(square))\n",
    "\n",
    "add = lambda a, b: a + b\n",
    "print(add(3, 5))  # 8"
   ],
   "id": "52b716731a4cd773",
   "outputs": [
    {
     "name": "stdout",
     "output_type": "stream",
     "text": [
      "16\n",
      "<class 'function'>\n",
      "8\n"
     ]
    }
   ],
   "execution_count": 1
  },
  {
   "metadata": {},
   "cell_type": "markdown",
   "source": [
    "## 9-7. 고차 함수\n",
    "\n",
    "### 설명\n",
    "- 함수를 인자로 받거나 함수를 반환하는 함수\n",
    "- 합수형 프로그래밍을 지원하는 언어들의 기능(자바의 Stream도 비슷함)"
   ],
   "id": "f8b1e2c598d1c477"
  },
  {
   "metadata": {
    "ExecuteTime": {
     "end_time": "2024-12-13T07:22:12.866148Z",
     "start_time": "2024-12-13T07:22:12.861277Z"
    }
   },
   "cell_type": "code",
   "source": [
    "# 예제\n",
    "# 1. `map()` 함수: 각 요소에 함수를 적용\n",
    "\n",
    "nums = [1, 2, 3, 4]\n",
    "squared = list(map(lambda x: x ** 2, nums))\n",
    "print(type(squared))\n",
    "print(squared)  # [1, 4, 9, 16]\n",
    "\n",
    "# 2. `filter()` 함수: 조건을 만족하는 요소만 반환\n",
    "nums = [1, 2, 3, 4]\n",
    "even = list(filter(lambda x: x % 2 == 0, nums))\n",
    "print(type(even))\n",
    "print(even)  # [2, 4]\n",
    "\n",
    "# 3. `reduce()` 함수: 값을 누적하여 하나로 축소\n",
    "from functools import reduce\n",
    "\n",
    "nums = [1, 2, 3, 4]\n",
    "total = reduce(lambda x, y: x + y, nums)\n",
    "print(type(total))\n",
    "print(total)  # 10"
   ],
   "id": "92fdad2150fd50bc",
   "outputs": [
    {
     "name": "stdout",
     "output_type": "stream",
     "text": [
      "<class 'list'>\n",
      "[1, 4, 9, 16]\n",
      "<class 'list'>\n",
      "[2, 4]\n",
      "<class 'int'>\n",
      "10\n"
     ]
    }
   ],
   "execution_count": 2
  },
  {
   "metadata": {},
   "cell_type": "markdown",
   "source": [
    "## 9-8. 함수 데코레이터\n",
    "\n",
    "### 설명\n",
    "- 함수를 수정하지 않고 기능을 추가, 별도로 정의한 고차함수를 이용해 특정 함수를 wrapping 하거나 대체 가능\n",
    "- `@데코레이터이름`으로 사용\n"
   ],
   "id": "a8f5738a1740bb6e"
  },
  {
   "metadata": {
    "ExecuteTime": {
     "end_time": "2024-12-13T07:38:22.153928Z",
     "start_time": "2024-12-13T07:38:22.150468Z"
    }
   },
   "cell_type": "code",
   "source": [
    "# @logger 정의, 매개변수로 함수(메서드)를 넣을 것임을 고려해야함\n",
    "def logger(func):\n",
    "    def wrapper(*args, **kwargs):\n",
    "        print(f\"Calling {func.__name__} with {args} {kwargs}\")\n",
    "        return func(*args, **kwargs)\n",
    "\n",
    "    return wrapper  # 기존 함수를 대체하는 함수 반환\n",
    "\n",
    "\n",
    "@logger\n",
    "def greet(name):\n",
    "    return f\"Hello, {name}!\"\n",
    "\n",
    "\n",
    "print(greet(\"Alice\"))\n",
    "\n",
    "# Calling greet with ('Alice',) {} (=> 키워드 인수가 없어 해당 자리는 비워짐)\n",
    "# Hello, Alice! (return func(*args, **kwargs) 결과)"
   ],
   "id": "519646b2dfdbb4bd",
   "outputs": [
    {
     "name": "stdout",
     "output_type": "stream",
     "text": [
      "Calling greet with ('Alice',) {}\n",
      "Hello, Alice!\n"
     ]
    }
   ],
   "execution_count": 9
  },
  {
   "metadata": {},
   "cell_type": "markdown",
   "source": [
    "## 요약\n",
    "1. 함수 정의: `def` 키워드 사용\n",
    "2. 매개변수: 위치, 키워드, 기본값, 가변 인자\n",
    "3. 반환값: 단일/다중 반환\n",
    "4. 스코프: 로컬/전역 변수 구분\n",
    "5. 재귀: 자기 자신을 호출하는 함수\n",
    "6. 익명 함수: `lambda` 키워드 사용\n",
    "7. 고차 함수: `map`, `filter`, `reduce`\n",
    "8. 데코레이터: 함수에 기능 추가"
   ],
   "id": "4caf6166c15fb87d"
  }
 ],
 "metadata": {
  "kernelspec": {
   "display_name": "Python 3",
   "language": "python",
   "name": "python3"
  },
  "language_info": {
   "codemirror_mode": {
    "name": "ipython",
    "version": 2
   },
   "file_extension": ".py",
   "mimetype": "text/x-python",
   "name": "python",
   "nbconvert_exporter": "python",
   "pygments_lexer": "ipython2",
   "version": "2.7.6"
  }
 },
 "nbformat": 4,
 "nbformat_minor": 5
}
