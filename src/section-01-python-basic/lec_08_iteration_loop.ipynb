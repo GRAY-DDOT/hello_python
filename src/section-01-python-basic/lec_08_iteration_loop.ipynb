{
 "cells": [
  {
   "metadata": {},
   "cell_type": "markdown",
   "source": [
    "# 8. 파이썬 반복문 (Loops, iteration)\n",
    "\n",
    "- `for`, `while`를 통해 시퀀스나 조건에 따라 작업 반복"
   ],
   "id": "3497fc882a183c71"
  },
  {
   "metadata": {},
   "cell_type": "markdown",
   "source": [
    "## 8-1. 반복문의 기본 정의\n",
    "- `for` 반복문: 시퀀스(리스트, 튜플, 문자열 등)의 각 요소를 순회\n",
    "- `while` 반복문: 조건이 참일 때 반복\n",
    "\n",
    "### 반복문 사용의 주요 목적\n",
    "- 데이터 처리\n",
    "- 조건에 따라 반복적인 작업 수행\n",
    "- 알고리즘 구현 (예: 검색, 정렬 등)\n",
    "\n"
   ],
   "id": "d731c0fe36ed8fda"
  },
  {
   "metadata": {},
   "cell_type": "markdown",
   "source": [
    "## 8-2. `for` 반복문\n",
    "\n",
    "### 구문\n",
    "```python\n",
    "for 변수 in 시퀀스:\n",
    "    실행문\n",
    "```\n",
    "\n",
    "### 설명\n",
    "- 시퀀스의 요소를 하나씩 가져와 변수에 할당하고 실행문을 반복 실행\n"
   ],
   "id": "41f2ab5c81e7abf7"
  },
  {
   "metadata": {},
   "cell_type": "code",
   "outputs": [],
   "execution_count": null,
   "source": [
    "# 예제\n",
    "```python\n",
    "fruits = [\"apple\", \"banana\", \"cherry\"]\n",
    "for fruit in fruits:\n",
    "    print(fruit)\n",
    "```"
   ],
   "id": "6e4f977628b76f32"
  },
  {
   "metadata": {},
   "cell_type": "markdown",
   "source": [
    "### 2.1 `for`와 `range()` 함수\n",
    "\n",
    "- `range(start, stop, step)`:\n",
    "  - `start`: 시작 값 (기본값: 0)\n",
    "  - `stop`: 종료 값 (포함되지 않음)\n",
    "  - `step`: 증가 또는 감소 단위 (기본값: 1)"
   ],
   "id": "ddce61da174de139"
  },
  {
   "metadata": {
    "ExecuteTime": {
     "end_time": "2025-01-17T05:25:22.724176Z",
     "start_time": "2025-01-17T05:25:22.721617Z"
    }
   },
   "cell_type": "code",
   "source": [
    "for i in range(1, 10, 1):  # 1부터 9까지 2씩 증가\n",
    "    print(i)"
   ],
   "id": "5439edadf22647ae",
   "outputs": [
    {
     "name": "stdout",
     "output_type": "stream",
     "text": [
      "1\n",
      "2\n",
      "3\n",
      "4\n",
      "5\n",
      "6\n",
      "7\n",
      "8\n",
      "9\n"
     ]
    }
   ],
   "execution_count": 6
  },
  {
   "metadata": {
    "ExecuteTime": {
     "end_time": "2025-01-17T05:30:52.944037Z",
     "start_time": "2025-01-17T05:30:52.940956Z"
    }
   },
   "cell_type": "code",
   "source": [
    "for i in [1, 2, 4, -1]:\n",
    "    print(i)"
   ],
   "id": "51019c2eb61a9fa5",
   "outputs": [
    {
     "name": "stdout",
     "output_type": "stream",
     "text": [
      "1\n",
      "2\n",
      "4\n",
      "-1\n",
      "8\n"
     ]
    }
   ],
   "execution_count": 18
  },
  {
   "metadata": {},
   "cell_type": "markdown",
   "source": [
    "## 8-3. `while` 반복문\n",
    "\n",
    "### 구문\n",
    "```python\n",
    "while 조건:\n",
    "    실행문\n",
    "```\n",
    "\n",
    "### 설명\n",
    "- 조건이 참 => 실행문 반복 실행\n",
    "- 조건이 거짓 => 되면 반복 종료\n"
   ],
   "id": "1c4594b977d522bc"
  },
  {
   "metadata": {},
   "cell_type": "code",
   "outputs": [],
   "execution_count": null,
   "source": [
    "# 예제\n",
    "count = 5\n",
    "while count > 0:\n",
    "    print(count)\n",
    "    count -= 1"
   ],
   "id": "832b6835a89ee249"
  },
  {
   "metadata": {},
   "cell_type": "markdown",
   "source": [
    "## 8-4. 제어문\n",
    "\n",
    "반복문 실행 흐름을 제어하기 위해 사용\n"
   ],
   "id": "5d6dfbebd3df906e"
  },
  {
   "metadata": {},
   "cell_type": "markdown",
   "source": [
    "### 8-4.1 `break`\n",
    "- 반복문을 즉시 종료\n"
   ],
   "id": "91a3d5eabe50a80c"
  },
  {
   "metadata": {
    "ExecuteTime": {
     "end_time": "2025-01-17T05:33:31.144640Z",
     "start_time": "2025-01-17T05:33:31.140698Z"
    }
   },
   "cell_type": "code",
   "source": [
    "# 예제\n",
    "for i in range(10):\n",
    "    if i == 5:\n",
    "        break\n",
    "    print(i)"
   ],
   "id": "a4030f57855bbb05",
   "outputs": [
    {
     "name": "stdout",
     "output_type": "stream",
     "text": [
      "0\n",
      "1\n",
      "2\n",
      "3\n",
      "4\n",
      "i =  5\n"
     ]
    }
   ],
   "execution_count": 23
  },
  {
   "metadata": {},
   "cell_type": "markdown",
   "source": [
    "### 8-4.2 `continue`\n",
    "- 현재 반복을 건너뛰고 다음 반복으로 이동\n"
   ],
   "id": "d55b2af91a58f838"
  },
  {
   "metadata": {
    "ExecuteTime": {
     "end_time": "2025-01-17T05:34:09.336479Z",
     "start_time": "2025-01-17T05:34:09.333406Z"
    }
   },
   "cell_type": "code",
   "source": [
    "# 예제\n",
    "for i in range(5):\n",
    "    if i == 2:\n",
    "        continue\n",
    "    print(i)"
   ],
   "id": "6d8c5109e0083992",
   "outputs": [
    {
     "name": "stdout",
     "output_type": "stream",
     "text": [
      "0\n",
      "1\n",
      "3\n",
      "4\n"
     ]
    }
   ],
   "execution_count": 24
  },
  {
   "metadata": {},
   "cell_type": "markdown",
   "source": [
    "### 8-4.3 `else`와 반복문\n",
    "- 반복문이 정상적으로 종료되면 `else` 블록이 실행됨\n",
    "- `break`로 인해 종료된 경우에는 실행되지 않음\n"
   ],
   "id": "2fc97a0b809dc47e"
  },
  {
   "metadata": {
    "ExecuteTime": {
     "end_time": "2025-02-01T12:03:03.781610Z",
     "start_time": "2025-02-01T12:03:03.779021Z"
    }
   },
   "cell_type": "code",
   "source": [
    "# 예제\n",
    "for i in range(5):\n",
    "    print(i)\n",
    "else:\n",
    "    print(\"Loop completed without a break\")\n",
    "\n",
    "for i in range(5):\n",
    "    print(i)\n",
    "    if i == 3:\n",
    "        break\n",
    "else:\n",
    "    print(\"Loop completed without a break\")"
   ],
   "id": "c4f76da4e4d8b5ed",
   "outputs": [
    {
     "name": "stdout",
     "output_type": "stream",
     "text": [
      "0\n",
      "1\n",
      "2\n",
      "3\n",
      "4\n",
      "Loop completed without a break\n",
      "0\n",
      "1\n",
      "2\n",
      "3\n"
     ]
    }
   ],
   "execution_count": 1
  },
  {
   "metadata": {},
   "cell_type": "markdown",
   "source": [
    "## 8-5. 중첩 반복문\n",
    "\n",
    "### 설명\n",
    "- 반복문 안에 또 다른 반복문을 작성하여 다차원 데이터 처리\n"
   ],
   "id": "e602234aed3aec28"
  },
  {
   "metadata": {
    "ExecuteTime": {
     "end_time": "2025-01-17T05:39:54.014557Z",
     "start_time": "2025-01-17T05:39:54.010048Z"
    }
   },
   "cell_type": "code",
   "source": [
    "# 예제\n",
    "for i in range(3):\n",
    "    for j in range(2):\n",
    "        print(f\"i={i}, j={j}\")"
   ],
   "id": "8ac58506c7643242",
   "outputs": [
    {
     "name": "stdout",
     "output_type": "stream",
     "text": [
      "[[1, 2, 3], [1, 2, 3], [4, 5, 6]]\n",
      "1\n",
      "2\n",
      "3\n",
      "1\n",
      "2\n",
      "3\n",
      "4\n",
      "5\n",
      "6\n"
     ]
    }
   ],
   "execution_count": 26
  },
  {
   "metadata": {},
   "cell_type": "markdown",
   "source": [
    "## 8-6. 무한 반복\n",
    "\n",
    "### 설명\n",
    "- 조건이 항상 참이면 반복문이 끝나지 않음\n",
    "- 주의: `break`를 사용하여 종료 조건을 반드시 포함\n"
   ],
   "id": "9fdc52358b7fc89f"
  },
  {
   "metadata": {},
   "cell_type": "code",
   "outputs": [],
   "execution_count": null,
   "source": [
    "# 예제\n",
    "while True:\n",
    "    user_input = input(\"Type 'exit' to stop: \")\n",
    "    if user_input == \"exit\":\n",
    "        break\n",
    "    print(\"You typed:\", user_input)"
   ],
   "id": "2a646257b7170366"
  },
  {
   "metadata": {},
   "cell_type": "markdown",
   "source": [
    "## 8-7. 반복문에서 `pass`\n",
    "\n",
    "### 설명\n",
    "- 실행할 코드가 없는 경우 사용. 반복문의 구조를 유지\n"
   ],
   "id": "27723cbcb2bc72d9"
  },
  {
   "metadata": {},
   "cell_type": "code",
   "outputs": [],
   "execution_count": null,
   "source": [
    "# 예제\n",
    "for i in range(5):\n",
    "    if i == 2:\n",
    "        pass  # 아무것도 하지 않음\n",
    "    else:\n",
    "        print(i)"
   ],
   "id": "83a23cc7a0d85dd5"
  },
  {
   "metadata": {},
   "cell_type": "markdown",
   "source": [
    "## 8-8. 반복 가능한 객체 (Iterable)\n",
    "\n",
    "### 설명\n",
    "- `for` 반복문은 반복 가능한 객체에서 사용 가능\n",
    "- 해당 클래스(타입)에서 __iter__() 또는 __getitem__()을 구현한 경우\n",
    "- 반복 가능한 객체\n",
    "    1. 시퀀스(Sequence) 타입 : 인덱스로 접근 가능하고 순서가 있는 iterable\n",
    "        - str (문자열)\n",
    "        - list (리스트)\n",
    "        - tuple (튜플)\n",
    "        - range (범위)\n",
    "        - bytes (바이트 시퀀스)\n",
    "        - bytearray (가변 바이트 시퀀스)\n",
    "    2. 집합(Set) 타입 : 순서는 없지만 iterable\n",
    "        - set (집합)\n",
    "        - frozenset (불변 집합)\n",
    "    3. 매핑(Mapping) 타입 : 키-값 쌍을 저장하며 키를 iterable하게 제공\n",
    "        - dict\n",
    "    4. 이터레이터(Iterator) 타입 : 반복자 프로토콜을 따르는 타입, __iter__()와 __next__()가 구현됨\n",
    "        - map\n",
    "        - filter\n",
    "        - zip\n",
    "        - enumerate\n",
    "        - reversed\n",
    "        - iter (명시적으로 이터레이터 생성)\n",
    "    5. 파일 객체\n",
    "        - open()으로 생성된 파일 객체 (텍스트 파일, 바이너리 파일 모두 iterable) "
   ],
   "id": "88b0448c03ff36d6"
  },
  {
   "metadata": {},
   "cell_type": "code",
   "outputs": [],
   "execution_count": null,
   "source": [
    "# 예제\n",
    "# 1. 문자열\n",
    "for char in \"Python\":\n",
    "    print(char)\n",
    "\n",
    "# 2. 딕셔너리\n",
    "d = {\"a\": 1, \"b\": 2}\n",
    "for key, value in d.items():\n",
    "    print(key, value)"
   ],
   "id": "fb1f574e1628d53f"
  },
  {
   "metadata": {},
   "cell_type": "markdown",
   "source": [
    "### 요약\n",
    "1. `for` 반복문: 시퀀스를 순회하며 반복\n",
    "2. `while` 반복문: 조건이 참일 때 반복\n",
    "3. 제어문: `break`, `continue`, `pass`를 사용해 흐름 제어\n",
    "4. 반복문과 else: 반복이 정상 종료될 때 실행\n",
    "5. 중첩 반복문: 다차원 데이터 처리를 위해 사용\n",
    "6. 반복 가능한 객체: 리스트, 튜플, 문자열, 딕셔너리 등에서 사용"
   ],
   "id": "4caf6166c15fb87d"
  }
 ],
 "metadata": {
  "kernelspec": {
   "display_name": "Python 3",
   "language": "python",
   "name": "python3"
  },
  "language_info": {
   "codemirror_mode": {
    "name": "ipython",
    "version": 2
   },
   "file_extension": ".py",
   "mimetype": "text/x-python",
   "name": "python",
   "nbconvert_exporter": "python",
   "pygments_lexer": "ipython2",
   "version": "2.7.6"
  }
 },
 "nbformat": 4,
 "nbformat_minor": 5
}
