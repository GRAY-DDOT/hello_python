{
 "cells": [
  {
   "metadata": {},
   "cell_type": "markdown",
   "source": [
    "# 1. 파이썬, 타입, 주피터 노트북\n",
    "\n",
    "## 1-1 파이썬을 학습하기 위해 알아야하는 개발환경, 기본 입출력, 주석\n",
    "\n",
    "### 파이썬 실행 및 환경\n",
    "- 주피터 노트북: 학습과 데이터 분석에 최적화된 환경, 현재 보고있는 이 파일 형식이 주피터 노트북이다. 코드를 나눠 실행할 수 있고 중간 연산 및 출력 결과 확인과 시각화가 간편하다. 학습과 프로토 타이핑에 주로 사용된다.\n",
    "- CLI (Command Line Interface): 터미널에서 실행하는 것. 스크립트로 사용가능하며 파일(모듈), 패키지 단위 실행도 가능하다. 제한적이지만 소스 파일의 생성과 수정도 가능하다.\n",
    "- IDE (PyCharm, VSCode, anaconda 등): 개발과 디버깅에 유용한 환경. 일반적인 프로그래밍과 비슷한 환경을 제공한다."
   ],
   "id": "924a611f8c04b07a"
  },
  {
   "cell_type": "code",
   "id": "initial_id",
   "metadata": {
    "collapsed": true,
    "ExecuteTime": {
     "end_time": "2024-12-07T05:38:25.854011Z",
     "start_time": "2024-12-07T05:38:25.851420Z"
    }
   },
   "source": [
    "# 기본 출력\n",
    "print(\"hello\")"
   ],
   "outputs": [
    {
     "name": "stdout",
     "output_type": "stream",
     "text": [
      "hello\n"
     ]
    }
   ],
   "execution_count": 4
  },
  {
   "metadata": {
    "ExecuteTime": {
     "end_time": "2024-12-07T05:38:57.082074Z",
     "start_time": "2024-12-07T05:38:54.572434Z"
    }
   },
   "cell_type": "code",
   "source": [
    "# 기본 입력\n",
    "input1 = input(\"입력 {0}\".format(1))\n",
    "print(input1)"
   ],
   "id": "39e8d7b700ff43f8",
   "outputs": [
    {
     "name": "stdout",
     "output_type": "stream",
     "text": [
      "111\n"
     ]
    }
   ],
   "execution_count": 7
  },
  {
   "metadata": {
    "ExecuteTime": {
     "end_time": "2024-12-07T05:38:36.035552Z",
     "start_time": "2024-12-07T05:38:36.030772Z"
    }
   },
   "cell_type": "code",
   "outputs": [
    {
     "data": {
      "text/plain": [
       "'\\n여러 줄\\n주석\\n'"
      ]
     },
     "execution_count": 6,
     "metadata": {},
     "output_type": "execute_result"
    }
   ],
   "execution_count": 6,
   "source": [
    "# 한 줄 주석입니다.\n",
    "\"\"\"\n",
    "여러 줄\n",
    "주석\n",
    "\"\"\""
   ],
   "id": "f3d0dfe5008a16a0"
  },
  {
   "metadata": {},
   "cell_type": "markdown",
   "source": [
    "## 1-2 파이썬의 언어적 성격\n",
    "\n",
    "> 파이썬은 C언어(절차 지향)로 작성된 인터프리터를 사용하는 객체 지향 언어이며 스크립트 언어이다.\n",
    "\n",
    "파이썬을 이해하기 위한 시작은 파이썬의 성격과 특징을 인지하는 것이다.\n",
    "아래의 설명은 전공자나 전문가 수준을 지향하는 이들에게 해당하는 서술이다. 그렇지 않다면 다른 자료를 찾는 것을 추천한다.\n",
    "\n",
    "다음은 이번 파트에서 설명하고자 파이썬의 특성들이다.\n",
    "\n",
    "### 파이썬의 주요 특징\n",
    "1. **동적 타입 언어**\n",
    "   - 변수 선언 시 타입을 명시하지 않음.\n",
    "   - 실행 중 타입이 변경될 수 있음.\n",
    "   ```python\n",
    "   x = 42\n",
    "   print(type(x))  # <class 'int'>\n",
    "   x = \"Python\"\n",
    "   print(type(x))  # <class 'str'>\n",
    "   ```\n",
    "\n",
    "2. **객체 지향 언어**\n",
    "   - 모든 것이 객체로 간주됨.\n",
    "   ```python\n",
    "   print(isinstance(42, object))  # True\n",
    "   print(isinstance(\"Hello\", object))  # True\n",
    "   ```\n",
    "\n",
    "3. **스크립트 언어**\n",
    "   - 한 줄씩 실행 가능한 인터프리터 언어.\n",
    "\n",
    "4. **파이썬 철학**\n",
    "   - Pythonic 코드: 간결하고 가독성 높은 코드.\n",
    "   ```python\n",
    "   # Pythonic\n",
    "   squares = [x**2 for x in range(10) if x % 2 == 0]\n",
    "\n",
    "   # Non-Pythonic\n",
    "   squares = []\n",
    "   for x in range(10):\n",
    "       if x % 2 == 0:\n",
    "           squares.append(x**2)\n",
    "   ```\n",
    "\n",
    "---\n",
    "\n",
    "\n",
    "\n"
   ],
   "id": "ac827778b9aa7d0"
  },
  {
   "metadata": {
    "ExecuteTime": {
     "end_time": "2025-01-17T04:01:18.969543Z",
     "start_time": "2025-01-17T04:01:18.965281Z"
    }
   },
   "cell_type": "code",
   "source": [
    "# 1. 동적 타입 언어\n",
    "x = 42\n",
    "print(type(x))  # <class 'int'>\n",
    "x = \"Python\"\n",
    "print(type(x))  # <class 'str'>\n",
    "\n",
    "# 2. 객체 지향 언어\n",
    "print(isinstance(42, object))  # True\n",
    "print(isinstance(\"Hello\", object))  # True\n",
    "\n",
    "# 4. 파이썬 철학\n",
    "# Pythonic\n",
    "squares = [x ** 2 for x in range(10) if x % 2 == 0]\n",
    "print(squares)\n",
    "\n",
    "# Non-Pythonic\n",
    "squares = []\n",
    "for x in range(10):\n",
    "    if x % 2 == 0:\n",
    "        squares.append(x ** 2)\n",
    "print(squares)\n"
   ],
   "id": "c12d921e29818a6c",
   "outputs": [
    {
     "name": "stdout",
     "output_type": "stream",
     "text": [
      "<class 'int'>\n",
      "<class 'str'>\n",
      "True\n",
      "True\n",
      "[0, 4, 16, 36, 64]\n",
      "[0, 4, 16, 36, 64]\n"
     ]
    }
   ],
   "execution_count": 1
  },
  {
   "metadata": {},
   "cell_type": "markdown",
   "source": [
    "## 1-3 파이썬의 데이터 모델: 객체(object), 값(value), 타입(type)\n",
    "\n",
    "> 이하 내용은 파이썬의 모든 것이 객체임을 관찰하는 방법으로 다양한 기본 타입들을 확인 합니다.\n",
    "> 자세하게 학습하거나 고민하지 마시고 한번 구경만 하고 넘어가세요.\n",
    "\n",
    "\n",
    "### 모든 것이 객체다\n",
    "- 파이썬의 모든 값은 객체이며, 각각 고유한 `id`, `type`, `value`를 가진다.\n",
    "- `id()`는 객체의 메모리 주소를 반환한다.\n",
    "```python\n",
    "x = 42\n",
    "print(id(x))  # 메모리 주소 출력\n",
    "print(type(x))  # <class 'int'>\n",
    "```\n",
    "\n",
    "### 타입 계층의 최상위 요소\n",
    "- 모든 객체는 `object` 클래스를 상속받는다.\n",
    "```python\n",
    "print(isinstance(42, object))  # True\n",
    "print(isinstance([], object))  # True\n",
    "```\n",
    "\n",
    "### 타입과 불변성\n",
    "- **불변 객체**: `int`, `float`, `str`, `tuple` 등.\n",
    "- **가변 객체**: `list`, `dict`, `set` 등.\n",
    "\n",
    "[공식 문서](https://docs.python.org/ko/3.13/library/stdtypes.html)\n",
    "\n",
    "### 기본(내장) 타입의 종류와 분류\n",
    "1. 숫자(Numerical Type)\n",
    "    1. 정수(int)\n",
    "    2. 실수(folat)\n",
    "    3. 복소수(complex)\n",
    "2. 논리형(Boolean)\n",
    "3. 시퀀스(Sequence Type)\n",
    "    1. 리스트(list)\n",
    "    2. 튜플(tuple)\n",
    "    3. 레인지(range)\n",
    "4. 문자열(String) - 텍스트 시퀀스\n",
    "5. 세트(Set Type)\n",
    "    1. 셋(세트, set)\n",
    "6. 매핑(Mapping Type)\n",
    "    1. 딕셔너리(dict)\n",
    "7. 바이너리 시퀀스(Binary Sequence Type)\n",
    "8. 기타(Other Built-in Types)\n",
    "    1. 모듈\n",
    "    2. 클래스\n",
    "    3. 함수\n",
    "    4. 메서드\n",
    "    5. 코드\n",
    "    6. 오브젝트(객체)\n",
    "그외 생략\n",
    "\n",
    "\n",
    "### 컨테이너 타입, 컬랙션 타입\n",
    "1. 컨테이너 타입 (Container Types)\n",
    "    - 데이터를 포함하거나 저장할 수 있는 데이터 구조를 의미함\n",
    "    - 서로 다른 객체를 포함할 수 있으며, 데이터를 참조 형태로 저장함\n",
    "    - 내장 타입의 시퀀스, 매핑, 집합, 바이너리 타입이 해당됨\n",
    "    - 일반적으로 포함된 데이터는 서로 다른 타입일 수 있음\n",
    "    - 대부분 이터러블(Iterable) 하여 for 루프에서 순회가 가능\n",
    "    - 메모리 관리와 데이터의 구조화를 지원함\n",
    "    - 파이썬 공식 문서의 [데이터 모델](https://docs.python.org/3/reference/datamodel.html)\n",
    "2. 컬렉션 타입 (Collection Types) : 내장 컬랙션들을 제외하고는 기본 라이브러리에 정의됨.\n",
    "    -  데이터의 집합을 다룰 수 있도록 설계된 데이터 구조로, 컨테이너 타입을 포괄하면서 추가적인 데이터 구조(특히 collections 모듈)를 포함\n",
    "    - 데이터의 빈도 계산, 큐와 스택 관리, 순서 유지 등 특화된 기능을 지원\n",
    "    - 내장 컬렉션 타입 : 컨테이너 타입이다.\n",
    "    - collections 모듈 : 기본 라이브러리에 collections 모듈이 있다.\n",
    "\n",
    "| 컬렉션 타입   | 설명                                      | 주요 용도                             |\n",
    "|---------------|-------------------------------------------|---------------------------------------|\n",
    "| `namedtuple`  | 필드 이름으로 접근 가능한 불변 데이터 구조 | 데이터의 명확한 정의와 접근           |\n",
    "| `deque`       | 양방향 큐                                | 스택, 큐, 대기열                     |\n",
    "| `Counter`     | 데이터의 빈도 계산                       | 빈도 분석, 통계                      |\n",
    "| `OrderedDict` | 삽입 순서를 유지하는 딕셔너리             | 순서가 중요한 데이터                 |\n",
    "| `defaultdict` | 기본값을 제공하는 딕셔너리                | 데이터 초기화, 카운터, 그룹핑        |\n",
    "| `ChainMap`    | 여러 매핑 객체를 단일 뷰로 묶음           | 설정값 병합                          |\n",
    "| `UserDict`    | 커스터마이징 가능한 딕셔너리              | 내장 타입 확장 및 동작 커스터마이징   |\n",
    "| `UserList`    | 커스터마이징 가능한 리스트                | 내장 타입 확장 및 동작 커스터마이징   |\n",
    "| `UserString`  | 커스터마이징 가능한 문자열                | 내장 타입 확장 및 동작 커스터마이징   |\n",
    "\n",
    "이러한 구조는 다양한 프로그래밍 문제를 효율적으로 해결하도록 설계되었다. 사용 사례에 맞는 컬렉션 타입을 선택하여 성능과 가독성을 높일 수 있다.\n"
   ],
   "id": "eb231d03c0f0498b"
  },
  {
   "metadata": {},
   "cell_type": "markdown",
   "source": "",
   "id": "bd894df76cd9e693"
  },
  {
   "metadata": {
    "ExecuteTime": {
     "end_time": "2024-12-07T05:38:12.003820Z",
     "start_time": "2024-12-07T05:38:12.001353Z"
    }
   },
   "cell_type": "code",
   "source": [
    "# 타입 출력과 연산 출력을 위한 함수\n",
    "def describe_type(value):\n",
    "    print(f\"Type: {type(value)}\")\n",
    "    print(f\"Value: {value}\\n\")"
   ],
   "id": "6830869a5824d4c1",
   "outputs": [],
   "execution_count": 2
  },
  {
   "metadata": {
    "ExecuteTime": {
     "end_time": "2024-12-07T05:38:15.271497Z",
     "start_time": "2024-12-07T05:38:15.268428Z"
    }
   },
   "cell_type": "code",
   "source": [
    "# 1. 숫자형 (Numerical Types)\n",
    "# 1.1 정수(int)\n",
    "int_value = 42\n",
    "describe_type(int_value)\n",
    "print(\n",
    "    f\"int 기본 연산: {int_value + 10}, {int_value - 5}, {int_value * 2}, {int_value // 2}, {int_value ** 2}\\n\")"
   ],
   "id": "aaa381e94df75ab2",
   "outputs": [
    {
     "name": "stdout",
     "output_type": "stream",
     "text": [
      "Type: <class 'int'>\n",
      "Value: 42\n",
      "\n",
      "int 연산: 52, 37, 84, 21, 1764\n",
      "\n"
     ]
    }
   ],
   "execution_count": 3
  },
  {
   "metadata": {
    "ExecuteTime": {
     "end_time": "2024-12-07T05:39:31.909693Z",
     "start_time": "2024-12-07T05:39:31.906594Z"
    }
   },
   "cell_type": "code",
   "source": [
    "# 1.2 실수(float)\n",
    "float_value = 3.14\n",
    "describe_type(float_value)\n",
    "print(\n",
    "    f\"float 기본 연산: {float_value + 1.0}, {float_value * 2}, {float_value / 2}, {float_value ** 2}\\n\")"
   ],
   "id": "75ec0c8cee566100",
   "outputs": [
    {
     "name": "stdout",
     "output_type": "stream",
     "text": [
      "Type: <class 'float'>\n",
      "Value: 3.14\n",
      "\n",
      "float 기본 연산: 4.140000000000001, 6.28, 1.57, 9.8596\n",
      "\n"
     ]
    }
   ],
   "execution_count": 8
  },
  {
   "metadata": {
    "ExecuteTime": {
     "end_time": "2024-12-07T05:39:57.944665Z",
     "start_time": "2024-12-07T05:39:57.941741Z"
    }
   },
   "cell_type": "code",
   "source": [
    "# 1.3 복소수(complex)\n",
    "complex_value = 2 + 3j\n",
    "describe_type(complex_value)\n",
    "print(\n",
    "    f\"complex 기본 연산: {complex_value + (1 + 2j)}, {complex_value * 2}, {complex_value.real}, {complex_value.imag}\\n\")"
   ],
   "id": "54f80192bec5357",
   "outputs": [
    {
     "name": "stdout",
     "output_type": "stream",
     "text": [
      "Type: <class 'complex'>\n",
      "Value: (2+3j)\n",
      "\n",
      "complex 기본 연산: (3+5j), (4+6j), 2.0, 3.0\n",
      "\n"
     ]
    }
   ],
   "execution_count": 9
  },
  {
   "metadata": {
    "ExecuteTime": {
     "end_time": "2024-12-07T05:40:13.260660Z",
     "start_time": "2024-12-07T05:40:13.257819Z"
    }
   },
   "cell_type": "code",
   "source": [
    "# 2. 논리형 (Boolean)\n",
    "bool_value = True\n",
    "describe_type(bool_value)\n",
    "print(\n",
    "    f\"bool 기본 연산: {bool_value and False}, {bool_value or False}, {not bool_value}, {bool_value * 3}\\n\")"
   ],
   "id": "9b8dedcbd181c4bb",
   "outputs": [
    {
     "name": "stdout",
     "output_type": "stream",
     "text": [
      "Type: <class 'bool'>\n",
      "Value: True\n",
      "\n",
      "bool 기본 연산: False, True, False, 3\n",
      "\n"
     ]
    }
   ],
   "execution_count": 10
  },
  {
   "metadata": {
    "ExecuteTime": {
     "end_time": "2024-12-07T05:40:22.857587Z",
     "start_time": "2024-12-07T05:40:22.854597Z"
    }
   },
   "cell_type": "code",
   "source": [
    "# 3. 시퀀스형 (Sequence Types)\n",
    "# 3.1 리스트(list)\n",
    "list_value = [1, 2, 3, 4]\n",
    "describe_type(list_value)\n",
    "list_value.append(5)\n",
    "print(\n",
    "    f\"list 기본 연산: {list_value}, {list_value[1]}, {list_value[-1]}, {list_value[:3]}, {len(list_value)}\\n\")"
   ],
   "id": "e4a32070393fc55d",
   "outputs": [
    {
     "name": "stdout",
     "output_type": "stream",
     "text": [
      "Type: <class 'list'>\n",
      "Value: [1, 2, 3, 4]\n",
      "\n",
      "list 기본 연산: [1, 2, 3, 4, 5], 2, 5, [1, 2, 3], 5\n",
      "\n"
     ]
    }
   ],
   "execution_count": 11
  },
  {
   "metadata": {
    "ExecuteTime": {
     "end_time": "2024-12-07T05:40:53.409985Z",
     "start_time": "2024-12-07T05:40:53.407363Z"
    }
   },
   "cell_type": "code",
   "source": [
    "# 3.2 튜플(tuple)\n",
    "tuple_value = (1, 2, 3, 4)\n",
    "describe_type(tuple_value)\n",
    "print(f\"tuple 기본 연산: {tuple_value}, {tuple_value[1]}, {tuple_value[-1]}, {len(tuple_value)}\\n\")"
   ],
   "id": "260328cdeba9ef99",
   "outputs": [
    {
     "name": "stdout",
     "output_type": "stream",
     "text": [
      "Type: <class 'tuple'>\n",
      "Value: (1, 2, 3, 4)\n",
      "\n",
      "tuple 기본 연산: (1, 2, 3, 4), 2, 4, 4\n",
      "\n"
     ]
    }
   ],
   "execution_count": 12
  },
  {
   "metadata": {
    "ExecuteTime": {
     "end_time": "2024-12-07T05:41:13.975866Z",
     "start_time": "2024-12-07T05:41:13.973375Z"
    }
   },
   "cell_type": "code",
   "source": [
    "# 3.3 레인지(range)\n",
    "range_value = range(5)\n",
    "describe_type(range_value)\n",
    "print(f\"range 기본 동작: {list(range_value)}, {list(range_value)[2]}, {len(range_value)}\\n\")"
   ],
   "id": "d6b6130fef21b7b3",
   "outputs": [
    {
     "name": "stdout",
     "output_type": "stream",
     "text": [
      "Type: <class 'range'>\n",
      "Value: range(0, 5)\n",
      "\n",
      "range 기본 동작: [0, 1, 2, 3, 4], 2, 5\n",
      "\n"
     ]
    }
   ],
   "execution_count": 14
  },
  {
   "metadata": {
    "ExecuteTime": {
     "end_time": "2024-12-07T05:41:29.501990Z",
     "start_time": "2024-12-07T05:41:29.499025Z"
    }
   },
   "cell_type": "code",
   "source": [
    "# 4. 문자열(String)\n",
    "string_value = \"Hello, Python!\"\n",
    "describe_type(string_value)\n",
    "print(\n",
    "    f\"string 기본 연산 및 동작: {string_value.upper()}, {string_value.lower()}, {string_value[:5]}, {len(string_value)}, {string_value.replace('Python', 'World')}\\n\")"
   ],
   "id": "5d5dd211065f0990",
   "outputs": [
    {
     "name": "stdout",
     "output_type": "stream",
     "text": [
      "Type: <class 'str'>\n",
      "Value: Hello, Python!\n",
      "\n",
      "string 기본 연산 및 동작: HELLO, PYTHON!, hello, python!, Hello, 14, Hello, World!\n",
      "\n"
     ]
    }
   ],
   "execution_count": 15
  },
  {
   "metadata": {
    "ExecuteTime": {
     "end_time": "2024-12-07T05:42:19.976253Z",
     "start_time": "2024-12-07T05:42:19.973502Z"
    }
   },
   "cell_type": "code",
   "source": [
    "# 5. 세트형 (Set Type)\n",
    "# 5.1 셋(set)\n",
    "set_value = {1, 2, 3, 3, 4}\n",
    "describe_type(set_value)\n",
    "set_value.add(5)\n",
    "print(f\"set 기본 연산 및 동작: {set_value}, {set_value.union({6, 7})}, {set_value.intersection({2, 3})}\\n\")"
   ],
   "id": "20a6af0759c86d1f",
   "outputs": [
    {
     "name": "stdout",
     "output_type": "stream",
     "text": [
      "Type: <class 'set'>\n",
      "Value: {1, 2, 3, 4}\n",
      "\n",
      "set 기본 연산 및 동작: {1, 2, 3, 4, 5}, {1, 2, 3, 4, 5, 6, 7}, {2, 3}\n",
      "\n"
     ]
    }
   ],
   "execution_count": 16
  },
  {
   "metadata": {
    "ExecuteTime": {
     "end_time": "2024-11-24T07:52:15.816373Z",
     "start_time": "2024-11-24T05:44:41.659720Z"
    }
   },
   "cell_type": "code",
   "source": [
    "# 6. 매핑형 (Mapping Type)\n",
    "# 6.1 딕셔너리(dict)\n",
    "dict_value = {\"name\": \"Alice\", \"age\": 25}\n",
    "describe_type(dict_value)\n",
    "dict_value[\"job\"] = \"Engineer\"\n",
    "print(\n",
    "    f\"dict 기본 연산 및 동작: {dict_value}, {dict_value.keys()}, {dict_value.values()}, {dict_value['name']}\\n\")"
   ],
   "id": "e64efb4376dbd15c",
   "outputs": [
    {
     "name": "stdout",
     "output_type": "stream",
     "text": [
      "Type: <class 'dict'>\n",
      "Value: {'name': 'Alice', 'age': 25}\n",
      "\n",
      "Possible operations with dict: {'name': 'Alice', 'age': 25, 'job': 'Engineer'}, dict_keys(['name', 'age', 'job']), dict_values(['Alice', 25, 'Engineer']), Alice\n",
      "\n"
     ]
    }
   ],
   "execution_count": 28
  },
  {
   "metadata": {
    "ExecuteTime": {
     "end_time": "2024-12-07T05:47:47.497728Z",
     "start_time": "2024-12-07T05:47:47.493947Z"
    }
   },
   "cell_type": "code",
   "source": [
    "# 7. 바이너리 시퀀스(Binary Sequence Types)\n",
    "bytes_value = b\"hello\"\n",
    "bytearray_value = bytearray(b\"hello\")\n",
    "memoryview_value = memoryview(b\"hello\")\n",
    "\n",
    "describe_type(bytes_value)\n",
    "describe_type(bytearray_value)\n",
    "describe_type(memoryview_value)\n",
    "\n",
    "print(f\"bytes 기본 연산 및 동작: {bytes_value[1]}, {bytes_value[1].to_bytes()}, {bytes_value.decode('utf-8')}\\n\")\n",
    "print(\n",
    "    f\"bytearray 기본 연산 및 동작: {bytearray_value[1]}, {bytearray_value[1].to_bytes()}, {bytearray_value.decode('utf-8')}\\n\")"
   ],
   "id": "31a0c9becea717e1",
   "outputs": [
    {
     "name": "stdout",
     "output_type": "stream",
     "text": [
      "Type: <class 'bytes'>\n",
      "Value: b'hello'\n",
      "\n",
      "Type: <class 'bytearray'>\n",
      "Value: bytearray(b'hello')\n",
      "\n",
      "Type: <class 'memoryview'>\n",
      "Value: <memory at 0x1066474c0>\n",
      "\n",
      "bytes 기본 연산 및 동작: 101, b'e', hello\n",
      "\n",
      "bytearray 기본 연산 및 동작: 101, b'e', hello\n",
      "\n"
     ]
    }
   ],
   "execution_count": 21
  },
  {
   "metadata": {},
   "cell_type": "markdown",
   "source": [
    "### 1-3-8. 기타 내장 타입\n",
    "\n",
    "파이썬은 `모든 것을 객체로 간주`한다. type() 함수는 해당 객체의 객체 타입을 출력하는 것이다.\n",
    "예외는 없다. 모든 것이 객체다.\n",
    "\n",
    "#### 8.1 모듈\n",
    "아래의 코드에서 등장하는 `import` 키워드를 통해 불러오는 것이 모듈 객체이다.\n",
    "\n",
    "#### 8.2 클래스\n",
    "클래스는 객체를 만들기 위한 구조이다. 클래스는 클래스 이름, 속성, 동작을 갖는다.\n",
    "- 속성 : 클래스 내부에서 값(또는 객체) 저장(또는 참조)을 위해 사용되는 변수\n",
    "- 동작 : 절차적 언어에서는 함수, 객체지향적 언어에서는 메서드로 칭한다. UML과 설계 관점에서는 동작(Operation)으로 칭한다.\n",
    "- 동작과 함수의 차이 : 해당 동작은 클래스의 내장 함수라고 생각할 수 있다.\n",
    "\n",
    "객체지향 프로그래밍은 특정 기능과 시스템을 수행하기 위해 **세부적인 기능들을 역할과 책임에 따라 분할**한다.\n",
    "해당 역할 및 책임을 다수의 객체에 나누어 할당한다. 해당 과정은 역할, 책임에 따른 객체 간 `협력` 관계를 정의하는 것에서 시작한다.\n",
    "동시에 추상화를 통해 당면 과제를 단순화하고 객체와 역할을 특정하며 여러 구현 방법을 적용한다.\n",
    "\n",
    "해당 활동을 객체지향 프로그래밍으로 통칭하며 구조에 대한 고려와 분석이 사전에 진행된 경우 이를 객체지향 설계라 한다.\n",
    "객체지향 설계는 대표적으로 RDD, DDD, TDD 등이 있으며 공통적인 특징은 역할, 책임, 협력에 대해 고민한다는 것이다.\n",
    "\n",
    "#### 8.3-4 함수, 메서드\n",
    "일반적인 절차 지향 언어의 함수와 동일한 함수이다.\n",
    "메서드는 8.2에서 언급한 바와 같이 클래스에 내장된 함수이다.\n",
    "\n",
    "#### 8.5 코드\n",
    "코드 객체는 파이썬 인터프리터가 실행할 수 있는 저수준 표현이다.\n",
    "compile 함수는 문자열로 작성된 코드를 코드 객체로 변환한다."
   ],
   "id": "9a5d035681914fba"
  },
  {
   "metadata": {
    "ExecuteTime": {
     "end_time": "2024-12-07T05:47:54.676587Z",
     "start_time": "2024-12-07T05:47:54.672518Z"
    }
   },
   "cell_type": "code",
   "source": [
    "# 8. 기타 (Other Built-in Types)\n",
    "# 8.1 모듈\n",
    "import math\n",
    "\n",
    "describe_type(math)\n",
    "\n",
    "\n",
    "# 8.2 클래스\n",
    "class ExampleClass:\n",
    "    pass\n",
    "\n",
    "\n",
    "example_class = ExampleClass\n",
    "describe_type(example_class)\n",
    "\n",
    "\n",
    "# 8.3 함수\n",
    "def example_function():\n",
    "    return \"This is a function.\"\n",
    "\n",
    "\n",
    "describe_type(example_function)\n",
    "\n",
    "# 8.4 메서드\n",
    "## 예시를 위해 list에서 사용한 객체를 사용한다.(3. 시퀀스형 참고)\n",
    "describe_type(list_value.append)\n",
    "\n",
    "# 8.5 코드\n",
    "example_code = compile('print(\"Hello, World!\")', '<string>', 'exec')\n",
    "describe_type(example_code)\n",
    "\n",
    "# 8.6 오브젝트 (객체)\n",
    "example_object = object()\n",
    "describe_type(example_object)"
   ],
   "id": "71349176fd9650d2",
   "outputs": [
    {
     "name": "stdout",
     "output_type": "stream",
     "text": [
      "Type: <class 'module'>\n",
      "Value: <module 'math' from '/Library/Frameworks/Python.framework/Versions/3.12/lib/python3.12/lib-dynload/math.cpython-312-darwin.so'>\n",
      "\n",
      "Type: <class 'type'>\n",
      "Value: <class '__main__.ExampleClass'>\n",
      "\n",
      "Type: <class 'function'>\n",
      "Value: <function example_function at 0x1067a20c0>\n",
      "\n",
      "Type: <class 'builtin_function_or_method'>\n",
      "Value: <built-in method append of list object at 0x1067af980>\n",
      "\n",
      "Type: <class 'code'>\n",
      "Value: <code object <module> at 0x1067b2330, file \"<string>\", line 1>\n",
      "\n",
      "Type: <class 'object'>\n",
      "Value: <object object at 0x106476420>\n",
      "\n"
     ]
    }
   ],
   "execution_count": 23
  },
  {
   "metadata": {},
   "cell_type": "markdown",
   "source": [
    "## 1-4. 본격적인 시작에 앞서서\n",
    "> 당연히 아래의 용어가 익숙치 않거나 어려울 것 입니다.\n",
    "> 아래 용어의 존재 만 인지하고 학습 도중 다시 확인하고 궁금한 사항을 검새해보세요!\n",
    "\n",
    "### 1-4-1 파이썬 어휘 기본\n",
    "- 문장(Statement) : 특정 작업을 수행하는 파이썬 코드 단위\n",
    "- 표현식(Expression) : 값으로 평가할 수 있는 문장\n",
    "- 평가(Evaluation) : 표현식을 계산하여 최종 값을 반환하는 과정\n",
    "- 리터럴 : 고정된 값을 나타내는 표현식\n",
    "- 변수(Variable) : 리터럴, 표현식, 함수, 객체를 참조값을 저장하는 대상. 편의상 값을 저장한다고 생각하자.\n",
    "- 모듈 : 파이썬에서 코드의 재사용과 구조화를 위해 사용되는 단위, 일반적으로 `.py` 파일을 의미\n",
    "- 패키지 : 하나 이상의 모듈이 있는 디렉토리 중 __init__.py가 있는 것(3.3 부터는 선택 사항)\n",
    "    - `__init__.py`\n",
    "        - 빈 파일로 두거나 초기화 코드(패키지 초기화 작업)를 작성\n",
    "        - 패키지 내부의 하위 모듈을 정의하고 노출시키는 역할 수행\n",
    "- 디렉토리 : 폴더와 같다. 패키지는 디렉토리이지만, 모든 디렉토리가 패키지는 아니다.\n",
    "- path : 패키지/디렉토리/모듈 참조시 사용되는 경로\n",
    "- 타입 : 데이터 타입, 원시(기본) 타입과 자료구조 뿐만 아니라 생성 가능한 모든 객체가 타입이 될 수 있다.\n",
    "- 동적 타입 : 변수의 데이터 타입을 명시하지 않고, 실행 시 인터프리터가 자동으로 결정(추론)하는 방식.\n",
    "- 정적 타입 : 변수에 저장되는 데이터의 타입이 명시되어 바뀌지 않는 것이다. 파이썬 3.5 이후로 정적 타입 힌트(Static Type Hinting)를 통해 변수, 함수, 반환 값 등에 대해 타입을 명시적으로 지정할 수 있게 되었다. 다만 일반적인 정적 타입의 형태를 사용하려면 파이썬 내장 모듈인 typing 모듈을 이용해야한다.\n",
    "```python\n",
    "# 타입 명시의 예시\n",
    "def add(x: int, y: int) -> int:\n",
    "    return x + y\n",
    "\n",
    "# 타입 간 변화\n",
    "num = \"42\"\n",
    "print(int(num))  # 42\n",
    "print(float(num))  # 42.0\n",
    "\n",
    "# 동적 타입의 특징\n",
    "num = \"숫자\"\n",
    "print(num)\n",
    "num = 1\n",
    "print(num)\n",
    "num = [\"숫자\", 1, num, [\"숫자\", \"리스트\"]]\n",
    "print(num)\n",
    "```\n",
    "- 매개 변수 : 함수, 메서드, 생성자 등에 정의되어 입력 받을 수 있는 변수\n",
    "- 인자 : 매개 변수에 전달되는 값, 리터럴\n",
    "- PEP : 파이썬 기능 개선을 위한 제안서. 특히, PEP 8은 코드 스타일 가이드로 유명\n",
    "\n",
    "- 가변 객체 : 변수에 저장된 값을 바꿀 수 있는 객체, 데이터가 바뀌어도 참조가 바뀌지 않음\n",
    "- 불변 객체 : 변수에 저장된 값을 바꿀 수 없는 객체\n",
    "    - 불변 객체이지만 데이터를 바꿀 수 있다면 참조가 바뀐다. 즉 새로운 객체가 생성되고 기존의 객체를 대체한다.\n",
    "- Deep Copy vs Shallow Copy\n",
    "    - 얕은 복사(copy.copy) : 참조를 복사\n",
    "    - 깊은 복사(copy.deepcopy) : 데이터를 복사\n",
    "- 객체 : 데이터와 메서드를 포함하는 파이썬의 기본 구성 요소, 클래스로 추상화(코드로 구현) 된 대상(개념)도 포함됨\n",
    "- 클래스 : 객체를 생성하기 위한 설계(코드 구현체)\n",
    "- 인스턴스 : 클래스의 생성자를 통해 생성된(메모리에 로드된) 객체\n",
    "- 속성(attribute) : 클래스 또는 객체가 저장하는 데이터, 객체의 상태를 나타냄\n",
    "- 메서드 : 클래스 또는 객체레 정의된 함수, 객체의 행위, 동작, 변화를 나타냄\n",
    "- 상속 : 기존 클래스를 물러받아 새로운 클래스를 만드는 것, 기존 클래스를 확장한다고도 함\n",
    "\n",
    "- 예외 : 실행 중에 발생하는 오류, 또는 그러한 오류가 발생했을 때 이를 나타내는 이벤트 또는 객체\n",
    "- 예외 처리 : 예외로 인헤 발생 가능한 예상치 못한 동작(비정상적인 상황)을 방지하기 위해 사용한다.\n",
    "\n",
    "- 가상 환경 : 프로젝트별로 독립적인 파이썬 실행 환경(인터프리터 + 외부 라이브러리)을 제공할 수 있다\n",
    "- PiP : 기본 파이썬 패키지 관리 도구\n",
    "\n",
    "- Garbage Collection : 파이썬에서 사용하지 않는 객체를 자동으로 메모리에서 제거.\n",
    "- Magic Methods (Dunder Methods): __init__, __str__, __repr__ 등 특별한 역할을 하는 메서드.\n",
    "    - Dunder = Double Underscore => \"_\" 두개로 감싸진 메서드\n",
    "- 데코레이터(Decorator) : 함수를 감싸 추가 기능을 제공하는 함수. @로 표현."
   ],
   "id": "17a5bce2ecab894e"
  },
  {
   "metadata": {
    "ExecuteTime": {
     "end_time": "2024-12-18T08:22:15.913379Z",
     "start_time": "2024-12-18T08:22:15.910390Z"
    }
   },
   "cell_type": "code",
   "source": [
    "# 타입 명시의 예시\n",
    "def add(x: int, y: int) -> int:\n",
    "    return x + y\n",
    "\n",
    "\n",
    "# 타입 간 변화\n",
    "num = \"42\"\n",
    "print(int(num))  # 42\n",
    "print(float(num))  # 42.0\n",
    "\n",
    "# 동적 타입의 특징\n",
    "num = \"숫자\"\n",
    "print(num)\n",
    "num = 1\n",
    "print(num)\n",
    "num = [\"숫자\", 1, num, [\"숫자\", \"리스트\"]]\n",
    "print(num)"
   ],
   "id": "31c2ceee75f4578a",
   "outputs": [
    {
     "name": "stdout",
     "output_type": "stream",
     "text": [
      "42\n",
      "42.0\n",
      "숫자\n",
      "1\n",
      "['숫자', 1, 1, ['숫자', '리스트']]\n"
     ]
    }
   ],
   "execution_count": 8
  },
  {
   "metadata": {},
   "cell_type": "markdown",
   "source": [
    "\n",
    "## 1-4-2 주피터 단축키\n",
    "#### 1) 셀 선택 모드 (Command Mode)\n",
    "- esc or ctrl + m : 셀 선택 모드 전환\n",
    "- a : 위로 셀 추가\n",
    "- b : 아래로 셀 추가\n",
    "- dd : 선택 셀 삭제\n",
    "- x : 선택 셀 잘라내기\n",
    "- c : 선택 셀 복사하기\n",
    "- p : 선택 셀 아래에 붙여넣기\n",
    "- shift + m: 선택 셀과 아래 셀과 합치기\n",
    "- o : 실행결과 열기/닫기\n",
    "- m : Markdown으로 변경\n",
    "- y : Code로 변경\n",
    "- ctrl + s or s : 파일 저장\n",
    "- enter : 선택 셀의 코드 입력 모드로 돌아가기\n",
    "\n",
    "#### 2) 코드 입력 모드 (Edit Mode) - mac은 통상적으로 ctrl => cmd, alt => option\n",
    "- ctrl + a : 선택 셀의 코드 전체 선택\n",
    "- ctrl + z : 선택 셀 내 실행 취소\n",
    "- ctrl + y : 선택 셀 내 다시 실행\n",
    "- ctrl + / : 커서 위치 라인 주석처리\n",
    "- ctrl + enter : 선택 셀 코드 실행\n",
    "- shift + enter : 선택 셀 코드 실행 후 다음 Cell로 이동 (없으면 새로 추가)\n",
    "- shift + ctrl + - : 커서 위치에서 셀 둘로 나누기\n",
    "- ctrl + s : 파일 저장\n",
    "- esc or ctrl + m : 셀 선택 모드로 돌아가기\n",
    "- enter : 줄 바꿈\n",
    "- alt 위아래 방향키 : 셀 이동"
   ],
   "id": "9216480d83796bcb"
  }
 ],
 "metadata": {
  "kernelspec": {
   "display_name": "Python 3",
   "language": "python",
   "name": "python3"
  },
  "language_info": {
   "codemirror_mode": {
    "name": "ipython",
    "version": 2
   },
   "file_extension": ".py",
   "mimetype": "text/x-python",
   "name": "python",
   "nbconvert_exporter": "python",
   "pygments_lexer": "ipython2",
   "version": "2.7.6"
  }
 },
 "nbformat": 4,
 "nbformat_minor": 5
}
