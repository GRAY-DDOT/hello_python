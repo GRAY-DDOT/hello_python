{
 "cells": [
  {
   "metadata": {},
   "cell_type": "markdown",
   "source": "# 2. 문자열",
   "id": "1fe0238a827d306a"
  },
  {
   "metadata": {},
   "cell_type": "markdown",
   "source": "## 2-1 문자열 기초 설명",
   "id": "ede2c92c05d208bf"
  },
  {
   "metadata": {},
   "cell_type": "markdown",
   "source": [
    "### 1)문자열이란\n",
    "- 문자열 : 연속된 문자(char)들의 나열\n",
    "- 문자열도 수정 불가(mutable) 순서형 자료 구조\n",
    "- 수정 시 해당 연산 결과의 객체로 다시 생성되고 할당됨\n",
    "\n",
    "### 2) 문자열 정의 방법\n",
    "```python\n",
    "str1 = \"Hello World\"\n",
    "str2 = 'Python is fun'\n",
    "str3 = \"\"\"Life is too short, You need python\"\"\"\n",
    "str4 = '''Life is too short, You need python'''\n",
    "```"
   ],
   "id": "2c2dda0c8a7bc397"
  },
  {
   "metadata": {
    "ExecuteTime": {
     "end_time": "2025-01-14T10:02:06.209363Z",
     "start_time": "2025-01-14T10:02:06.206428Z"
    }
   },
   "cell_type": "code",
   "source": [
    "str1 = \"Hello World\"\n",
    "str2 = 'Python is fun'\n",
    "str3 = \"\"\"\n",
    "Life is too short,\n",
    "You need python\n",
    "\"\"\"\n",
    "str4 = '''\n",
    "Life is too short,\n",
    "You need python\n",
    "'''\n",
    "print(str1)\n",
    "print(str2)\n",
    "print(str3)\n",
    "print(str4)"
   ],
   "id": "35d2b1627691feb6",
   "outputs": [
    {
     "name": "stdout",
     "output_type": "stream",
     "text": [
      "Hello World\n",
      "Python is fun\n",
      "\n",
      "Life is too short,\n",
      "You need python\n",
      "\n",
      "\n",
      "Life is too short,\n",
      "You need python\n",
      "\n"
     ]
    }
   ],
   "execution_count": 5
  },
  {
   "metadata": {},
   "cell_type": "markdown",
   "source": [
    "### 3) 문자열 안에 따옴표 출력\n",
    "```python\n",
    "# 에러 발생\n",
    "print(\"\"Hello, World!\" is a very familiar expression to programmers.\")\n",
    "\n",
    "# 방법 1 큰 따옴표 출력 희망 => 문자열을 작은 따옴표로\n",
    "print('\"Hello, World!\" is a very familiar expression to programmers.')\n",
    "\n",
    "# 방법 2 작은 따옴표 출력 희망 => 문자열을 큰 따옴표로\n",
    "print(\"'Hello, World!' is a very familiar expression to programmers.\")\n",
    "\n",
    "# 방법 3 이스케이프 문자 사용\n",
    "print(\"\\\"Hello, World!\\\" is a very familiar expression to programmers.\")\n",
    "\n",
    "```"
   ],
   "id": "bd16bae4b3950ae9"
  },
  {
   "metadata": {
    "ExecuteTime": {
     "end_time": "2025-01-14T09:57:26.494269Z",
     "start_time": "2025-01-14T09:57:26.490959Z"
    }
   },
   "cell_type": "code",
   "source": [
    "# 방법 1 큰 따옴표 출력 희망 => 문자열을 작은 따옴표로\n",
    "print('\"Hello, World!\" is a very familiar expression to programmers.')\n",
    "\n",
    "# 방법 2 작은 따옴표 출력 희망 => 문자열을 큰 따옴표로\n",
    "print(\"'Hello, World!' is a very familiar expression to programmers.\")\n",
    "\n",
    "# 방법 3 이스케이프 문자 사용\n",
    "print(\"\\\"Hello, World!\\\" is a very familiar expression to programmers.\")\n",
    "print('\\'Hello, World!\\' is a very familiar expression to programmers.')\n"
   ],
   "id": "4979018afacf3236",
   "outputs": [
    {
     "name": "stdout",
     "output_type": "stream",
     "text": [
      "\"Hello, World!\" is a very familiar expression to programmers.\n",
      "'Hello, World!' is a very familiar expression to programmers.\n",
      "\"Hello, World!\" is a very familiar expression to programmers.\n",
      "'Hello, World!' is a very familiar expression to programmers.\n"
     ]
    }
   ],
   "execution_count": 4
  },
  {
   "metadata": {},
   "cell_type": "markdown",
   "source": "### 4) 여러줄, 줄바꿈 포함",
   "id": "98ed1daa23aa4ea6"
  },
  {
   "metadata": {},
   "cell_type": "code",
   "source": [
    "# 방법 1 줄바꿈(개행) 이스케이프 문자 \"\\n\" 사용\n",
    "print(\"'Hello, World!' \\nis a very familiar \\nexpression to programmers.\")\n",
    "\n",
    "# 방법 2 따옴표 3개 (\")\n",
    "print(\"\"\"\n",
    "'Hello, World!'\n",
    "is a very familiar\n",
    "expression to programmers.\n",
    "\"\"\")\n",
    "\n",
    "# 방법 3 따옴표 3개 (')\n",
    "print('''\n",
    "'Hello, World!'\n",
    "is a very familiar\n",
    "expression to programmers.\n",
    "''')\n"
   ],
   "id": "d724aa18af4f9e88",
   "outputs": [],
   "execution_count": null
  },
  {
   "metadata": {},
   "cell_type": "markdown",
   "source": [
    "#### 4)-1 여러줄 문자열 사용시 주의할 점\n",
    "아래 코드를 실행하고 동작을 비교하라"
   ],
   "id": "7fc1e8f7f847c0bc"
  },
  {
   "metadata": {
    "ExecuteTime": {
     "end_time": "2025-01-14T10:05:21.111945Z",
     "start_time": "2025-01-14T10:05:21.108518Z"
    }
   },
   "cell_type": "code",
   "source": [
    "# 주의\n",
    "print(\"---------------\")\n",
    "print(\"\"\"\n",
    "'Hello, World!'\n",
    "is a very familiar\n",
    "expression to programmers.\n",
    "\"\"\")\n",
    "print(\"---------------\")\n",
    "print(\"\"\"'Hello, World!'\n",
    "is a very familiar\n",
    "expression to programmers.\"\"\")\n",
    "print(\"---------------\")\n"
   ],
   "id": "4464ac6187436716",
   "outputs": [
    {
     "name": "stdout",
     "output_type": "stream",
     "text": [
      "---------------\n",
      "\n",
      "'Hello, World!'\n",
      "is a very familiar\n",
      "expression to programmers.\n",
      "\n",
      "---------------\n",
      "'Hello, World!'\n",
      "is a very familiar\n",
      "expression to programmers.\n",
      "---------------\n"
     ]
    }
   ],
   "execution_count": 8
  },
  {
   "metadata": {},
   "cell_type": "markdown",
   "source": "### 5) 문자열 기본 연산",
   "id": "51454f50cee70983"
  },
  {
   "metadata": {},
   "cell_type": "markdown",
   "source": [
    "#### 5)-1문자열 연결\n",
    "`+` 연산자를 이용해 연결 가능"
   ],
   "id": "fe8fee47cdaa4d90"
  },
  {
   "metadata": {
    "ExecuteTime": {
     "end_time": "2025-01-14T10:11:49.609129Z",
     "start_time": "2025-01-14T10:11:49.606173Z"
    }
   },
   "cell_type": "code",
   "source": [
    "s1 = \"abc\"\n",
    "s2 = \"xyz\"\n",
    "print(s1 + s2)\n",
    "\n",
    "print(s1, s2)\n",
    "\n",
    "s3 = \"abc\" + \"xyz\"\n",
    "print(s3)\n",
    "\n",
    "print(\"abc\" + \"xyz\")"
   ],
   "id": "65c31a3f9965e395",
   "outputs": [
    {
     "name": "stdout",
     "output_type": "stream",
     "text": [
      "abcxyz\n",
      "abc xyz\n",
      "abcxyz\n",
      "abcxyz\n"
     ]
    }
   ],
   "execution_count": 11
  },
  {
   "metadata": {},
   "cell_type": "markdown",
   "source": [
    "#### 5)-2 문자열 반복\n",
    "`*` 연산자로 반복 가능\n"
   ],
   "id": "694c5b24f9880e71"
  },
  {
   "metadata": {
    "ExecuteTime": {
     "end_time": "2025-01-14T10:13:25.502960Z",
     "start_time": "2025-01-14T10:13:25.499793Z"
    }
   },
   "cell_type": "code",
   "source": [
    "s4 = \"abc\" * 2\n",
    "s5 = s4 * 2\n",
    "\n",
    "print(s4)\n",
    "print(s5)"
   ],
   "id": "767088e3843b920f",
   "outputs": [
    {
     "name": "stdout",
     "output_type": "stream",
     "text": [
      "abcabc\n",
      "abcabcabcabc\n"
     ]
    }
   ],
   "execution_count": 13
  },
  {
   "metadata": {},
   "cell_type": "markdown",
   "source": "### 6) 문자열 길이 : len()",
   "id": "254735e0f89a2842"
  },
  {
   "metadata": {
    "ExecuteTime": {
     "end_time": "2025-01-14T10:15:39.322959Z",
     "start_time": "2025-01-14T10:15:39.319972Z"
    }
   },
   "cell_type": "code",
   "source": [
    "print(s1, s2, s3, s4, s5)\n",
    "print(len(s1), len(s2), len(s3), len(s4), len(s5))"
   ],
   "id": "6a69a40c931f1523",
   "outputs": [
    {
     "name": "stdout",
     "output_type": "stream",
     "text": [
      "abc xyz abcxyz abcabc abcabcabcabc\n",
      "3 3 6 6 12\n"
     ]
    }
   ],
   "execution_count": 17
  },
  {
   "metadata": {},
   "cell_type": "markdown",
   "source": "### 7) 문자열 인덱싱",
   "id": "2340ce7a60e80d75"
  },
  {
   "metadata": {},
   "cell_type": "markdown",
   "source": "### 8) 문자열 슬라이싱",
   "id": "b455bae2a9c81e79"
  },
  {
   "metadata": {},
   "cell_type": "markdown",
   "source": [
    "### 9) 포맷팅(formating)\n",
    "#### 1. printf 스타일 포매팅 (구식 포매팅)\n",
    "    - C 언어의 printf 방식과 유사하게 문자열 내부에 포맷 코드(예: %s, %d)를 삽입\n",
    "    - %s : 문자열, %d : 정수, %f : 부동 소수, %x : 16진수\n"
   ],
   "id": "b3fbb5321ce88bc3"
  },
  {
   "metadata": {
    "ExecuteTime": {
     "end_time": "2024-12-10T08:00:48.778357Z",
     "start_time": "2024-12-10T08:00:48.774418Z"
    }
   },
   "cell_type": "code",
   "outputs": [
    {
     "name": "stdout",
     "output_type": "stream",
     "text": [
      "n1은 1로 정수이고 n2는 2 로 문자열이다.\n",
      "0100\n",
      " 100\n",
      "10.156000\n",
      "10.16\n",
      "True\n",
      "10\n"
     ]
    }
   ],
   "execution_count": 46,
   "source": [
    "# %\n",
    "n1, n2 = 1, \"2\"\n",
    "print(\"n1은 %d로 정수이고 n2는 %s 로 문자열이다.\" % (n1, n2))\n",
    "\n",
    "# 자릿수\n",
    "n1 = 100\n",
    "print(\"%04d\" % n1)\n",
    "print(\"%4d\" % n1)\n",
    "n2 = 10.156\n",
    "print(\"%f\" % n2)\n",
    "print(\"%0.2f\" % n2)\n",
    "print((\"%0.0f\" % n2) == (\"%d\" % n2))\n",
    "\n",
    "# % 포매팅은 표현식임\n",
    "n3 = \"%0.0f\" % n2\n",
    "print(n3)"
   ],
   "id": "186cafe91700a55c"
  },
  {
   "metadata": {},
   "cell_type": "markdown",
   "source": [
    "#### 2. f-strings, f-formatting\n",
    "- 파이썬 3.6 부터 추가된 포매팅 편의 기능\n",
    "- 기본 형태 : 변수 포맷팅\n",
    "    - 변수 선언 및 초기화(또는 대입)\n",
    "    - f'문자열 {변수} 문자열'\n",
    "- 표현식 : `{}` 안에는 변수뿐만 아니라, 임의의 파이썬 표현식을 사용가능함\n",
    "- 형식 지정: `{}` 내부에서 `:`를 통해 형식 지정 가능\n",
    "    1. 숫자 포매팅 : 공통 기능(자릿수 확보 및 0 fill) 정수(자릿수, 진수 변환), 실수(소수 자릿수)\n",
    "    2. 문자열 포매팅 : 좌우 정렬, 자르기\n",
    "    3. ...\n",
    "- 객체 타입 : 객체의 __str__ 또는 __repr__ 메서드를 통해 문자열 포매팅 적용\n",
    "- 변수명 출력 : `=`를 통해 변수명도 함꼐 출력 가능"
   ],
   "id": "e8a915b2e9710880"
  },
  {
   "metadata": {
    "ExecuteTime": {
     "end_time": "2024-12-16T02:16:07.291133Z",
     "start_time": "2024-12-16T02:16:07.287809Z"
    }
   },
   "cell_type": "code",
   "outputs": [
    {
     "name": "stdout",
     "output_type": "stream",
     "text": [
      "Her name is Lee and she was born at 2003.\n"
     ]
    }
   ],
   "execution_count": 1,
   "source": [
    "# 기본 사용\n",
    "name = \"A\"\n",
    "birth_year = 2000\n",
    "print(f\"Her/His name is {name} and she was born at {birth_year}.\")"
   ],
   "id": "e9477b518c406724"
  },
  {
   "metadata": {
    "ExecuteTime": {
     "end_time": "2024-12-16T02:16:09.122310Z",
     "start_time": "2024-12-16T02:16:09.118631Z"
    }
   },
   "cell_type": "code",
   "outputs": [
    {
     "name": "stdout",
     "output_type": "stream",
     "text": [
      "So, Lee was 21 years old at 2024.\n"
     ]
    }
   ],
   "execution_count": 2,
   "source": [
    "# 산술 연산 적용\n",
    "print(f\"So, {name} was {2024 - birth_year} years old in 2024.\")"
   ],
   "id": "a5339dd1d681f15"
  },
  {
   "metadata": {
    "ExecuteTime": {
     "end_time": "2024-12-16T02:17:42.495740Z",
     "start_time": "2024-12-16T02:17:42.492625Z"
    }
   },
   "cell_type": "code",
   "outputs": [
    {
     "name": "stdout",
     "output_type": "stream",
     "text": [
      "Hello, Lee!\n"
     ]
    }
   ],
   "execution_count": 3,
   "source": [
    "# 함수 호출\n",
    "def greet(name):\n",
    "    return f\"Hello, {name}!\"\n",
    "\n",
    "\n",
    "print(f\"{greet(name)}\")"
   ],
   "id": "cf3519b3f7d1f79a"
  },
  {
   "metadata": {},
   "cell_type": "markdown",
   "source": [
    "#### 3. str.format()\n",
    "    - \"{`index`}, ... , {`index`}\".foramt(variable or literal) => ,로 구분\n",
    "    -\"{`variable_name`}, ... , {`variable_name`}\".format(variable or variable = literal)"
   ],
   "id": "e9a1c961f10a520d"
  },
  {
   "metadata": {
    "ExecuteTime": {
     "end_time": "2024-12-10T08:10:37.587792Z",
     "start_time": "2024-12-10T08:10:37.583866Z"
    }
   },
   "cell_type": "code",
   "outputs": [
    {
     "name": "stdout",
     "output_type": "stream",
     "text": [
      "n1은 {}로 정수이고 n2는 %s 로 문자열이다.\n",
      "1\n",
      "2\n",
      "3\n",
      "\n",
      "2\n",
      "3\n",
      "\n",
      "\n"
     ]
    }
   ],
   "execution_count": 62,
   "source": [
    "# format()\n",
    "n1, n2 = 1, \"2\"\n",
    "print(\"n1은 {}로 정수이고 n2는 %s 로 문자열이다.\")\n",
    "\n",
    "#a, b, c = map(int, input().split(\",\"))\n",
    "a, b, c = 1, 2, 3\n"
   ],
   "id": "1533222a20a4d114"
  },
  {
   "metadata": {},
   "cell_type": "markdown",
   "source": "## 문자열 관련 메서드",
   "id": "cc8979b2dcb4d7b7"
  },
  {
   "metadata": {},
   "cell_type": "markdown",
   "source": [
    "### 문자열과 기본 자료형의 변환\n",
    "문자열은 기본 자료형으로 변환할 수 있다.\n"
   ],
   "id": "4ba22258580a2bcb"
  },
  {
   "metadata": {
    "ExecuteTime": {
     "end_time": "2024-12-10T07:45:09.586548Z",
     "start_time": "2024-12-10T07:45:09.583762Z"
    }
   },
   "cell_type": "code",
   "source": [
    "s = \"hello world\"\n",
    "s1 = s.split(\" \")\n",
    "print(s1)\n",
    "\n",
    "s = \"1,2,3\"\n",
    "s1 = s.split(\",\")\n",
    "print(s1)\n",
    "\n",
    "for i in s1:\n",
    "    print(i, type(i))\n",
    "    s1[s1.index(i)] = int(i)\n",
    "    print(s1)\n"
   ],
   "id": "67891fed07e33f98",
   "outputs": [
    {
     "name": "stdout",
     "output_type": "stream",
     "text": [
      "['hello', 'world']\n",
      "['1', '2', '3']\n",
      "1 <class 'str'>\n",
      "[1, '2', '3']\n",
      "2 <class 'str'>\n",
      "[1, 2, '3']\n",
      "3 <class 'str'>\n",
      "[1, 2, 3]\n"
     ]
    }
   ],
   "execution_count": 20
  },
  {
   "metadata": {
    "ExecuteTime": {
     "end_time": "2024-12-10T07:26:52.678154Z",
     "start_time": "2024-12-10T07:26:52.675101Z"
    }
   },
   "cell_type": "code",
   "outputs": [
    {
     "name": "stdout",
     "output_type": "stream",
     "text": [
      "hello Python\n",
      "12\n"
     ]
    }
   ],
   "execution_count": 1,
   "source": [
    "s = \"hello Python\"\n",
    "print(s)\n",
    "print(len(s))"
   ],
   "id": "a065034b48296199"
  },
  {
   "metadata": {},
   "cell_type": "markdown",
   "source": [
    "### 2-2-1. 대소문자 변환 관련\n",
    "- `str.upper()`: 모든 문자를 대문자로 변환\n",
    "- `str.lower()`: 모든 문자를 소문자로 변환\n",
    "- `str.capitalize()`: 첫 번째 문자를 대문자로 변환\n",
    "- `str.title()`: 각 단어의 첫 문자를 대문자로 변환\n",
    "- `str.swapcase()`: 대문자를 소문자로, 소문자를 대문자로 변환"
   ],
   "id": "94f4ea7bb8360bed"
  },
  {
   "metadata": {
    "ExecuteTime": {
     "end_time": "2024-11-24T05:57:56.983008Z",
     "start_time": "2024-11-24T05:57:56.980702Z"
    }
   },
   "cell_type": "code",
   "outputs": [
    {
     "name": "stdout",
     "output_type": "stream",
     "text": [
      "HELLO PYTHON\n",
      "hello python\n",
      "Hello python\n",
      "Hello Python\n",
      "HELLO pYTHON\n"
     ]
    }
   ],
   "execution_count": 1,
   "source": [
    "s = \"hello Python\"\n",
    "print(s.upper())  # HELLO PYTHON\n",
    "print(s.lower())  # hello python\n",
    "print(s.capitalize())  # Hello python\n",
    "print(s.title())  # Hello Python\n",
    "print(s.swapcase())  # HELLO pYTHON"
   ],
   "id": "18aa52e84f8650e5"
  },
  {
   "metadata": {},
   "cell_type": "markdown",
   "source": [
    "## 2-. 검색 및 탐색\n",
    "- `str.find(sub[, start[, end]])`: 부분 문자열의 첫 번째 인덱스를 반환, 없으면 -1\n",
    "- `str.rfind(sub[, start[, end]])`: 오른쪽에서 검색\n",
    "- `str.index(sub[, start[, end]])`: find와 같지만, 없으면 ValueError 발생\n",
    "- `str.rindex(sub[, start[, end]])`: 오른쪽에서 검색하며 없으면 ValueError 발생\n",
    "- `str.startswith(prefix[, start[, end]])`: 문자열이 특정 접두사로 시작하면 True\n",
    "- `str.endswith(suffix[, start[, end]])`: 문자열이 특정 접미사로 끝나면 True"
   ],
   "id": "8cf6e80add442aec"
  },
  {
   "metadata": {
    "ExecuteTime": {
     "end_time": "2024-12-10T07:31:10.363507Z",
     "start_time": "2024-12-10T07:31:10.359358Z"
    }
   },
   "cell_type": "code",
   "outputs": [
    {
     "name": "stdout",
     "output_type": "stream",
     "text": [
      "6\n",
      "10\n",
      "6\n",
      "substring not found\n",
      "예외 발생\n",
      "6\n",
      "True\n",
      "True\n"
     ]
    }
   ],
   "execution_count": 6,
   "source": [
    "s = \"hello Python\"\n",
    "print(s.find(\"Python\"))  # 6\n",
    "print(s.rfind(\"o\"))  # 10\n",
    "print(s.index(\"P\"))\n",
    "try:\n",
    "    print(s.index(\"a\"))\n",
    "except Exception as e:\n",
    "    print(e)\n",
    "print(s.rindex(\"P\"))\n",
    "print(s.startswith(\"hello\"))  # True\n",
    "print(s.endswith(\"thon\"))  # True"
   ],
   "id": "1798e9b154024c0e"
  },
  {
   "metadata": {},
   "cell_type": "markdown",
   "source": [
    "# 2-. 문자열 조작\n",
    "- `str.replace(old, new[, count])`: 부분 문자열을 다른 문자열로 교체\n",
    "- `str.join(iterable)`: 문자열을 기준으로 반복 가능한 객체를 결합\n",
    "- `str.split(sep=None, maxsplit=-1)`: 구분자를 기준으로 나눔\n",
    "- `str.rsplit(sep=None, maxsplit=-1)`: 오른쪽부터 나눔\n",
    "- `str.splitlines(keepends=False)`: 줄바꿈 문자 기준으로 나눔\n",
    "- `str.strip([chars])`: 양쪽 공백 또는 특정 문자를 제거\n",
    "- `str.lstrip([chars])`: 왼쪽 공백 또는 특정 문자를 제거\n",
    "- `str.rstrip([chars])`: 오른쪽 공백 또는 특정 문자를 제거\n",
    "- `str.partition(sep)`: 구분자를 기준으로 3부분으로 나눔\n",
    "- `str.rpartition(sep)`: 오른쪽부터 나눔"
   ],
   "id": "83e74f54a6996d7c"
  },
  {
   "metadata": {
    "ExecuteTime": {
     "end_time": "2024-11-24T06:01:51.770543Z",
     "start_time": "2024-11-24T06:01:51.767321Z"
    }
   },
   "cell_type": "code",
   "outputs": [
    {
     "name": "stdout",
     "output_type": "stream",
     "text": [
      "  hello World  \n",
      "a-b-c\n",
      "['hello', 'Python']\n",
      "hello Python\n",
      "hello Python  \n",
      "('', ' ', ' hello Python  ')\n"
     ]
    }
   ],
   "execution_count": 3,
   "source": [
    "s = \"  hello Python  \"\n",
    "print(s.replace(\"Python\", \"World\"))  # hello World\n",
    "print(\"-\".join([\"a\", \"b\", \"c\"]))  # a-b-c\n",
    "print(s.split())  # ['hello', 'Python']\n",
    "print(s.strip())  # hello Python\n",
    "print(s.lstrip())  # hello Python\n",
    "print(s.partition(\" \"))  # ('', ' ', 'hello Python  ')"
   ],
   "id": "86bc10ce9de1f651"
  },
  {
   "metadata": {},
   "cell_type": "markdown",
   "source": [
    "## 2-. 서식 및 정렬\n",
    "- `str.center(width[, fillchar])`: 문자열을 가운데 정렬\n",
    "- `str.ljust(width[, fillchar])`: 문자열을 왼쪽 정렬\n",
    "- `str.rjust(width[, fillchar])`: 문자열을 오른쪽 정렬\n",
    "- `str.zfill(width)`: 왼쪽을 0으로 채움"
   ],
   "id": "f0f47a591c1ae288"
  },
  {
   "metadata": {
    "ExecuteTime": {
     "end_time": "2024-11-24T06:02:30.621491Z",
     "start_time": "2024-11-24T06:02:30.617467Z"
    }
   },
   "cell_type": "code",
   "outputs": [
    {
     "name": "stdout",
     "output_type": "stream",
     "text": [
      "**Python**\n",
      "Python----\n",
      "----Python\n",
      "0000Python\n"
     ]
    }
   ],
   "execution_count": 4,
   "source": [
    "s = \"Python\"\n",
    "print(s.center(10, \"*\"))  # **Python**\n",
    "print(s.ljust(10, \"-\"))  # Python----\n",
    "print(s.rjust(10, \"-\"))  # ----Python\n",
    "print(s.zfill(10))  # 0000Python"
   ],
   "id": "760c07db867085e0"
  },
  {
   "metadata": {},
   "cell_type": "markdown",
   "source": [
    "## 2-. 판별 메서드\n",
    "- `str.isalpha()`: 알파벳만 포함하면 True\n",
    "- `str.isdigit()`: 숫자만 포함하면 True\n",
    "- `str.isalnum()`: 알파벳+숫자만 포함하면 True\n",
    "- `str.isspace()`: 공백만 포함하면 True\n",
    "- `str.islower()`: 모든 문자가 소문자면 True\n",
    "- `str.isupper()`: 모든 문자가 대문자면 True\n",
    "- `str.istitle()`: 각 단어의 첫 문자가 대문자면 True"
   ],
   "id": "9ce4fd6c12017ddf"
  },
  {
   "metadata": {
    "ExecuteTime": {
     "end_time": "2024-11-24T06:03:45.593494Z",
     "start_time": "2024-11-24T06:03:45.590724Z"
    }
   },
   "cell_type": "code",
   "outputs": [
    {
     "name": "stdout",
     "output_type": "stream",
     "text": [
      "True\n",
      "True\n",
      "True\n",
      "True\n"
     ]
    }
   ],
   "execution_count": 5,
   "source": [
    "s = \"Hello\"\n",
    "print(s.isalpha())  # True\n",
    "print(\"123\".isdigit())  # True\n",
    "print(\"Hello123\".isalnum())  # True\n",
    "print(\"   \".isspace())  # True"
   ],
   "id": "9e62122cf63604a6"
  },
  {
   "metadata": {},
   "cell_type": "markdown",
   "source": [
    "## 2-. 기타\n",
    "\n",
    "- `str.count(sub[, start[, end]])`: 부분 문자열의 개수 반환\n",
    "- `str.encode(encoding='utf-8', errors='strict')`: 문자열을 인코딩\n",
    "- `str.expandtabs(tabsize=8)`: 탭을 공백으로 변환\n",
    "- `str.casefold()`: 대소문자 구분 없이 비교할 수 있도록 변환\n",
    "- `str.maketrans(x, y=None, z=None)`: 변환 테이블 생성\n",
    "- `str.translate(table)`: 변환 테이블로 문자열 변환"
   ],
   "id": "34883fca22e0bee3"
  },
  {
   "metadata": {},
   "cell_type": "code",
   "outputs": [],
   "execution_count": null,
   "source": [
    "s = \"hello world\"\n",
    "print(s.count(\"o\"))  # 2\n",
    "print(s.encode())  # b'hello world'\n",
    "print(s.expandtabs(4))  # hello world\n",
    "print(s.casefold())  # hello world\n",
    "\n",
    "# maketrans and translate\n",
    "table = str.maketrans(\"aeiou\", \"12345\")\n",
    "print(\"hello\".translate(table))  # h2ll4"
   ],
   "id": "e02a95233fd8e310"
  },
  {
   "metadata": {
    "ExecuteTime": {
     "end_time": "2024-12-10T07:46:35.508359Z",
     "start_time": "2024-12-10T07:46:35.504404Z"
    }
   },
   "cell_type": "code",
   "source": [
    "s = \"1,2,3\"\n",
    "s1 = s.split(\",\")\n",
    "for i in s1:\n",
    "    s1[s1.index(i)] = float(i)\n",
    "\n",
    "print(s1)"
   ],
   "id": "5fd8960148c34e28",
   "outputs": [
    {
     "name": "stdout",
     "output_type": "stream",
     "text": [
      "[1.0, 2.0, 3.0]\n"
     ]
    }
   ],
   "execution_count": 21
  },
  {
   "metadata": {
    "ExecuteTime": {
     "end_time": "2024-12-10T07:47:40.963860Z",
     "start_time": "2024-12-10T07:47:40.960209Z"
    }
   },
   "cell_type": "code",
   "outputs": [
    {
     "name": "stdout",
     "output_type": "stream",
     "text": [
      "[True, True]\n"
     ]
    },
    {
     "data": {
      "text/plain": [
       "bool"
      ]
     },
     "execution_count": 24,
     "metadata": {},
     "output_type": "execute_result"
    }
   ],
   "execution_count": 24,
   "source": [
    "s = \"true,fale\"\n",
    "s1 = s.split(\",\")\n",
    "for i in s1:\n",
    "    s1[s1.index(i)] = bool(i)\n",
    "\n",
    "print(s1)\n",
    "type(s1[0])"
   ],
   "id": "774d55bc07b43b17"
  }
 ],
 "metadata": {
  "kernelspec": {
   "display_name": "Python 3",
   "language": "python",
   "name": "python3"
  },
  "language_info": {
   "codemirror_mode": {
    "name": "ipython",
    "version": 2
   },
   "file_extension": ".py",
   "mimetype": "text/x-python",
   "name": "python",
   "nbconvert_exporter": "python",
   "pygments_lexer": "ipython2",
   "version": "2.7.6"
  }
 },
 "nbformat": 4,
 "nbformat_minor": 5
}
