{
 "cells": [
  {
   "metadata": {},
   "cell_type": "markdown",
   "source": [
    "# 4. 비 순서형 타입\n",
    "\n",
    "## 4-1 Mapping Type : 딕셔너리(dict)\n",
    "- 키-값(key-value) 쌍으로 데이터를 저장\n",
    "- 키는 유일하고, 값은 중복 가능\n",
    "- 변경 가능(Mutable)\n",
    "\n",
    "### 주요 연산\n",
    "- 요소 추가/제거: `dict[key] = value`, `del dict[key]`\n",
    "- 키, 값 가져오기: `keys()`, `values()`, `items()`\n",
    "- 키 존재 여부: `key in dict`\n",
    "- 딕셔너리 병합: `update()`"
   ],
   "id": "35d277366d47e53c"
  },
  {
   "metadata": {
    "ExecuteTime": {
     "end_time": "2025-01-21T09:36:51.582159Z",
     "start_time": "2025-01-21T09:36:51.578328Z"
    }
   },
   "cell_type": "code",
   "source": [
    "# 딕셔너리 생성 및 출력\n",
    "d = {\"name\": \"Alice\", \"age\": 25, \"job\": \"Engineer\"}\n",
    "print(\"Dictionary:\", d)\n",
    "print(\"Type:\", type(d))\n",
    "\n",
    "# 요소 접근\n",
    "print(\"Name:\", d[\"name\"])  # 키를 사용해 값에 접근\n",
    "\n",
    "# 요소 추가/수정\n",
    "d[\"city\"] = \"New York\"  # 새 키-값 추가\n",
    "d[\"age\"] = 26  # 기존 키의 값 수정\n",
    "print(\"Modified Dictionary:\", d)\n",
    "\n",
    "# 요소 제거\n",
    "del d[\"job\"]\n",
    "print(\"After Deletion:\", d)\n",
    "\n",
    "# 딕셔너리 메서드\n",
    "print(\"Keys:\", d.keys())  # 키만 가져오기\n",
    "print(\"Values:\", d.values())  # 값만 가져오기\n",
    "print(\"Items:\", d.items())  # 키-값 쌍 가져오기\n",
    "print(type(d), type(d.keys()), type(d.values()), type(d.items()), \"\\n\")\n",
    "\n",
    "# 키 존재 여부\n",
    "print(\"Is 'name' a key?\", \"name\" in d)\n",
    "print(\"Is python dict key search is same?\", 'name' in d.keys())\n",
    "\n",
    "# 수정\n",
    "d[\"city\"] = \"Seoul\"\n",
    "print(d)\n",
    "\n"
   ],
   "id": "be7dba15ad5c533",
   "outputs": [
    {
     "name": "stdout",
     "output_type": "stream",
     "text": [
      "Dictionary: {'name': 'Alice', 'age': 25, 'job': 'Engineer'}\n",
      "Type: <class 'dict'>\n",
      "Name: Alice\n",
      "Modified Dictionary: {'name': 'Alice', 'age': 26, 'job': 'Engineer', 'city': 'New York'}\n",
      "After Deletion: {'name': 'Alice', 'age': 26, 'city': 'New York'}\n",
      "Keys: dict_keys(['name', 'age', 'city'])\n",
      "Values: dict_values(['Alice', 26, 'New York'])\n",
      "Items: dict_items([('name', 'Alice'), ('age', 26), ('city', 'New York')])\n",
      "<class 'dict'> <class 'dict_keys'> <class 'dict_values'> <class 'dict_items'> \n",
      "\n",
      "Is 'name' a key? True\n",
      "Is python dict key search is same? True\n",
      "{'name': 'Alice', 'age': 26, 'city': 'Seoul'}\n"
     ]
    }
   ],
   "execution_count": 20
  },
  {
   "metadata": {
    "ExecuteTime": {
     "end_time": "2025-01-21T09:29:01.524787Z",
     "start_time": "2025-01-21T09:29:01.521779Z"
    }
   },
   "cell_type": "code",
   "source": [
    "# 추가 메서드 확인\n",
    "dict_1 = {\"name\": \"Alice\", \"age\": 25, \"job\": \"Engineer\"}\n",
    "print(dict_1)\n",
    "print(dict_1.pop(\"job\"))\n",
    "print(dict_1)\n",
    "print(dict_1.popitem())\n",
    "print(dict_1)\n",
    "print(dict_1.get(\"name\"))\n",
    "print(dict_1)\n",
    "print(dict_1.values())\n",
    "print(dict_1.items())\n",
    "print(dict_1.keys())\n",
    "print(len(dict_1))"
   ],
   "id": "a32c120a1a33804f",
   "outputs": [
    {
     "name": "stdout",
     "output_type": "stream",
     "text": [
      "{'name': 'Alice', 'age': 25, 'job': 'Engineer'}\n",
      "Engineer\n",
      "{'name': 'Alice', 'age': 25}\n",
      "('age', 25)\n",
      "{'name': 'Alice'}\n",
      "Alice\n",
      "{'name': 'Alice'}\n",
      "{'Alice': None, 'name': None}\n",
      "{'name': 'Alice'}\n",
      "dict_values(['Alice'])\n",
      "dict_items([('name', 'Alice')])\n",
      "dict_keys(['name'])\n",
      "1\n"
     ]
    }
   ],
   "execution_count": 10
  },
  {
   "metadata": {},
   "cell_type": "code",
   "outputs": [],
   "execution_count": null,
   "source": [
    "dict_2 = {\"name\": \"Alice\", \"age\": 25, \"job\": \"Engineer\"}\n",
    "if \"Alice\" in dict_2:\n",
    "    print(dict_2)\n",
    "else:\n",
    "    print(dict_2)"
   ],
   "id": "b6ec815f1ae43"
  },
  {
   "metadata": {
    "ExecuteTime": {
     "end_time": "2025-01-21T09:34:58.408727Z",
     "start_time": "2025-01-21T09:34:58.405650Z"
    }
   },
   "cell_type": "code",
   "source": [
    "dict_2 = {\"name\": \"Alice\", \"age\": 25, \"job\": \"Engineer\"}\n",
    "\n",
    "key_1 = \"name\"\n",
    "if key_1 in dict_2:\n",
    "    value = dict_2[key_1]\n",
    "    print(f\"{key_1}: {value}\")\n",
    "else:\n",
    "    print(f\"key {key_1} not found\")"
   ],
   "id": "328046ca160241a5",
   "outputs": [
    {
     "name": "stdout",
     "output_type": "stream",
     "text": [
      "name: Alice\n"
     ]
    }
   ],
   "execution_count": 17
  },
  {
   "metadata": {
    "ExecuteTime": {
     "end_time": "2025-01-21T09:35:14.626827Z",
     "start_time": "2025-01-21T09:35:14.623769Z"
    }
   },
   "cell_type": "code",
   "source": [
    "dict_2 = {\"name\": \"Alice\", \"age\": 25, \"job\": \"Engineer\"}\n",
    "\n",
    "key_list = [\"Alice\", \"name\", \"Charlie\", \"age\", \"Eve\"]\n",
    "for key in key_list:\n",
    "    if key in dict_2:\n",
    "        value = dict_2[key]\n",
    "        print(f\"{key}: {value}\")\n",
    "    else:\n",
    "        print(f\"key {key} not found\")\n"
   ],
   "id": "78d7d8eddff0c075",
   "outputs": [
    {
     "name": "stdout",
     "output_type": "stream",
     "text": [
      "key Alice not found\n",
      "name: Alice\n",
      "key Charlie not found\n",
      "age: 25\n",
      "key Eve not found\n"
     ]
    }
   ],
   "execution_count": 19
  },
  {
   "metadata": {},
   "cell_type": "markdown",
   "source": [
    "## 3-2. 세트 (Set)\n",
    "\n",
    "### 설명\n",
    "- 고유한 값들의 집합. 중복된 값을 저장하지 않음\n",
    "- 변경 가능(Mutable)\n",
    "- 순서가 없으며, 인덱싱 불가\n",
    "\n",
    "### 주요 연산\n",
    "- 요소 추가/제거: `add()`, `remove()`, `discard()`\n",
    "- 집합 연산: `union()`(합집합), `intersection()`(교집합), `difference()`(차집합), `symmetric_difference()`( 대칭 차집합)\n",
    "- 포함 여부: `in`\n",
    "\n",
    "| **연산**                  | **메서드**                             | **연산자**               |\n",
    "|---------------------------|-------------------------------------|-----------------------|\n",
    "| **합집합 (Union)**         | `set.union(other)`                  | `\\|`                  |\n",
    "| **교집합 (Intersection)**  | `set.intersection(other)`           | `&`                   |\n",
    "| **차집합 (Difference)**    | `set.difference(other)`             | `-`                   |\n",
    "| **대칭 차집합 (Symmetric)**| `set.symmetric_difference(other)`   | `^`                   |\n",
    "| **부분 집합 (Subset)**     | `set.issubset(other)`               | `<=` (부분) `<` (진상위집합) |\n",
    "| **상위 집합 (Superset)**   | `set.issuperset(other)`             | `>=` (상위) `>` (진상위집합) |\n",
    "| **서로소 확인 (Disjoint)** | `set.isdisjoint(other)`             | 없음                    |\n"
   ],
   "id": "375b2c1c15c9381f"
  },
  {
   "metadata": {
    "ExecuteTime": {
     "end_time": "2024-12-13T07:14:26.806160Z",
     "start_time": "2024-12-13T07:14:26.802231Z"
    }
   },
   "cell_type": "code",
   "source": [
    "# 세트 생성 및 출력\n",
    "s = {1, 2, 3, 3, 4}\n",
    "print(\"Set:\", s)  # 중복 값 제거\n",
    "print(\"Type:\", type(s))\n",
    "\n",
    "# 요소 추가\n",
    "s.add(5)\n",
    "print(\"After Adding:\", s)\n",
    "\n",
    "# 요소 제거\n",
    "s.remove(2)  # 요소 2 제거\n",
    "print(\"After Removing:\", s)\n",
    "\n",
    "# 집합 연산\n",
    "s2 = {3, 4, 5, 6}\n",
    "print(\"Union:\", s.union(s2), s | s2)  # 합집합\n",
    "print(\"Intersection:\", s.intersection(s2), s & s2)  # 교집합\n",
    "print(\"Difference:\", s.difference(s2), s - s2)  # 차집합\n",
    "print(\"Symmetric Difference:\", s.symmetric_difference(s2), s ^ s2)  # 대칭 차집합\n",
    "\n",
    "# 포함 여부\n",
    "print(\"Is 1 in set?\", 1 in s)"
   ],
   "id": "b6c3df135cb3cfb4",
   "outputs": [
    {
     "name": "stdout",
     "output_type": "stream",
     "text": [
      "Set: {1, 2, 3, 4}\n",
      "Type: <class 'set'>\n",
      "After Adding: {1, 2, 3, 4, 5}\n",
      "After Removing: {1, 3, 4, 5}\n",
      "Union: {1, 3, 4, 5, 6} {1, 3, 4, 5, 6}\n",
      "Intersection: {3, 4, 5} {3, 4, 5}\n",
      "Difference: {1} {1}\n",
      "Symmetric Difference: {1, 6} {1, 6}\n",
      "Is 1 in set? True\n"
     ]
    }
   ],
   "execution_count": 7
  },
  {
   "metadata": {},
   "cell_type": "markdown",
   "source": [
    "## 3-3 딕셔너리와 세트 간 변환\n",
    "\n",
    "### 딕셔너리 ↔ 세트 변환\n",
    "1. 딕셔너리 키만 세트로 변환: `set(dict.keys())`\n",
    "2. 딕셔너리 값만 세트로 변환: `set(dict.values())`\n",
    "3. 딕셔너리로 변환: 리스트나 튜플의 쌍을 딕셔너리로 변환\n"
   ],
   "id": "69878c422a480efc"
  },
  {
   "metadata": {
    "ExecuteTime": {
     "end_time": "2024-12-13T07:03:16.072523Z",
     "start_time": "2024-12-13T07:03:16.068877Z"
    }
   },
   "cell_type": "code",
   "source": [
    "# 딕셔너리 키와 값으로 세트 변환\n",
    "d = {\"a\": 1, \"b\": 2, \"c\": 3}\n",
    "keys_set = set(d.keys())\n",
    "values_set = set(d.values())\n",
    "print(\"Keys as Set:\", keys_set)\n",
    "print(\"Values as Set:\", values_set)\n",
    "\n",
    "# 세트 → 딕셔너리 변환\n",
    "s = {(\"x\", 10), (\"y\", 20), (\"z\", 30)}\n",
    "d_from_set = dict(s)  # 세트의 튜플로 딕셔너리 생성\n",
    "print(\"Set to Dictionary:\", d_from_set)"
   ],
   "id": "13420fc9f0182503",
   "outputs": [
    {
     "name": "stdout",
     "output_type": "stream",
     "text": [
      "Keys as Set: {'c', 'a', 'b'}\n",
      "Values as Set: {1, 2, 3}\n",
      "Set to Dictionary: {'y': 20, 'x': 10, 'z': 30}\n"
     ]
    }
   ],
   "execution_count": 1
  },
  {
   "metadata": {},
   "cell_type": "markdown",
   "source": [
    "### 딕셔너리와 세트 공통 연산\n",
    "\n",
    "1. 길이 확인: `len(dict_or_set)`\n",
    "2. 순회: `for key in dict_or_set`\n",
    "3. 포함 여부 확인: `in`"
   ],
   "id": "1b0ce61a663eb0d0"
  },
  {
   "metadata": {},
   "cell_type": "code",
   "outputs": [],
   "execution_count": null,
   "source": [
    "# 공통 연산\n",
    "d = {\"a\": 1, \"b\": 2, \"c\": 3}\n",
    "s = {1, 2, 3, 4}\n",
    "\n",
    "# 길이\n",
    "print(\"Length of Dictionary:\", len(d))\n",
    "print(\"Length of Set:\", len(s))\n",
    "\n",
    "# 순회\n",
    "print(\"Dictionary Keys:\")\n",
    "for key in d:\n",
    "    print(key)\n",
    "\n",
    "print(\"Set Elements:\")\n",
    "for element in s:\n",
    "    print(element)\n",
    "\n",
    "# 포함 여부\n",
    "print(\"Is 'a' in dictionary?\", \"a\" in d)\n",
    "print(\"Is 2 in set?\", 2 in s)"
   ],
   "id": "1cc75d563a5116d9"
  }
 ],
 "metadata": {
  "kernelspec": {
   "display_name": "Python 3",
   "language": "python",
   "name": "python3"
  },
  "language_info": {
   "codemirror_mode": {
    "name": "ipython",
    "version": 2
   },
   "file_extension": ".py",
   "mimetype": "text/x-python",
   "name": "python",
   "nbconvert_exporter": "python",
   "pygments_lexer": "ipython2",
   "version": "2.7.6"
  }
 },
 "nbformat": 4,
 "nbformat_minor": 5
}
