{
 "cells": [
  {
   "metadata": {},
   "cell_type": "markdown",
   "source": [
    "# 7. 파이썬 조건문 (Conditional Statements)\n",
    "\n",
    "- 특정 조건에 따라 프로그램 실행 흐름 제어하는 구조\n",
    "- 키워드 : `if`, `elif`, `else` "
   ],
   "id": "a552e97cbad0ebe0"
  },
  {
   "metadata": {},
   "cell_type": "markdown",
   "source": [
    "## 1. 기본 조건문\n",
    "\n",
    "### 구문\n",
    "```python\n",
    "if 조건:\n",
    "    실행문\n",
    "elif 조건:\n",
    "    실행문\n",
    "else:\n",
    "    실행문\n",
    "\n",
    "```\n",
    "\n",
    "### 설명\n",
    "1. `if`: 조건이 참(True)일 때 실행\n",
    "2. `elif`: 위의 조건이 모두 거짓(False)일 때 추가 조건을 검사\n",
    "3. `else`: 위의 모든 조건이 거짓(False)일 때 실행\n",
    "\n",
    "### 주의 사항\n",
    "아래 두가지 조건이 잘못되면 에러가 발생하거나 의도하지 않은 동작을 일으킬 수 있음\n",
    "\n",
    "1. 조건문 오른쪽에 \":\"(colon) 필수!!!\n",
    "2. 조건문 내부 로직은 들여쓰기(indentation) 유지 필수!! (다른 언어의 블럭{})\n",
    "\n",
    "```python\n",
    "# 정상 동작\n",
    "if 조건문:\n",
    "    수행할_문장1\n",
    "    수행할_문장2\n",
    "    수행할_문장3\n",
    "\n",
    "# 잘못된 사용 1\n",
    "if 조건문:\n",
    "    수행할_문장1\n",
    "수행할_문장2\n",
    "    수행할_문장3\n",
    "\n",
    "# 잘못된 사용 2\n",
    "if 조건문\n",
    "    수행할_문장1\n",
    "    수행할_문장2\n",
    "    수행할_문장3\n",
    "```\n"
   ],
   "id": "382983078526ecba"
  },
  {
   "metadata": {},
   "cell_type": "code",
   "outputs": [],
   "execution_count": null,
   "source": [
    "# 기본 조건문 예제\n",
    "x = 10\n",
    "\n",
    "if x > 0:\n",
    "    print(\"x is positive\")\n",
    "elif x == 0:\n",
    "    print(\"x is zero\")\n",
    "else:\n",
    "    print(\"x is negative\")"
   ],
   "id": "bfac91ab01279cb2"
  },
  {
   "metadata": {},
   "cell_type": "markdown",
   "source": [
    "## 7-2. 중첩 조건문\n",
    "\n",
    "### 설명\n",
    "- 조건문 내부에 또 다른 조건문을 작성하여 세부적인 조건을 검사\n"
   ],
   "id": "629c99ec2382c1c4"
  },
  {
   "metadata": {},
   "cell_type": "code",
   "outputs": [],
   "execution_count": null,
   "source": [
    "# 예제\n",
    "x = 10\n",
    "y = -5\n",
    "\n",
    "if x > 0:\n",
    "    if y > 0:\n",
    "        print(\"Both x and y are positive\")\n",
    "    else:\n",
    "        print(\"x is positive, but y is not\")\n",
    "else:\n",
    "    print(\"x is not positive\")\n"
   ],
   "id": "eee78094e10ef504"
  },
  {
   "metadata": {},
   "cell_type": "markdown",
   "source": [
    "## 7-3. 단일 조건문\n",
    "\n",
    "### 설명\n",
    "- 조건이 참일 때만 실행\n"
   ],
   "id": "61d157cff118b6f5"
  },
  {
   "metadata": {},
   "cell_type": "code",
   "outputs": [],
   "execution_count": null,
   "source": [
    "# 예제\n",
    "x = 5\n",
    "\n",
    "if x > 0:\n",
    "    print(\"x is positive\")\n"
   ],
   "id": "fbd6476ffbf8bc65"
  },
  {
   "metadata": {},
   "cell_type": "markdown",
   "source": [
    "## 7-4. 삼항 연산자 (Conditional Expression)\n",
    "\n",
    "### 설명\n",
    "- 단일 라인으로 조건문을 작성\n",
    "- 구문:\n",
    "  ```python\n",
    "  참일 때 값 if 조건 else 거짓일 때 값\n",
    "  ```\n"
   ],
   "id": "8328bd9e4fb233fa"
  },
  {
   "metadata": {},
   "cell_type": "code",
   "outputs": [],
   "execution_count": null,
   "source": [
    "# 예제\n",
    "x = 10\n",
    "result = \"Positive\" if x > 0 else \"Non-positive\"\n",
    "print(result)\n"
   ],
   "id": "84ef12bba88d8658"
  },
  {
   "metadata": {},
   "cell_type": "markdown",
   "source": [
    "## 7-5. 조건문에서 논리 연산자 사용\n",
    "\n",
    "### 설명\n",
    "- 여러 조건을 조합하여 검사할 수 있음\n",
    "- 논리 연산자: `and`, `or`, `not`\n"
   ],
   "id": "3edb0fd49e8fbf1b"
  },
  {
   "metadata": {},
   "cell_type": "code",
   "outputs": [],
   "execution_count": null,
   "source": [
    "# 예제\n",
    "x = 5\n",
    "y = 10\n",
    "\n",
    "if x > 0 and y > 0:\n",
    "    print(\"Both x and y are positive\")\n",
    "elif x > 0 or y > 0:\n",
    "    print(\"At least one of x or y is positive\")\n",
    "else:\n",
    "    print(\"Neither x nor y is positive\")\n"
   ],
   "id": "494643167b53c946"
  },
  {
   "metadata": {},
   "cell_type": "markdown",
   "source": [
    "## 7-6. `in`과 조건문\n",
    "\n",
    "### 설명\n",
    "- 특정 값이 시퀀스(리스트, 튜플, 문자열 등)에 포함되어 있는지 확인\n"
   ],
   "id": "6a59b7071943cdfa"
  },
  {
   "metadata": {},
   "cell_type": "code",
   "outputs": [],
   "execution_count": null,
   "source": [
    "# 예제\n",
    "fruits = [\"apple\", \"banana\", \"cherry\"]\n",
    "\n",
    "if \"apple\" in fruits:\n",
    "    print(\"Apple is in the list\")\n",
    "else:\n",
    "    print(\"Apple is not in the list\")"
   ],
   "id": "d11acc087ac647a1"
  },
  {
   "metadata": {},
   "cell_type": "markdown",
   "source": [
    "## 7-7. `is`와 조건문\n",
    "\n",
    "### 설명\n",
    "- 두 객체가 같은 메모리 위치를 참조하는지 확인"
   ],
   "id": "8b218261e94df6b7"
  },
  {
   "metadata": {},
   "cell_type": "code",
   "outputs": [],
   "execution_count": null,
   "source": [
    "# 예제\n",
    "a = [1, 2, 3]\n",
    "b = a\n",
    "c = [1, 2, 3]\n",
    "\n",
    "if a is b:\n",
    "    print(\"a and b are the same object\")\n",
    "if a is not c:\n",
    "    print(\"a and c are not the same object\")"
   ],
   "id": "5480f0b160f66355"
  },
  {
   "metadata": {},
   "cell_type": "markdown",
   "source": [
    "## 7-8. 조건문에서 비교 연산자 사용\n",
    "\n",
    "### 설명\n",
    "- 값을 비교하여 조건을 검사\n",
    "- 연산자: `==`, `!=`, `<`, `>`, `<=`, `>=`"
   ],
   "id": "8940930fb218ded0"
  },
  {
   "metadata": {},
   "cell_type": "code",
   "outputs": [],
   "execution_count": null,
   "source": [
    "# 예제\n",
    "x = 15\n",
    "\n",
    "if x > 10:\n",
    "    print(\"x is greater than 10\")\n",
    "elif x == 10:\n",
    "    print(\"x is equal to 10\")\n",
    "else:\n",
    "    print(\"x is less than 10\")"
   ],
   "id": "b3059305c43277fb"
  },
  {
   "metadata": {},
   "cell_type": "markdown",
   "source": [
    "## 7-9. `pass` 키워드\n",
    "\n",
    "### 설명\n",
    "- 조건이 참일 때 아무것도 실행하지 않고 넘어가도록 설정"
   ],
   "id": "f58d9cdc370126bc"
  },
  {
   "metadata": {},
   "cell_type": "code",
   "outputs": [],
   "execution_count": null,
   "source": [
    "# 예제\n",
    "x = 10\n",
    "\n",
    "if x > 0:\n",
    "    pass  # 조건이 참이지만 실행할 코드가 없음\n",
    "else:\n",
    "    print(\"x is not positive\")"
   ],
   "id": "2d79e1900e65eb1e"
  },
  {
   "metadata": {},
   "cell_type": "markdown",
   "source": [
    "## 7-10. `match-case` (Python 3.10 이상)\n",
    "\n",
    "### 설명\n",
    "- 값에 따라 조건을 분기\n",
    "- 구문:\n",
    "  ```python\n",
    "  match 값:\n",
    "      case 조건1:\n",
    "          실행문\n",
    "      case 조건2:\n",
    "          실행문\n",
    "      case _:\n",
    "          실행문 (기본값)\n",
    "  ```"
   ],
   "id": "7c6d2f3dfc8b5282"
  },
  {
   "metadata": {},
   "cell_type": "code",
   "outputs": [],
   "execution_count": null,
   "source": [
    "# 예제\n",
    "status = 200\n",
    "\n",
    "match status:\n",
    "    case 200:\n",
    "        print(\"OK\")\n",
    "    case 404:\n",
    "        print(\"Not Found\")\n",
    "    case _:\n",
    "        print(\"Unknown Status\")"
   ],
   "id": "c0248c8d62f082a0"
  },
  {
   "metadata": {},
   "cell_type": "markdown",
   "source": [
    "### 요약\n",
    "1. 조건문 기본 구조: `if`, `elif`, `else`\n",
    "2. 중첩 조건문: 조건문 내부에 조건문\n",
    "3. 삼항 연산자: 단일 라인으로 조건 처리\n",
    "4. 논리 연산자: `and`, `or`, `not`\n",
    "5. 특별 연산자: `in`, `is` 조건문 활용\n",
    "6. `pass` 키워드: 조건이 참일 때 아무것도 하지 않음\n",
    "7. `match-case`: 값에 따른 분기 처리"
   ],
   "id": "36a873d49e8fcc59"
  }
 ],
 "metadata": {
  "kernelspec": {
   "display_name": "Python 3",
   "language": "python",
   "name": "python3"
  },
  "language_info": {
   "codemirror_mode": {
    "name": "ipython",
    "version": 2
   },
   "file_extension": ".py",
   "mimetype": "text/x-python",
   "name": "python",
   "nbconvert_exporter": "python",
   "pygments_lexer": "ipython2",
   "version": "2.7.6"
  }
 },
 "nbformat": 4,
 "nbformat_minor": 5
}
