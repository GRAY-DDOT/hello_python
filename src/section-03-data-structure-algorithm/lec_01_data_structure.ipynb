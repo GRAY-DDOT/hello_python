{
 "cells": [
  {
   "metadata": {},
   "cell_type": "markdown",
   "source": [
    "# 1 자료 구조 기초\n",
    "\n",
    "## 1. 자료 구조\n",
    "\n",
    "\n",
    "### 1-1. 원시 자료 구조(primitive)\n",
    "\n",
    "### 1-2. 선형 자료 구조(linear)\n",
    "\n",
    "1. 정적(static)\n",
    "\n",
    "2. 동적(dynamic)\n",
    "\n",
    "### 1-3. 비선형(복합) 자료 구조(non-linear)"
   ],
   "id": "b6df4c6f51369f82"
  },
  {
   "metadata": {},
   "cell_type": "markdown",
   "source": "",
   "id": "f78b28e0ea7f4e5f"
  },
  {
   "cell_type": "code",
   "execution_count": null,
   "id": "initial_id",
   "metadata": {
    "collapsed": true
   },
   "outputs": [],
   "source": [
    ""
   ]
  }
 ],
 "metadata": {
  "kernelspec": {
   "display_name": "Python 3",
   "language": "python",
   "name": "python3"
  },
  "language_info": {
   "codemirror_mode": {
    "name": "ipython",
    "version": 2
   },
   "file_extension": ".py",
   "mimetype": "text/x-python",
   "name": "python",
   "nbconvert_exporter": "python",
   "pygments_lexer": "ipython2",
   "version": "2.7.6"
  }
 },
 "nbformat": 4,
 "nbformat_minor": 5
}
