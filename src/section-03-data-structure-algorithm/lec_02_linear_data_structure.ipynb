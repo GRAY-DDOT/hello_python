{
 "cells": [
  {
   "metadata": {},
   "cell_type": "markdown",
   "source": [
    "# 2 선형 자료 구조\n",
    "\n",
    "데이터를 **일렬로 나열**하여 저장하는 구조\n",
    "배열, 리스트, 스택, 큐, 덱, 연결 리스트 등\n",
    "\n",
    "---"
   ],
   "id": "4a9a16d840f9370e"
  },
  {
   "metadata": {},
   "cell_type": "markdown",
   "source": [
    "## **1. 배열 (Array)**\n",
    "\n",
    "### **설명**\n",
    "- 배열은 동일한 데이터 타입의 요소를 순차적으로 저장하는 자료구조.\n",
    "- 파이썬에서는 `array` 모듈을 사용하여 배열을 다룰 수 있음.\n",
    "- 배열의 크기는 고정되며, 인덱스를 통해 요소에 접근.\n",
    "\n",
    "### **주요 연산**\n",
    "1. 생성: `array.array(typecode, initializer)`\n",
    "2. 접근: `array[index]`\n",
    "3. 삽입/삭제: `append()`, `pop()`, `remove()`\n",
    "4. 탐색: `index()`\n",
    "5. 크기: `len()`\n",
    "\n",
    "---\n",
    "\n",
    "### **코드 예제**"
   ],
   "id": "b9f75bfe638f7399"
  },
  {
   "metadata": {
    "ExecuteTime": {
     "end_time": "2024-12-10T06:18:51.351310Z",
     "start_time": "2024-12-10T06:18:51.346910Z"
    }
   },
   "cell_type": "code",
   "source": [
    "import array\n",
    "\n",
    "# 배열 생성\n",
    "arr = array.array('i', [1, 2, 3, 4, 5])  # 'i': 정수형\n",
    "\n",
    "# 배열 출력\n",
    "print(\"Array:\", arr)\n",
    "\n",
    "# 배열 요소 접근\n",
    "print(\"First element:\", arr[0])  # 1\n",
    "\n",
    "# 배열 요소 추가\n",
    "arr.append(6)\n",
    "print(\"After append:\", arr)\n",
    "\n",
    "# 배열 요소 제거\n",
    "arr.remove(2)\n",
    "print(\"After remove:\", arr)\n",
    "\n",
    "# 배열 길이\n",
    "print(\"Array length:\", len(arr))"
   ],
   "id": "bee595a0a61aebc0",
   "outputs": [
    {
     "name": "stdout",
     "output_type": "stream",
     "text": [
      "Array: array('i', [1, 2, 3, 4, 5])\n",
      "First element: 1\n",
      "After append: array('i', [1, 2, 3, 4, 5, 6])\n",
      "After remove: array('i', [1, 3, 4, 5, 6])\n",
      "Array length: 5\n"
     ]
    }
   ],
   "execution_count": 1
  },
  {
   "metadata": {},
   "cell_type": "markdown",
   "source": [
    "\n",
    "---\n",
    "\n",
    "## **2. 리스트 (List)**\n",
    "\n",
    "### **설명**\n",
    "- 파이썬의 기본 시퀀스(순차) 자료구조, 배열과 유사하지만 **다양한 데이터 타입**을 저장 가능.\n",
    "- 크기가 가변적이며, 요소 삽입/삭제가 간편.\n",
    "\n",
    "### **주요 연산**\n",
    "1. 생성: `[ ]`, `list()`\n",
    "2. 접근: `list[index]`\n",
    "3. 삽입/삭제: `append()`, `insert()`, `pop()`, `remove()`\n",
    "4. 탐색: `index()`\n",
    "5. 크기: `len()`\n",
    "\n",
    "---\n",
    "\n",
    "### **코드 예제**"
   ],
   "id": "9741a73961e7f61"
  },
  {
   "metadata": {},
   "cell_type": "code",
   "outputs": [],
   "execution_count": null,
   "source": [
    "# 리스트 생성\n",
    "lst = [1, 2, 3, 4, 5]\n",
    "\n",
    "# 리스트 출력\n",
    "print(\"List:\", lst)\n",
    "\n",
    "# 요소 접근\n",
    "print(\"First element:\", lst[0])\n",
    "\n",
    "# 요소 추가\n",
    "lst.append(6)\n",
    "print(\"After append:\", lst)\n",
    "\n",
    "# 요소 삽입\n",
    "lst.insert(2, 99)\n",
    "print(\"After insert:\", lst)\n",
    "\n",
    "# 요소 삭제\n",
    "lst.remove(99)\n",
    "print(\"After remove:\", lst)\n",
    "\n",
    "# 리스트 길이\n",
    "print(\"List length:\", len(lst))\n",
    "```"
   ],
   "id": "d5346620c5cb3d5b"
  },
  {
   "metadata": {},
   "cell_type": "markdown",
   "source": [
    "## **3. 스택 (Stack)**\n",
    "\n",
    "### **설명**\n",
    "- **후입선출 (LIFO)** 방식의 자료구조.\n",
    "- 파이썬에서는 리스트를 사용하거나 `collections.deque`를 통해 스택 구현 가능.\n",
    "\n",
    "### **주요 연산**\n",
    "1. 삽입: `append()`\n",
    "2. 삭제: `pop()`\n",
    "3. 보기: `[-1]` (스택의 가장 위 요소 확인)\n",
    "\n",
    "---\n",
    "\n",
    "### **코드 예제**"
   ],
   "id": "63d975f95dee0e01"
  },
  {
   "metadata": {
    "ExecuteTime": {
     "end_time": "2024-12-10T06:23:25.599294Z",
     "start_time": "2024-12-10T06:23:25.595220Z"
    }
   },
   "cell_type": "code",
   "source": [
    "# 스택 구현 using list\n",
    "stack = []\n",
    "\n",
    "# 스택 삽입\n",
    "stack.append(10)\n",
    "stack.append(20)\n",
    "stack.append(30)\n",
    "print(\"Stack after push:\", stack)\n",
    "\n",
    "# 스택 요소 보기\n",
    "print(\"Top element:\", stack[-1])\n",
    "\n",
    "# 스택 삭제\n",
    "stack.pop()\n",
    "print(\"Stack after pop:\", stack)"
   ],
   "id": "3078dc46086bcb04",
   "outputs": [
    {
     "name": "stdout",
     "output_type": "stream",
     "text": [
      "Stack after push: [10, 20, 30]\n",
      "Top element: 30\n",
      "Stack after pop: [10, 20]\n"
     ]
    }
   ],
   "execution_count": 2
  },
  {
   "metadata": {},
   "cell_type": "markdown",
   "source": [
    "## **4. 큐 (Queue)**\n",
    "\n",
    "### **설명**\n",
    "- **선입선출 (FIFO)** 방식의 자료구조.\n",
    "- 파이썬에서는 `collections.deque`를 사용하여 큐를 구현.\n",
    "\n",
    "### **주요 연산**\n",
    "1. 삽입: `append()`\n",
    "2. 삭제: `popleft()`\n",
    "\n",
    "---\n",
    "\n",
    "### **코드 예제**"
   ],
   "id": "9d78642eeb7c239f"
  },
  {
   "metadata": {},
   "cell_type": "code",
   "outputs": [],
   "execution_count": null,
   "source": [
    "from collections import deque\n",
    "\n",
    "# 큐 생성\n",
    "queue = deque()\n",
    "\n",
    "# 큐 삽입\n",
    "queue.append(1)\n",
    "queue.append(2)\n",
    "queue.append(3)\n",
    "print(\"Queue after enqueue:\", queue)\n",
    "\n",
    "# 큐 삭제\n",
    "queue.popleft()\n",
    "print(\"Queue after dequeue:\", queue)\n",
    "```"
   ],
   "id": "58efc4d915d73071"
  },
  {
   "metadata": {},
   "cell_type": "markdown",
   "source": [
    "## **5. 덱 (Deque - Double-Ended Queue)**\n",
    "\n",
    "### **설명**\n",
    "- 양쪽에서 삽입과 삭제가 가능한 자료구조.\n",
    "- 파이썬에서는 `collections.deque`를 사용하여 구현.\n",
    "\n",
    "### **주요 연산**\n",
    "1. 삽입: `append()`, `appendleft()`\n",
    "2. 삭제: `pop()`, `popleft()`\n",
    "\n",
    "---\n",
    "\n",
    "### **코드 예제**\n"
   ],
   "id": "616d0375bcdcf513"
  },
  {
   "metadata": {},
   "cell_type": "code",
   "outputs": [],
   "execution_count": null,
   "source": [
    "from collections import deque\n",
    "\n",
    "# 덱 생성\n",
    "dq = deque()\n",
    "\n",
    "# 덱의 양쪽에 삽입\n",
    "dq.append(10)\n",
    "dq.appendleft(20)\n",
    "print(\"Deque after append:\", dq)\n",
    "\n",
    "# 덱의 양쪽에서 삭제\n",
    "dq.pop()\n",
    "print(\"After pop:\", dq)\n",
    "\n",
    "dq.popleft()\n",
    "print(\"After popleft:\", dq)"
   ],
   "id": "a392151db4dd0df4"
  },
  {
   "metadata": {},
   "cell_type": "markdown",
   "source": [
    "## **6. 연결 리스트 (Linked List)**\n",
    "\n",
    "### **설명**\n",
    "- 각 요소가 **노드**로 이루어진 자료구조. 각 노드는 데이터와 다음 노드에 대한 포인터를 포함.\n",
    "- 파이썬에서는 기본적으로 지원하지 않지만, 클래스를 사용하여 구현 가능.\n",
    "\n",
    "---\n",
    "\n",
    "### **코드 예제**"
   ],
   "id": "a6e02617bc22f9d4"
  },
  {
   "metadata": {},
   "cell_type": "code",
   "outputs": [],
   "execution_count": null,
   "source": [
    "# 노드 클래스 정의\n",
    "class Node:\n",
    "    def __init__(self, data):\n",
    "        self.data = data\n",
    "        self.next = None\n",
    "\n",
    "\n",
    "# 연결 리스트 클래스 정의\n",
    "class LinkedList:\n",
    "    def __init__(self):\n",
    "        self.head = None\n",
    "\n",
    "    # 요소 추가\n",
    "    def append(self, data):\n",
    "        new_node = Node(data)\n",
    "        if not self.head:\n",
    "            self.head = new_node\n",
    "            return\n",
    "        current = self.head\n",
    "        while current.next:\n",
    "            current = current.next\n",
    "        current.next = new_node\n",
    "\n",
    "    # 리스트 출력\n",
    "    def display(self):\n",
    "        current = self.head\n",
    "        while current:\n",
    "            print(current.data, end=\" -> \")\n",
    "            current = current.next\n",
    "        print(\"None\")\n",
    "\n",
    "\n",
    "# 연결 리스트 사용\n",
    "ll = LinkedList()\n",
    "ll.append(1)\n",
    "ll.append(2)\n",
    "ll.append(3)\n",
    "ll.display()  # 1 -> 2 -> 3 -> None"
   ],
   "id": "9df2d7b3a754957b"
  },
  {
   "metadata": {},
   "cell_type": "markdown",
   "source": [
    "## **7. 요약**\n",
    "\n",
    "| **자료구조**  | **파이썬 구현 방법**                     | **특징**                    |\n",
    "|---------------|----------------------------------------|-----------------------------|\n",
    "| **배열**       | `array` 모듈                           | 고정 크기, 동일한 데이터 타입 |\n",
    "| **리스트**     | 파이썬 기본 타입 `[ ]`                 | 크기 가변, 다양한 데이터 타입 |\n",
    "| **스택**       | `list`, `collections.deque`           | 후입선출 (LIFO)              |\n",
    "| **큐**         | `collections.deque`                   | 선입선출 (FIFO)              |\n",
    "| **덱**         | `collections.deque`                   | 양쪽 삽입/삭제 가능          |\n",
    "| **연결 리스트** | 사용자 정의 클래스                     | 동적 크기, 노드 기반          |"
   ],
   "id": "157f591c6ce86ed3"
  }
 ],
 "metadata": {
  "kernelspec": {
   "display_name": "Python 3",
   "language": "python",
   "name": "python3"
  },
  "language_info": {
   "codemirror_mode": {
    "name": "ipython",
    "version": 2
   },
   "file_extension": ".py",
   "mimetype": "text/x-python",
   "name": "python",
   "nbconvert_exporter": "python",
   "pygments_lexer": "ipython2",
   "version": "2.7.6"
  }
 },
 "nbformat": 4,
 "nbformat_minor": 5
}
