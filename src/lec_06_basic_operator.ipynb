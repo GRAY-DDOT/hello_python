{
 "cells": [
  {
   "metadata": {},
   "cell_type": "markdown",
   "source": [
    "# 6. 파이썬 연산자\n",
    "\n",
    "- 산술 연산자\n",
    "- 비교 연산자\n",
    "- 논리 연산자\n",
    "- 비트 연산자\n",
    "- 할당 연산자\n",
    "- 멤버십 연산자\n",
    "- 아이덴티티 연산\n",
    "- 그 외"
   ],
   "id": "6c4d524c1a768bcc"
  },
  {
   "metadata": {},
   "cell_type": "markdown",
   "source": [
    "## 6-1. 산술 연산자 (Arithmetic Operators)\n",
    "\n",
    "- 설명: 숫자 데이터를 계산하는 데 사용\n",
    "- 연산자와 설명:\n",
    "  - `+` (덧셈): 두 값을 더함\n",
    "  - `-` (뺄셈): 두 값을 뺌\n",
    "  - `*` (곱셈): 두 값을 곱함\n",
    "  - `/` (나눗셈): 두 값을 나눔 (소수점 결과 반환)\n",
    "  - `//` (몫): 나눗셈의 몫을 반환\n",
    "  - `%` (나머지): 나눗셈의 나머지를 반환\n",
    "  - `**` (거듭제곱): 왼쪽 값을 오른쪽 값만큼 거듭제곱"
   ],
   "id": "39f063bd32a861f3"
  },
  {
   "metadata": {},
   "cell_type": "code",
   "outputs": [],
   "execution_count": null,
   "source": [
    "# 산술 연산자 예제\n",
    "a = 10\n",
    "b = 3\n",
    "print(\"Addition:\", a + b)  # 13\n",
    "print(\"Subtraction:\", a - b)  # 7\n",
    "print(\"Multiplication:\", a * b)  # 30\n",
    "print(\"Division:\", a / b)  # 3.3333\n",
    "print(\"Floor Division:\", a // b)  # 3\n",
    "print(\"Modulus:\", a % b)  # 1\n",
    "print(\"Exponentiation:\", a ** b)  # 1000"
   ],
   "id": "11b73dd41c94c77b"
  },
  {
   "metadata": {},
   "cell_type": "markdown",
   "source": [
    "## 6-2. 비교 연산자 (Comparison Operators)\n",
    "\n",
    "- 설명: 두 값을 비교하여 참(True) 또는 거짓(False) 반환\n",
    "- 연산자와 설명:\n",
    "  - `==` (같음): 두 값이 같으면 참\n",
    "  - `!=` (다름): 두 값이 다르면 참\n",
    "  - `<` (작음): 왼쪽 값이 작으면 참\n",
    "  - `>` (큼): 왼쪽 값이 크면 참\n",
    "  - `<=` (작거나 같음): 왼쪽 값이 작거나 같으면 참\n",
    "  - `>=` (크거나 같음): 왼쪽 값이 크거나 같으면 참"
   ],
   "id": "efd5f60b13bd1277"
  },
  {
   "metadata": {},
   "cell_type": "code",
   "outputs": [],
   "execution_count": null,
   "source": [
    "# 비교 연산자 예제\n",
    "x = 5\n",
    "y = 10\n",
    "print(\"Equal:\", x == y)  # False\n",
    "print(\"Not Equal:\", x != y)  # True\n",
    "print(\"Less than:\", x < y)  # True\n",
    "print(\"Greater than:\", x > y)  # False\n",
    "print(\"Less or Equal:\", x <= y)  # True\n",
    "print(\"Greater or Equal:\", x >= y)  # False"
   ],
   "id": "298fff37f4cea378"
  },
  {
   "metadata": {},
   "cell_type": "markdown",
   "source": [
    "## 6-3. 논리 연산자 (Logical Operators)\n",
    "\n",
    "- 설명: 조건을 결합하거나 부정\n",
    "- 연산자와 설명:\n",
    "  - `and`: 모두 참이면 참\n",
    "  - `or`: 하나라도 참이면 참\n",
    "  - `not`: 조건을 반전"
   ],
   "id": "3c8bb92a46d64860"
  },
  {
   "metadata": {},
   "cell_type": "code",
   "outputs": [],
   "execution_count": null,
   "source": [
    "# 논리 연산자 예제\n",
    "a = True\n",
    "b = False\n",
    "print(\"AND:\", a and b)  # False\n",
    "print(\"OR:\", a or b)  # True\n",
    "print(\"NOT:\", not a)  # False"
   ],
   "id": "2b9a20e78d03bd9a"
  },
  {
   "metadata": {},
   "cell_type": "markdown",
   "source": [
    "## 6-4. 비트 연산자 (Bitwise Operators)\n",
    "\n",
    "- 설명: 숫자의 비트 단위로 연산\n",
    "- 연산자와 설명:\n",
    "  - `&` (AND): 비트가 모두 1이면 1\n",
    "  - `|` (OR): 비트 중 하나라도 1이면 1\n",
    "  - `^` (XOR): 비트가 다르면 1\n",
    "  - `~` (NOT): 비트를 반전\n",
    "  - `<<` (왼쪽 쉬프트): 비트를 왼쪽으로 이동\n",
    "  - `>>` (오른쪽 쉬프트): 비트를 오른쪽으로 이동"
   ],
   "id": "425edcde58087826"
  },
  {
   "metadata": {},
   "cell_type": "code",
   "outputs": [],
   "execution_count": null,
   "source": [
    "# 비트 연산자 예제\n",
    "x = 5  # 0b0101\n",
    "y = 3  # 0b0011\n",
    "print(\"Bitwise AND:\", x & y)  # 1 (0b0001)\n",
    "print(\"Bitwise OR:\", x | y)  # 7 (0b0111)\n",
    "print(\"Bitwise XOR:\", x ^ y)  # 6 (0b0110)\n",
    "print(\"Bitwise NOT:\", ~x)  # -6 (2의 보수)\n",
    "print(\"Left Shift:\", x << 1)  # 10 (0b1010)\n",
    "print(\"Right Shift:\", x >> 1)  # 2 (0b0010)"
   ],
   "id": "f98e795d35a2c903"
  },
  {
   "metadata": {},
   "cell_type": "markdown",
   "source": [
    "## 6-5. 할당 연산자 (Assignment Operators)\n",
    "\n",
    "- 설명: 값을 변수에 할당하거나 연산 후 결과를 할당\n",
    "- 연산자와 설명:\n",
    "  - `=`: 값을 직접 할당\n",
    "  - `+=`, `-=`, `*=`, `/=`, `//=`, `%=`, `**=`, `&=`, `|=`, `^=`, `>>=`, `<<=`: 복합 할당 연산자"
   ],
   "id": "17930fa037ce26ff"
  },
  {
   "metadata": {},
   "cell_type": "code",
   "outputs": [],
   "execution_count": null,
   "source": [
    "# 할당 연산자 예제\n",
    "x = 10\n",
    "x += 5  # x = x + 5\n",
    "print(\"After +=:\", x)  # 15\n",
    "x *= 2  # x = x * 2\n",
    "print(\"After *=:\", x)  # 30"
   ],
   "id": "ccdce3d834ff5d87"
  },
  {
   "metadata": {},
   "cell_type": "markdown",
   "source": [
    "## 6-6. 멤버십 연산자 (Membership Operators)\n",
    "\n",
    "- 설명: 특정 값이 시퀀스(리스트, 튜플 등)에 포함되어 있는지 확인\n",
    "- 연산자와 설명:\n",
    "  - `in`: 값이 포함되어 있으면 참\n",
    "  - `not in`: 값이 포함되어 있지 않으면 참"
   ],
   "id": "55b94144244440f0"
  },
  {
   "metadata": {},
   "cell_type": "code",
   "outputs": [],
   "execution_count": null,
   "source": [
    "# 멤버십 연산자 예제\n",
    "lst = [1, 2, 3]\n",
    "print(\"Is 2 in list?\", 2 in lst)  # True\n",
    "print(\"Is 4 not in list?\", 4 not in lst)  # True"
   ],
   "id": "6af19440afdf814e"
  },
  {
   "metadata": {},
   "cell_type": "markdown",
   "source": [
    "## 6-7. 아이덴티티 연산자 (Identity Operators)\n",
    "\n",
    "- 설명: 두 객체가 같은 메모리 위치를 참조하는지 확인\n",
    "- 연산자와 설명:\n",
    "  - `is`: 같은 객체를 참조하면 참\n",
    "  - `is not`: 다른 객체를 참조하면 참"
   ],
   "id": "3776d0f25dd44a80"
  },
  {
   "metadata": {},
   "cell_type": "code",
   "outputs": [],
   "execution_count": null,
   "source": [
    "# 아이덴티티 연산자 예제\n",
    "x = [1, 2, 3]\n",
    "y = x\n",
    "z = [1, 2, 3]\n",
    "print(\"x is y:\", x is y)  # True (같은 객체)\n",
    "print(\"x is z:\", x is z)  # False (다른 객체)\n",
    "print(\"x is not z:\", x is not z)  # True"
   ],
   "id": "99e8675e237fbcbf"
  }
 ],
 "metadata": {
  "kernelspec": {
   "display_name": "Python 3",
   "language": "python",
   "name": "python3"
  },
  "language_info": {
   "codemirror_mode": {
    "name": "ipython",
    "version": 2
   },
   "file_extension": ".py",
   "mimetype": "text/x-python",
   "name": "python",
   "nbconvert_exporter": "python",
   "pygments_lexer": "ipython2",
   "version": "2.7.6"
  }
 },
 "nbformat": 4,
 "nbformat_minor": 5
}
