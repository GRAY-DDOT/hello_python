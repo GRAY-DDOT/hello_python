{
 "cells": [
  {
   "metadata": {},
   "cell_type": "markdown",
   "source": [
    "# 2 문자열\n",
    "\n",
    "## 2-1. 대소문자 변환 관련\n",
    "- `str.upper()`: 모든 문자를 대문자로 변환\n",
    "- `str.lower()`: 모든 문자를 소문자로 변환\n",
    "- `str.capitalize()`: 첫 번째 문자를 대문자로 변환\n",
    "- `str.title()`: 각 단어의 첫 문자를 대문자로 변환\n",
    "- `str.swapcase()`: 대문자를 소문자로, 소문자를 대문자로 변환"
   ],
   "id": "94f4ea7bb8360bed"
  },
  {
   "metadata": {
    "ExecuteTime": {
     "end_time": "2024-11-24T05:57:56.983008Z",
     "start_time": "2024-11-24T05:57:56.980702Z"
    }
   },
   "cell_type": "code",
   "source": [
    "s = \"hello Python\"\n",
    "print(s.upper())  # HELLO PYTHON\n",
    "print(s.lower())  # hello python\n",
    "print(s.capitalize())  # Hello python\n",
    "print(s.title())  # Hello Python\n",
    "print(s.swapcase())  # HELLO pYTHON"
   ],
   "id": "18aa52e84f8650e5",
   "outputs": [
    {
     "name": "stdout",
     "output_type": "stream",
     "text": [
      "HELLO PYTHON\n",
      "hello python\n",
      "Hello python\n",
      "Hello Python\n",
      "HELLO pYTHON\n"
     ]
    }
   ],
   "execution_count": 1
  },
  {
   "metadata": {},
   "cell_type": "markdown",
   "source": [
    "## 2-2. 검색 및 탐색\n",
    "- `str.find(sub[, start[, end]])`: 부분 문자열의 첫 번째 인덱스를 반환, 없으면 -1\n",
    "- `str.rfind(sub[, start[, end]])`: 오른쪽에서 검색\n",
    "- `str.index(sub[, start[, end]])`: find와 같지만, 없으면 ValueError 발생\n",
    "- `str.rindex(sub[, start[, end]])`: 오른쪽에서 검색하며 없으면 ValueError 발생\n",
    "- `str.startswith(prefix[, start[, end]])`: 문자열이 특정 접두사로 시작하면 True\n",
    "- `str.endswith(suffix[, start[, end]])`: 문자열이 특정 접미사로 끝나면 True"
   ],
   "id": "8cf6e80add442aec"
  },
  {
   "metadata": {
    "ExecuteTime": {
     "end_time": "2024-11-24T05:59:25.159120Z",
     "start_time": "2024-11-24T05:59:25.156477Z"
    }
   },
   "cell_type": "code",
   "source": [
    "s = \"hello Python\"\n",
    "print(s.find(\"Python\"))  # 6\n",
    "print(s.rfind(\"o\"))  # 10\n",
    "print(s.startswith(\"hello\"))  # True\n",
    "print(s.endswith(\"thon\"))  # True"
   ],
   "id": "1798e9b154024c0e",
   "outputs": [
    {
     "name": "stdout",
     "output_type": "stream",
     "text": [
      "6\n",
      "10\n",
      "True\n",
      "True\n"
     ]
    }
   ],
   "execution_count": 2
  },
  {
   "metadata": {},
   "cell_type": "markdown",
   "source": [
    "# 2-3. 문자열 조작\n",
    "- `str.replace(old, new[, count])`: 부분 문자열을 다른 문자열로 교체\n",
    "- `str.join(iterable)`: 문자열을 기준으로 반복 가능한 객체를 결합\n",
    "- `str.split(sep=None, maxsplit=-1)`: 구분자를 기준으로 나눔\n",
    "- `str.rsplit(sep=None, maxsplit=-1)`: 오른쪽부터 나눔\n",
    "- `str.splitlines(keepends=False)`: 줄바꿈 문자 기준으로 나눔\n",
    "- `str.strip([chars])`: 양쪽 공백 또는 특정 문자를 제거\n",
    "- `str.lstrip([chars])`: 왼쪽 공백 또는 특정 문자를 제거\n",
    "- `str.rstrip([chars])`: 오른쪽 공백 또는 특정 문자를 제거\n",
    "- `str.partition(sep)`: 구분자를 기준으로 3부분으로 나눔\n",
    "- `str.rpartition(sep)`: 오른쪽부터 나눔"
   ],
   "id": "83e74f54a6996d7c"
  },
  {
   "metadata": {
    "ExecuteTime": {
     "end_time": "2024-11-24T06:01:51.770543Z",
     "start_time": "2024-11-24T06:01:51.767321Z"
    }
   },
   "cell_type": "code",
   "source": [
    "s = \"  hello Python  \"\n",
    "print(s.replace(\"Python\", \"World\"))  # hello World\n",
    "print(\"-\".join([\"a\", \"b\", \"c\"]))  # a-b-c\n",
    "print(s.split())  # ['hello', 'Python']\n",
    "print(s.strip())  # hello Python\n",
    "print(s.lstrip())  # hello Python\n",
    "print(s.partition(\" \"))  # ('', ' ', 'hello Python  ')"
   ],
   "id": "86bc10ce9de1f651",
   "outputs": [
    {
     "name": "stdout",
     "output_type": "stream",
     "text": [
      "  hello World  \n",
      "a-b-c\n",
      "['hello', 'Python']\n",
      "hello Python\n",
      "hello Python  \n",
      "('', ' ', ' hello Python  ')\n"
     ]
    }
   ],
   "execution_count": 3
  },
  {
   "metadata": {},
   "cell_type": "markdown",
   "source": [
    "## 2-4. 서식 및 정렬\n",
    "- `str.center(width[, fillchar])`: 문자열을 가운데 정렬\n",
    "- `str.ljust(width[, fillchar])`: 문자열을 왼쪽 정렬\n",
    "- `str.rjust(width[, fillchar])`: 문자열을 오른쪽 정렬\n",
    "- `str.zfill(width)`: 왼쪽을 0으로 채움"
   ],
   "id": "f0f47a591c1ae288"
  },
  {
   "metadata": {
    "ExecuteTime": {
     "end_time": "2024-11-24T06:02:30.621491Z",
     "start_time": "2024-11-24T06:02:30.617467Z"
    }
   },
   "cell_type": "code",
   "source": [
    "s = \"Python\"\n",
    "print(s.center(10, \"*\"))  # **Python**\n",
    "print(s.ljust(10, \"-\"))  # Python----\n",
    "print(s.rjust(10, \"-\"))  # ----Python\n",
    "print(s.zfill(10))  # 0000Python"
   ],
   "id": "760c07db867085e0",
   "outputs": [
    {
     "name": "stdout",
     "output_type": "stream",
     "text": [
      "**Python**\n",
      "Python----\n",
      "----Python\n",
      "0000Python\n"
     ]
    }
   ],
   "execution_count": 4
  },
  {
   "metadata": {},
   "cell_type": "markdown",
   "source": [
    "## 2-5. 판별 메서드\n",
    "- `str.isalpha()`: 알파벳만 포함하면 True\n",
    "- `str.isdigit()`: 숫자만 포함하면 True\n",
    "- `str.isalnum()`: 알파벳+숫자만 포함하면 True\n",
    "- `str.isspace()`: 공백만 포함하면 True\n",
    "- `str.islower()`: 모든 문자가 소문자면 True\n",
    "- `str.isupper()`: 모든 문자가 대문자면 True\n",
    "- `str.istitle()`: 각 단어의 첫 문자가 대문자면 True"
   ],
   "id": "9ce4fd6c12017ddf"
  },
  {
   "metadata": {
    "ExecuteTime": {
     "end_time": "2024-11-24T06:03:45.593494Z",
     "start_time": "2024-11-24T06:03:45.590724Z"
    }
   },
   "cell_type": "code",
   "source": [
    "s = \"Hello\"\n",
    "print(s.isalpha())  # True\n",
    "print(\"123\".isdigit())  # True\n",
    "print(\"Hello123\".isalnum())  # True\n",
    "print(\"   \".isspace())  # True"
   ],
   "id": "9e62122cf63604a6",
   "outputs": [
    {
     "name": "stdout",
     "output_type": "stream",
     "text": [
      "True\n",
      "True\n",
      "True\n",
      "True\n"
     ]
    }
   ],
   "execution_count": 5
  },
  {
   "metadata": {},
   "cell_type": "markdown",
   "source": [
    "## 2-6. 기타\n",
    "\n",
    "- `str.count(sub[, start[, end]])`: 부분 문자열의 개수 반환\n",
    "- `str.encode(encoding='utf-8', errors='strict')`: 문자열을 인코딩\n",
    "- `str.expandtabs(tabsize=8)`: 탭을 공백으로 변환\n",
    "- `str.casefold()`: 대소문자 구분 없이 비교할 수 있도록 변환\n",
    "- `str.maketrans(x, y=None, z=None)`: 변환 테이블 생성\n",
    "- `str.translate(table)`: 변환 테이블로 문자열 변환"
   ],
   "id": "34883fca22e0bee3"
  },
  {
   "metadata": {},
   "cell_type": "code",
   "outputs": [],
   "execution_count": null,
   "source": [
    "s = \"hello world\"\n",
    "print(s.count(\"o\"))  # 2\n",
    "print(s.encode())  # b'hello world'\n",
    "print(s.expandtabs(4))  # hello world\n",
    "print(s.casefold())  # hello world\n",
    "\n",
    "# maketrans and translate\n",
    "table = str.maketrans(\"aeiou\", \"12345\")\n",
    "print(\"hello\".translate(table))  # h2ll4"
   ],
   "id": "e02a95233fd8e310"
  }
 ],
 "metadata": {
  "kernelspec": {
   "display_name": "Python 3",
   "language": "python",
   "name": "python3"
  },
  "language_info": {
   "codemirror_mode": {
    "name": "ipython",
    "version": 2
   },
   "file_extension": ".py",
   "mimetype": "text/x-python",
   "name": "python",
   "nbconvert_exporter": "python",
   "pygments_lexer": "ipython2",
   "version": "2.7.6"
  }
 },
 "nbformat": 4,
 "nbformat_minor": 5
}
